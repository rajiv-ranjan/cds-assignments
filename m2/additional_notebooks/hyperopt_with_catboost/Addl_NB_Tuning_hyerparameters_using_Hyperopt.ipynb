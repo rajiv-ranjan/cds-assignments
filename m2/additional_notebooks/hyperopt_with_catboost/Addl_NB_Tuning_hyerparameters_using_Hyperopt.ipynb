{
 "cells": [
  {
   "cell_type": "markdown",
   "metadata": {
    "id": "zZbO1TP3GWLl"
   },
   "source": [
    "# Advanced Certification Program in Computational Data Science\n",
    "## A program by IISc and TalentSprint\n",
    "### Additional Notebook (ungraded): CatBoost parameter tuning"
   ]
  },
  {
   "cell_type": "markdown",
   "metadata": {
    "id": "ssvaS0BoGWLp"
   },
   "source": [
    "## Learning Objectives"
   ]
  },
  {
   "cell_type": "markdown",
   "metadata": {
    "id": "zC3yBYSkGWLp"
   },
   "source": [
    "At the end of the experiment, you will be able to\n",
    "\n",
    "- perform model training, cross-validation and prediction using CatBoost\n",
    "- explore some useful features of CatBoost like early stopping,  snapshot support, feature importances, etc\n",
    "- implement hyperparameter tuning"
   ]
  },
  {
   "cell_type": "markdown",
   "metadata": {
    "id": "3wDGpB4AGWLq"
   },
   "source": [
    "## Introduction"
   ]
  },
  {
   "cell_type": "markdown",
   "metadata": {
    "id": "35VIuXX_MGq-"
   },
   "source": [
    "CatBoost or Categorical Boosting is an algorithm for gradient boosting on decision trees. It is developed by Yandex researchers and engineers, and is used for search, recommendation systems, personal assistant, self-driving cars, weather prediction and many other tasks at Yandex and in other companies. It is a high-performance open source library for gradient boosting on decision trees and can be used by anyone.\n",
    "\n",
    "<center>\n",
    "<image src=https://affine.ai/wp-content/uploads/2022/01/120.png width=350px>\n",
    "</center>\n",
    "\n",
    "Some of the features of CatBoost are:\n",
    "\n",
    "- **Great quality without parameter tuning**: Reduce time spent on parameter tuning, as it provides great results with default parameters\n",
    "- **Categorical features support**: Improve the training results that allows us to use non-numeric factors, instead of having to pre-process the data or spend time and effort turning it to numbers\n",
    "- **Fast and scalable GPU version**: Train the model on a fast implementation of gradient-boosting algorithm for GPU\n",
    "- **Improved accuracy**: Reduce overfitting when constructing the models with a novel gradient-boosting scheme\n",
    "- **Fast prediction**: Apply the trained model quickly and efficiently even to latency-critical tasks using it's model applier\n",
    "\n",
    "The CatBoost library can be used to solve both classification and regression tasks. For classification, we can use **`CatBoostClassifier`** and for regression, **`CatBoostRegressor`**.\n",
    "\n",
    "To know more about CatBoost, refer [here](https://catboost.ai/en/docs/)."
   ]
  },
  {
   "cell_type": "markdown",
   "metadata": {
    "id": "Yon7buaRRFz9"
   },
   "source": [
    "### Dataset Description"
   ]
  },
  {
   "cell_type": "markdown",
   "metadata": {
    "id": "dKAynoGwr-au"
   },
   "source": [
    "[Titanic dataset](https://www.kaggle.com/c/titanic/data) contains passenger data, i.e., name, age, gender, socio-economic class, etc. The brief description of features is given below.\n",
    "\n",
    "<br>\n",
    "\n",
    "| Variable | Definition | Key |\n",
    "|:--------|:--------|:--------|\n",
    "|survival | Survival | 0 = No, 1 = Yes |\n",
    "| pclass | Ticket class (a proxy for socio-economic status (SES)) | 1 = 1st (Upper), 2 = 2nd (Middle), 3 = 3rd (Lower)|\n",
    "| sex| Sex | |\n",
    "| Age | Age in years | Age is fractional if less than 1. If the age is estimated, it is in the form of xx.5 |\n",
    "| sibsp | # of siblings / spouses aboard the Titanic | |\n",
    "| parch | # of parents / children aboard the Titanic | Some children travelled only with a nanny, therefore parch=0 for them |\n",
    "| ticket | Ticket number | |\n",
    "| fare | Passenger fare | |\n",
    "| cabin | Cabin number | |\n",
    "| embarked | Port of Embarkation | C = Cherbourg, Q = Queenstown, S = Southampton |\n",
    "\n",
    "<br>\n",
    "\n",
    "Here, we will be predicting survival on the Titanic using passengers' data."
   ]
  },
  {
   "cell_type": "markdown",
   "metadata": {
    "id": "zV9JjuNrGWLs"
   },
   "source": [
    "### Import required packages"
   ]
  },
  {
   "cell_type": "code",
   "execution_count": 1,
   "metadata": {
    "id": "cb4pvvIDvDh4"
   },
   "outputs": [],
   "source": [
    "# !pip -qq install catboost\n"
   ]
  },
  {
   "cell_type": "code",
   "execution_count": 2,
   "metadata": {
    "id": "gL4hjwyJGWLt"
   },
   "outputs": [],
   "source": [
    "import numpy as np\n",
    "import matplotlib.pyplot as plt\n",
    "from sklearn.model_selection import train_test_split\n",
    "from sklearn.metrics import accuracy_score\n",
    "from catboost.datasets import titanic\n",
    "from catboost import CatBoostClassifier, Pool, metrics, cv\n"
   ]
  },
  {
   "cell_type": "markdown",
   "metadata": {
    "id": "hO2yjVh572PI"
   },
   "source": [
    "### Load Dataset"
   ]
  },
  {
   "cell_type": "code",
   "execution_count": 3,
   "metadata": {
    "id": "_b4l5jGUr-av"
   },
   "outputs": [
    {
     "data": {
      "text/html": [
       "<div>\n",
       "<style scoped>\n",
       "    .dataframe tbody tr th:only-of-type {\n",
       "        vertical-align: middle;\n",
       "    }\n",
       "\n",
       "    .dataframe tbody tr th {\n",
       "        vertical-align: top;\n",
       "    }\n",
       "\n",
       "    .dataframe thead th {\n",
       "        text-align: right;\n",
       "    }\n",
       "</style>\n",
       "<table border=\"1\" class=\"dataframe\">\n",
       "  <thead>\n",
       "    <tr style=\"text-align: right;\">\n",
       "      <th></th>\n",
       "      <th>PassengerId</th>\n",
       "      <th>Survived</th>\n",
       "      <th>Pclass</th>\n",
       "      <th>Name</th>\n",
       "      <th>Sex</th>\n",
       "      <th>Age</th>\n",
       "      <th>SibSp</th>\n",
       "      <th>Parch</th>\n",
       "      <th>Ticket</th>\n",
       "      <th>Fare</th>\n",
       "      <th>Cabin</th>\n",
       "      <th>Embarked</th>\n",
       "    </tr>\n",
       "  </thead>\n",
       "  <tbody>\n",
       "    <tr>\n",
       "      <th>0</th>\n",
       "      <td>1</td>\n",
       "      <td>0</td>\n",
       "      <td>3</td>\n",
       "      <td>Braund, Mr. Owen Harris</td>\n",
       "      <td>male</td>\n",
       "      <td>22.0</td>\n",
       "      <td>1</td>\n",
       "      <td>0</td>\n",
       "      <td>A/5 21171</td>\n",
       "      <td>7.2500</td>\n",
       "      <td>NaN</td>\n",
       "      <td>S</td>\n",
       "    </tr>\n",
       "    <tr>\n",
       "      <th>1</th>\n",
       "      <td>2</td>\n",
       "      <td>1</td>\n",
       "      <td>1</td>\n",
       "      <td>Cumings, Mrs. John Bradley (Florence Briggs Th...</td>\n",
       "      <td>female</td>\n",
       "      <td>38.0</td>\n",
       "      <td>1</td>\n",
       "      <td>0</td>\n",
       "      <td>PC 17599</td>\n",
       "      <td>71.2833</td>\n",
       "      <td>C85</td>\n",
       "      <td>C</td>\n",
       "    </tr>\n",
       "    <tr>\n",
       "      <th>2</th>\n",
       "      <td>3</td>\n",
       "      <td>1</td>\n",
       "      <td>3</td>\n",
       "      <td>Heikkinen, Miss. Laina</td>\n",
       "      <td>female</td>\n",
       "      <td>26.0</td>\n",
       "      <td>0</td>\n",
       "      <td>0</td>\n",
       "      <td>STON/O2. 3101282</td>\n",
       "      <td>7.9250</td>\n",
       "      <td>NaN</td>\n",
       "      <td>S</td>\n",
       "    </tr>\n",
       "    <tr>\n",
       "      <th>3</th>\n",
       "      <td>4</td>\n",
       "      <td>1</td>\n",
       "      <td>1</td>\n",
       "      <td>Futrelle, Mrs. Jacques Heath (Lily May Peel)</td>\n",
       "      <td>female</td>\n",
       "      <td>35.0</td>\n",
       "      <td>1</td>\n",
       "      <td>0</td>\n",
       "      <td>113803</td>\n",
       "      <td>53.1000</td>\n",
       "      <td>C123</td>\n",
       "      <td>S</td>\n",
       "    </tr>\n",
       "    <tr>\n",
       "      <th>4</th>\n",
       "      <td>5</td>\n",
       "      <td>0</td>\n",
       "      <td>3</td>\n",
       "      <td>Allen, Mr. William Henry</td>\n",
       "      <td>male</td>\n",
       "      <td>35.0</td>\n",
       "      <td>0</td>\n",
       "      <td>0</td>\n",
       "      <td>373450</td>\n",
       "      <td>8.0500</td>\n",
       "      <td>NaN</td>\n",
       "      <td>S</td>\n",
       "    </tr>\n",
       "  </tbody>\n",
       "</table>\n",
       "</div>"
      ],
      "text/plain": [
       "   PassengerId  Survived  Pclass  \\\n",
       "0            1         0       3   \n",
       "1            2         1       1   \n",
       "2            3         1       3   \n",
       "3            4         1       1   \n",
       "4            5         0       3   \n",
       "\n",
       "                                                Name     Sex   Age  SibSp  \\\n",
       "0                            Braund, Mr. Owen Harris    male  22.0      1   \n",
       "1  Cumings, Mrs. John Bradley (Florence Briggs Th...  female  38.0      1   \n",
       "2                             Heikkinen, Miss. Laina  female  26.0      0   \n",
       "3       Futrelle, Mrs. Jacques Heath (Lily May Peel)  female  35.0      1   \n",
       "4                           Allen, Mr. William Henry    male  35.0      0   \n",
       "\n",
       "   Parch            Ticket     Fare Cabin Embarked  \n",
       "0      0         A/5 21171   7.2500   NaN        S  \n",
       "1      0          PC 17599  71.2833   C85        C  \n",
       "2      0  STON/O2. 3101282   7.9250   NaN        S  \n",
       "3      0            113803  53.1000  C123        S  \n",
       "4      0            373450   8.0500   NaN        S  "
      ]
     },
     "execution_count": 3,
     "metadata": {},
     "output_type": "execute_result"
    }
   ],
   "source": [
    "# Create training and testing dataset\n",
    "train_df, test_df = titanic()\n",
    "train_df.head()\n"
   ]
  },
  {
   "cell_type": "code",
   "execution_count": 4,
   "metadata": {
    "id": "5fjxxusd4I2W"
   },
   "outputs": [
    {
     "data": {
      "text/plain": [
       "((891, 12), (418, 11))"
      ]
     },
     "execution_count": 4,
     "metadata": {},
     "output_type": "execute_result"
    }
   ],
   "source": [
    "# Shape\n",
    "train_df.shape, test_df.shape\n"
   ]
  },
  {
   "cell_type": "markdown",
   "metadata": {
    "id": "QA6CErIOr-a0"
   },
   "source": [
    "### Check for missing values in training set"
   ]
  },
  {
   "cell_type": "code",
   "execution_count": 5,
   "metadata": {
    "id": "6FpL4vnUShSn"
   },
   "outputs": [
    {
     "data": {
      "text/plain": [
       "PassengerId      0\n",
       "Survived         0\n",
       "Pclass           0\n",
       "Name             0\n",
       "Sex              0\n",
       "Age            177\n",
       "SibSp            0\n",
       "Parch            0\n",
       "Ticket           0\n",
       "Fare             0\n",
       "Cabin          687\n",
       "Embarked         2\n",
       "dtype: int64"
      ]
     },
     "execution_count": 5,
     "metadata": {},
     "output_type": "execute_result"
    }
   ],
   "source": [
    "# Check for missing values\n",
    "train_df.isnull().sum()\n"
   ]
  },
  {
   "cell_type": "markdown",
   "metadata": {
    "id": "r_rfZcjvr-a4"
   },
   "source": [
    "From the above results, we can see that **`Age`**, **`Cabin`** and **`Embarked`** have some missing values.\n",
    "\n",
    "Now let's fill the missing values with some number way out of their distributions, so the model would be able to easily distinguish between them and take it into account."
   ]
  },
  {
   "cell_type": "code",
   "execution_count": 6,
   "metadata": {
    "id": "0PuMwzmQr-a5"
   },
   "outputs": [],
   "source": [
    "# Fill the missing values with -999\n",
    "train_df.fillna(-999, inplace=True)\n",
    "test_df.fillna(-999, inplace=True)\n"
   ]
  },
  {
   "cell_type": "code",
   "execution_count": 7,
   "metadata": {
    "id": "OqJn8wfUT-3h"
   },
   "outputs": [
    {
     "data": {
      "text/html": [
       "<div>\n",
       "<style scoped>\n",
       "    .dataframe tbody tr th:only-of-type {\n",
       "        vertical-align: middle;\n",
       "    }\n",
       "\n",
       "    .dataframe tbody tr th {\n",
       "        vertical-align: top;\n",
       "    }\n",
       "\n",
       "    .dataframe thead th {\n",
       "        text-align: right;\n",
       "    }\n",
       "</style>\n",
       "<table border=\"1\" class=\"dataframe\">\n",
       "  <thead>\n",
       "    <tr style=\"text-align: right;\">\n",
       "      <th></th>\n",
       "      <th>PassengerId</th>\n",
       "      <th>Survived</th>\n",
       "      <th>Pclass</th>\n",
       "      <th>Name</th>\n",
       "      <th>Sex</th>\n",
       "      <th>Age</th>\n",
       "      <th>SibSp</th>\n",
       "      <th>Parch</th>\n",
       "      <th>Ticket</th>\n",
       "      <th>Fare</th>\n",
       "      <th>Cabin</th>\n",
       "      <th>Embarked</th>\n",
       "    </tr>\n",
       "  </thead>\n",
       "  <tbody>\n",
       "    <tr>\n",
       "      <th>0</th>\n",
       "      <td>1</td>\n",
       "      <td>0</td>\n",
       "      <td>3</td>\n",
       "      <td>Braund, Mr. Owen Harris</td>\n",
       "      <td>male</td>\n",
       "      <td>22.0</td>\n",
       "      <td>1</td>\n",
       "      <td>0</td>\n",
       "      <td>A/5 21171</td>\n",
       "      <td>7.2500</td>\n",
       "      <td>-999</td>\n",
       "      <td>S</td>\n",
       "    </tr>\n",
       "    <tr>\n",
       "      <th>1</th>\n",
       "      <td>2</td>\n",
       "      <td>1</td>\n",
       "      <td>1</td>\n",
       "      <td>Cumings, Mrs. John Bradley (Florence Briggs Th...</td>\n",
       "      <td>female</td>\n",
       "      <td>38.0</td>\n",
       "      <td>1</td>\n",
       "      <td>0</td>\n",
       "      <td>PC 17599</td>\n",
       "      <td>71.2833</td>\n",
       "      <td>C85</td>\n",
       "      <td>C</td>\n",
       "    </tr>\n",
       "    <tr>\n",
       "      <th>2</th>\n",
       "      <td>3</td>\n",
       "      <td>1</td>\n",
       "      <td>3</td>\n",
       "      <td>Heikkinen, Miss. Laina</td>\n",
       "      <td>female</td>\n",
       "      <td>26.0</td>\n",
       "      <td>0</td>\n",
       "      <td>0</td>\n",
       "      <td>STON/O2. 3101282</td>\n",
       "      <td>7.9250</td>\n",
       "      <td>-999</td>\n",
       "      <td>S</td>\n",
       "    </tr>\n",
       "    <tr>\n",
       "      <th>3</th>\n",
       "      <td>4</td>\n",
       "      <td>1</td>\n",
       "      <td>1</td>\n",
       "      <td>Futrelle, Mrs. Jacques Heath (Lily May Peel)</td>\n",
       "      <td>female</td>\n",
       "      <td>35.0</td>\n",
       "      <td>1</td>\n",
       "      <td>0</td>\n",
       "      <td>113803</td>\n",
       "      <td>53.1000</td>\n",
       "      <td>C123</td>\n",
       "      <td>S</td>\n",
       "    </tr>\n",
       "    <tr>\n",
       "      <th>4</th>\n",
       "      <td>5</td>\n",
       "      <td>0</td>\n",
       "      <td>3</td>\n",
       "      <td>Allen, Mr. William Henry</td>\n",
       "      <td>male</td>\n",
       "      <td>35.0</td>\n",
       "      <td>0</td>\n",
       "      <td>0</td>\n",
       "      <td>373450</td>\n",
       "      <td>8.0500</td>\n",
       "      <td>-999</td>\n",
       "      <td>S</td>\n",
       "    </tr>\n",
       "  </tbody>\n",
       "</table>\n",
       "</div>"
      ],
      "text/plain": [
       "   PassengerId  Survived  Pclass  \\\n",
       "0            1         0       3   \n",
       "1            2         1       1   \n",
       "2            3         1       3   \n",
       "3            4         1       1   \n",
       "4            5         0       3   \n",
       "\n",
       "                                                Name     Sex   Age  SibSp  \\\n",
       "0                            Braund, Mr. Owen Harris    male  22.0      1   \n",
       "1  Cumings, Mrs. John Bradley (Florence Briggs Th...  female  38.0      1   \n",
       "2                             Heikkinen, Miss. Laina  female  26.0      0   \n",
       "3       Futrelle, Mrs. Jacques Heath (Lily May Peel)  female  35.0      1   \n",
       "4                           Allen, Mr. William Henry    male  35.0      0   \n",
       "\n",
       "   Parch            Ticket     Fare Cabin Embarked  \n",
       "0      0         A/5 21171   7.2500  -999        S  \n",
       "1      0          PC 17599  71.2833   C85        C  \n",
       "2      0  STON/O2. 3101282   7.9250  -999        S  \n",
       "3      0            113803  53.1000  C123        S  \n",
       "4      0            373450   8.0500  -999        S  "
      ]
     },
     "execution_count": 7,
     "metadata": {},
     "output_type": "execute_result"
    }
   ],
   "source": [
    "train_df.head()\n"
   ]
  },
  {
   "cell_type": "markdown",
   "metadata": {
    "id": "KI1qUv-0r-a6"
   },
   "source": [
    "### Separate features and label variable"
   ]
  },
  {
   "cell_type": "code",
   "execution_count": 8,
   "metadata": {
    "id": "Dxd2qBJzr-a7"
   },
   "outputs": [
    {
     "data": {
      "text/plain": [
       "((891, 11), (891,))"
      ]
     },
     "execution_count": 8,
     "metadata": {},
     "output_type": "execute_result"
    }
   ],
   "source": [
    "# Features\n",
    "X = train_df.drop(\"Survived\", axis=1)\n",
    "# Label\n",
    "y = train_df[\"Survived\"]\n",
    "\n",
    "X.shape, y.shape\n"
   ]
  },
  {
   "cell_type": "markdown",
   "metadata": {
    "id": "1aE02zCTr-a7"
   },
   "source": [
    "**Note that** our features are of different types - some of them are numeric, some are categorical, and some are even just strings, which normally should be handled in some specific way (for example encoded with bag-of-words representation). But in our case we could treat these string features just as categorical features and all the heavy lifting is done inside CatBoost."
   ]
  },
  {
   "cell_type": "code",
   "execution_count": 9,
   "metadata": {
    "id": "Uoi_v5f-r-a8"
   },
   "outputs": [
    {
     "name": "stdout",
     "output_type": "stream",
     "text": [
      "PassengerId      int64\n",
      "Pclass           int64\n",
      "Name            object\n",
      "Sex             object\n",
      "Age            float64\n",
      "SibSp            int64\n",
      "Parch            int64\n",
      "Ticket          object\n",
      "Fare           float64\n",
      "Cabin           object\n",
      "Embarked        object\n",
      "dtype: object\n"
     ]
    },
    {
     "data": {
      "text/plain": [
       "array([ 0,  1,  2,  3,  5,  6,  7,  9, 10])"
      ]
     },
     "execution_count": 9,
     "metadata": {},
     "output_type": "execute_result"
    }
   ],
   "source": [
    "# Get categorical features indices by selecting the features which are of type other than float\n",
    "print(X.dtypes)\n",
    "categorical_features_indices = np.where(X.dtypes != float)[\n",
    "    0\n",
    "]  # np.where will give indices where the condition is True\n",
    "categorical_features_indices\n"
   ]
  },
  {
   "cell_type": "markdown",
   "metadata": {
    "id": "v3fuqE2tr-a9"
   },
   "source": [
    "### Split the train data into training and validation sets"
   ]
  },
  {
   "cell_type": "code",
   "execution_count": 10,
   "metadata": {
    "id": "vFsR2HOkr-a-"
   },
   "outputs": [],
   "source": [
    "# Create training and validation sets\n",
    "X_train, X_validation, y_train, y_validation = train_test_split(\n",
    "    X, y, train_size=0.75, random_state=42\n",
    ")\n",
    "X_test = test_df\n"
   ]
  },
  {
   "cell_type": "markdown",
   "metadata": {
    "id": "VCCLz_bzr-bB"
   },
   "source": [
    "### Model Training\n",
    "\n",
    "To create the model we will use **`CatBoostClassifier`** class with default parameters, as they provide a good baseline almost all the time.\n",
    "\n",
    "Some of its parameters are:\n",
    "\n",
    "- ***custom_loss***: This would give us an ability to see what's going on in terms of accuracy or any other metric\n",
    "- ***logging_level***: The logging level to show in output. Possible values:\n",
    "    - Silent — Do not output any logging information\n",
    "    - Verbose — Output the following data:\n",
    "        - optimized metric\n",
    "        - elapsed time of training\n",
    "        - remaining time of training\n",
    "    - Info — Output additional information and the number of trees\n",
    "    - Debug — Output debugging information\n",
    "\n",
    "To know more about **`CatBoostClassifier`**, refer [here](https://catboost.ai/en/docs/concepts/python-reference_catboostclassifier).\n",
    "\n",
    "To know more about **`CatBoostClassifier's`** training parameters, refer [here](https://catboost.ai/en/docs/references/training-parameters/)."
   ]
  },
  {
   "cell_type": "code",
   "execution_count": 11,
   "metadata": {
    "id": "o22BqsGUr-bB"
   },
   "outputs": [],
   "source": [
    "# Create CatBoost model\n",
    "model = CatBoostClassifier(\n",
    "    custom_loss=[metrics.Accuracy()], random_seed=42, logging_level=\"Silent\"\n",
    ")\n"
   ]
  },
  {
   "cell_type": "code",
   "execution_count": 12,
   "metadata": {
    "id": "uMKZFBZ_r-bC"
   },
   "outputs": [],
   "source": [
    "# Model training\n",
    "model.fit(\n",
    "    X_train,\n",
    "    y_train,\n",
    "    cat_features=categorical_features_indices,\n",
    "    eval_set=(X_validation, y_validation),\n",
    "    verbose=False,\n",
    ");\n"
   ]
  },
  {
   "cell_type": "code",
   "execution_count": 13,
   "metadata": {
    "id": "ESlsnfSZ_p2-"
   },
   "outputs": [
    {
     "data": {
      "text/plain": [
       "0.8116591928251121"
      ]
     },
     "execution_count": 13,
     "metadata": {},
     "output_type": "execute_result"
    }
   ],
   "source": [
    "# Model performance on validation set\n",
    "model.score(X_validation, y_validation)\n"
   ]
  },
  {
   "cell_type": "markdown",
   "metadata": {
    "id": "BpXSc8mkr-bD"
   },
   "source": [
    "From above, we can see that the accuracy value of **~0.82** (on validation set) was acheived."
   ]
  },
  {
   "cell_type": "markdown",
   "metadata": {
    "id": "UC4QyscVr-bE"
   },
   "source": [
    "### Model Cross-Validation"
   ]
  },
  {
   "cell_type": "markdown",
   "metadata": {
    "id": "ZU0lYPJ23Rvb"
   },
   "source": [
    "To perform cross-validation, we will be using CatBoost's **`cv`** package. It splits the dataset into N folds. N–1 folds are used for training, and one fold is used for model performance estimation. N models are updated on each iteration K. Each model is evaluated on its' own validation dataset on each iteration. This produces N metric values on each iteration K.\n",
    "\n",
    "The **`cv`** function calculates the average of these N values and the standard deviation. Thus, these two values are returned on each iteration.\n",
    "\n",
    "Some of **`cv`**'s parameters are:\n",
    "\n",
    "- ***pool***: The input dataset to cross-validate\n",
    "- ***params***: The list of parameters to start training with\n",
    "- ***iterations***: The maximum number of trees that can be built when solving machine learning problems, default=1000\n",
    "- ***fold_count***: The number of folds to split the dataset into, default=3\n",
    "\n",
    "To know more about **`cv`** package, refer [here](https://catboost.ai/en/docs/concepts/python-reference_cv)."
   ]
  },
  {
   "cell_type": "code",
   "execution_count": 14,
   "metadata": {
    "id": "yFtAdWUiAksC"
   },
   "outputs": [
    {
     "data": {
      "text/plain": [
       "{'random_seed': 42, 'logging_level': 'Silent', 'custom_loss': ['Accuracy']}"
      ]
     },
     "execution_count": 14,
     "metadata": {},
     "output_type": "execute_result"
    }
   ],
   "source": [
    "# Get Model parameters\n",
    "cv_params = model.get_params()\n",
    "cv_params\n"
   ]
  },
  {
   "cell_type": "code",
   "execution_count": 15,
   "metadata": {
    "id": "6RJgJL0eA79Z"
   },
   "outputs": [
    {
     "data": {
      "text/plain": [
       "{'random_seed': 42,\n",
       " 'logging_level': 'Silent',\n",
       " 'custom_loss': ['Accuracy'],\n",
       " 'loss_function': Logloss(use_weights=True [mandatory=False])}"
      ]
     },
     "execution_count": 15,
     "metadata": {},
     "output_type": "execute_result"
    }
   ],
   "source": [
    "# Add Logloss as loss_function\n",
    "cv_params.update({\"loss_function\": metrics.Logloss()})\n",
    "cv_params\n"
   ]
  },
  {
   "cell_type": "markdown",
   "metadata": {
    "id": "1FaWtJHNvuk-"
   },
   "source": [
    "**Pool constructor**: In order to train and optimize the model, we can utilize CatBoost library integrated tool called **`Pool`** for combining features and target variables into a dataset. This pooling allows us to pinpoint target variables, predictors, and the list of categorical features, while the pool constructor will combine those inputs and pass them to the model.\n",
    "\n",
    "To know more about **`Pool`** constructor, refer [here](https://catboost.ai/en/docs/concepts/python-reference_pool)."
   ]
  },
  {
   "cell_type": "code",
   "execution_count": 16,
   "metadata": {
    "id": "aw-R9-HIxZUZ"
   },
   "outputs": [],
   "source": [
    "# Pool the dataset\n",
    "pool_data = Pool(X, y, cat_features=categorical_features_indices)\n"
   ]
  },
  {
   "cell_type": "code",
   "execution_count": 17,
   "metadata": {
    "id": "YzHrptsbB5_J"
   },
   "outputs": [
    {
     "data": {
      "text/html": [
       "<div>\n",
       "<style scoped>\n",
       "    .dataframe tbody tr th:only-of-type {\n",
       "        vertical-align: middle;\n",
       "    }\n",
       "\n",
       "    .dataframe tbody tr th {\n",
       "        vertical-align: top;\n",
       "    }\n",
       "\n",
       "    .dataframe thead th {\n",
       "        text-align: right;\n",
       "    }\n",
       "</style>\n",
       "<table border=\"1\" class=\"dataframe\">\n",
       "  <thead>\n",
       "    <tr style=\"text-align: right;\">\n",
       "      <th></th>\n",
       "      <th>iterations</th>\n",
       "      <th>test-Logloss-mean</th>\n",
       "      <th>test-Logloss-std</th>\n",
       "      <th>train-Logloss-mean</th>\n",
       "      <th>train-Logloss-std</th>\n",
       "      <th>test-Accuracy-mean</th>\n",
       "      <th>test-Accuracy-std</th>\n",
       "      <th>train-Accuracy-mean</th>\n",
       "      <th>train-Accuracy-std</th>\n",
       "    </tr>\n",
       "  </thead>\n",
       "  <tbody>\n",
       "    <tr>\n",
       "      <th>0</th>\n",
       "      <td>0</td>\n",
       "      <td>0.676936</td>\n",
       "      <td>0.001133</td>\n",
       "      <td>0.676477</td>\n",
       "      <td>0.003152</td>\n",
       "      <td>0.794613</td>\n",
       "      <td>0.003367</td>\n",
       "      <td>0.798541</td>\n",
       "      <td>0.020778</td>\n",
       "    </tr>\n",
       "    <tr>\n",
       "      <th>1</th>\n",
       "      <td>1</td>\n",
       "      <td>0.660661</td>\n",
       "      <td>0.000697</td>\n",
       "      <td>0.659381</td>\n",
       "      <td>0.003172</td>\n",
       "      <td>0.795735</td>\n",
       "      <td>0.030365</td>\n",
       "      <td>0.812009</td>\n",
       "      <td>0.010286</td>\n",
       "    </tr>\n",
       "    <tr>\n",
       "      <th>2</th>\n",
       "      <td>2</td>\n",
       "      <td>0.646543</td>\n",
       "      <td>0.001920</td>\n",
       "      <td>0.645228</td>\n",
       "      <td>0.004168</td>\n",
       "      <td>0.803591</td>\n",
       "      <td>0.028636</td>\n",
       "      <td>0.812009</td>\n",
       "      <td>0.014119</td>\n",
       "    </tr>\n",
       "    <tr>\n",
       "      <th>3</th>\n",
       "      <td>3</td>\n",
       "      <td>0.632857</td>\n",
       "      <td>0.003376</td>\n",
       "      <td>0.631048</td>\n",
       "      <td>0.004247</td>\n",
       "      <td>0.804714</td>\n",
       "      <td>0.026725</td>\n",
       "      <td>0.812570</td>\n",
       "      <td>0.012179</td>\n",
       "    </tr>\n",
       "    <tr>\n",
       "      <th>4</th>\n",
       "      <td>4</td>\n",
       "      <td>0.619750</td>\n",
       "      <td>0.004936</td>\n",
       "      <td>0.617523</td>\n",
       "      <td>0.005041</td>\n",
       "      <td>0.803591</td>\n",
       "      <td>0.026153</td>\n",
       "      <td>0.813692</td>\n",
       "      <td>0.011459</td>\n",
       "    </tr>\n",
       "  </tbody>\n",
       "</table>\n",
       "</div>"
      ],
      "text/plain": [
       "   iterations  test-Logloss-mean  test-Logloss-std  train-Logloss-mean  \\\n",
       "0           0           0.676936          0.001133            0.676477   \n",
       "1           1           0.660661          0.000697            0.659381   \n",
       "2           2           0.646543          0.001920            0.645228   \n",
       "3           3           0.632857          0.003376            0.631048   \n",
       "4           4           0.619750          0.004936            0.617523   \n",
       "\n",
       "   train-Logloss-std  test-Accuracy-mean  test-Accuracy-std  \\\n",
       "0           0.003152            0.794613           0.003367   \n",
       "1           0.003172            0.795735           0.030365   \n",
       "2           0.004168            0.803591           0.028636   \n",
       "3           0.004247            0.804714           0.026725   \n",
       "4           0.005041            0.803591           0.026153   \n",
       "\n",
       "   train-Accuracy-mean  train-Accuracy-std  \n",
       "0             0.798541            0.020778  \n",
       "1             0.812009            0.010286  \n",
       "2             0.812009            0.014119  \n",
       "3             0.812570            0.012179  \n",
       "4             0.813692            0.011459  "
      ]
     },
     "execution_count": 17,
     "metadata": {},
     "output_type": "execute_result"
    }
   ],
   "source": [
    "# Perform cross-validation\n",
    "cv_data = cv(pool=pool_data, params=cv_params, fold_count=3)\n",
    "cv_data.head()\n"
   ]
  },
  {
   "cell_type": "markdown",
   "metadata": {
    "id": "oIonDV5Cr-bG"
   },
   "source": [
    "Now we have values of our loss functions at each boosting step (iteration) averaged by 3 folds, which should provide us with a more accurate estimation of our model performance:"
   ]
  },
  {
   "cell_type": "code",
   "execution_count": 18,
   "metadata": {
    "id": "zb8yjJpmr-bG"
   },
   "outputs": [
    {
     "name": "stdout",
     "output_type": "stream",
     "text": [
      "Best validation accuracy score: 0.83±0.02 on step 502\n"
     ]
    }
   ],
   "source": [
    "# Maximum mean test accuracy\n",
    "max_mean_test_acc = np.max(cv_data[\"test-Accuracy-mean\"])\n",
    "\n",
    "# Index of Maximum mean test accuracy\n",
    "idx = np.argmax(cv_data[\"test-Accuracy-mean\"])\n",
    "\n",
    "# Standard deviation of maximum mean test accuracy\n",
    "std_max_mean_test_acc = cv_data[\"test-Accuracy-std\"][idx]\n",
    "\n",
    "# Best validation accuracy\n",
    "print(\n",
    "    \"Best validation accuracy score: {:.2f}±{:.2f} on step {}\".format(\n",
    "        max_mean_test_acc, std_max_mean_test_acc, idx\n",
    "    )\n",
    ")\n"
   ]
  },
  {
   "cell_type": "code",
   "execution_count": 19,
   "metadata": {
    "id": "nEOoVs_mr-bI"
   },
   "outputs": [
    {
     "name": "stdout",
     "output_type": "stream",
     "text": [
      "Precise validation accuracy score: 0.8327721661054994\n"
     ]
    }
   ],
   "source": [
    "# Precise validation accuracy\n",
    "print(\"Precise validation accuracy score: {}\".format(max_mean_test_acc))\n"
   ]
  },
  {
   "cell_type": "markdown",
   "metadata": {
    "id": "mPUlZvg3r-bK"
   },
   "source": [
    "### Applying model for prediction"
   ]
  },
  {
   "cell_type": "code",
   "execution_count": 20,
   "metadata": {
    "id": "vM4-GDjtr-bL"
   },
   "outputs": [
    {
     "name": "stdout",
     "output_type": "stream",
     "text": [
      "Predictions: [0 0 0 0 1 0 1 0 1 0]\n",
      "Prediction probabilities:\n",
      " [[0.85006246 0.14993754]\n",
      " [0.75787055 0.24212945]\n",
      " [0.87529535 0.12470465]\n",
      " [0.87823422 0.12176578]\n",
      " [0.29067798 0.70932202]\n",
      " [0.89206943 0.10793057]\n",
      " [0.33697165 0.66302835]\n",
      " [0.78768982 0.21231018]\n",
      " [0.39317582 0.60682418]\n",
      " [0.94935653 0.05064347]]\n"
     ]
    }
   ],
   "source": [
    "# Make predictions for X_test\n",
    "predictions = model.predict(X_test)\n",
    "predictions_probs = model.predict_proba(X_test)\n",
    "print(f\"Predictions: {predictions[:10]}\")\n",
    "print(f\"Prediction probabilities:\\n {predictions_probs[:10]}\")\n"
   ]
  },
  {
   "cell_type": "markdown",
   "metadata": {
    "id": "ihQWWKker-bL"
   },
   "source": [
    "Let's look at some characteristics of CatBoost to get better predictions."
   ]
  },
  {
   "cell_type": "markdown",
   "metadata": {
    "id": "2yn0Rm0Vr-bL"
   },
   "source": [
    "## Characteristics of CatBoost"
   ]
  },
  {
   "cell_type": "markdown",
   "metadata": {
    "id": "PlJi1kEGr-bN"
   },
   "source": [
    "Some of the characteristics of CatBoost includes:\n",
    "\n",
    "- Using the best model\n",
    "- Early Stopping\n",
    "- Using Baseline\n",
    "- Snapshot Support\n",
    "- User Defined Objective Function\n",
    "- User Defined Objective Function\n",
    "- Staged Predict\n",
    "- Feature Importances\n",
    "- Eval Metrics\n",
    "- Model Saving\n",
    "\n",
    "Let's define some parameters and create `Pool` for more convenience in exploring the above mentioned points."
   ]
  },
  {
   "cell_type": "code",
   "execution_count": 21,
   "metadata": {
    "id": "P9xi0VGCr-bO"
   },
   "outputs": [],
   "source": [
    "# Create params dictionary\n",
    "params = {\n",
    "    \"iterations\": 500,\n",
    "    \"learning_rate\": 0.1,\n",
    "    \"eval_metric\": metrics.Accuracy(),\n",
    "    \"random_seed\": 42,\n",
    "    \"logging_level\": \"Silent\",\n",
    "    \"use_best_model\": False,\n",
    "}\n",
    "# Create Pool for training set\n",
    "train_pool = Pool(X_train, y_train, cat_features=categorical_features_indices)\n",
    "\n",
    "# Create Pool for validation set\n",
    "validate_pool = Pool(\n",
    "    X_validation, y_validation, cat_features=categorical_features_indices\n",
    ")\n"
   ]
  },
  {
   "cell_type": "markdown",
   "metadata": {
    "id": "7s_qsjnZr-bO"
   },
   "source": [
    "### Using the best model\n",
    "\n",
    "If we essentially have a validation set, it's always better to use the `use_best_model` parameter during training. By default, this parameter is enabled. If it is enabled, the resulting trees ensemble is shrinking to the best iteration."
   ]
  },
  {
   "cell_type": "code",
   "execution_count": 22,
   "metadata": {
    "id": "4mA08mrY4rsj"
   },
   "outputs": [],
   "source": [
    "# Create a Simple Model having 'use_best_model' = False\n",
    "model = CatBoostClassifier(**params)\n",
    "model.fit(train_pool, eval_set=validate_pool);\n"
   ]
  },
  {
   "cell_type": "code",
   "execution_count": 23,
   "metadata": {
    "id": "QJtgIW-I5FxN"
   },
   "outputs": [],
   "source": [
    "# Create a best_model_params by updating 'use_best_model' to True\n",
    "best_model_params = params.copy()\n",
    "best_model_params.update({\"use_best_model\": True})\n"
   ]
  },
  {
   "cell_type": "code",
   "execution_count": 24,
   "metadata": {
    "id": "3vye3s9Z5fbP"
   },
   "outputs": [],
   "source": [
    "# Create a Best Model having 'use_best_model' = True\n",
    "best_model = CatBoostClassifier(**best_model_params)\n",
    "best_model.fit(train_pool, eval_set=validate_pool);\n"
   ]
  },
  {
   "cell_type": "code",
   "execution_count": 25,
   "metadata": {
    "id": "OjkoxOTpr-bO"
   },
   "outputs": [
    {
     "name": "stdout",
     "output_type": "stream",
     "text": [
      "Simple model validation accuracy: 0.8161\n",
      "\n",
      "Best model validation accuracy: 0.8341\n"
     ]
    }
   ],
   "source": [
    "# Accuracy score for Simple model\n",
    "pred = model.predict(X_validation)\n",
    "acc = accuracy_score(y_validation, pred)\n",
    "print(\"Simple model validation accuracy: {:.4}\".format(acc))\n",
    "\n",
    "# Accuracy score for Best model\n",
    "best_pred = best_model.predict(X_validation)\n",
    "best_acc = accuracy_score(y_validation, best_pred)\n",
    "print(\"\\nBest model validation accuracy: {:.4}\".format(best_acc))\n"
   ]
  },
  {
   "cell_type": "markdown",
   "metadata": {
    "id": "UIZld216r-bP"
   },
   "source": [
    "### Early Stopping\n",
    "\n",
    "If we essentially have a validation set, it's always easier and better to use early stopping. This feature is similar to the previous one, but only in addition to improving the quality it still saves time.\n",
    "\n",
    "Few parameters for early stopping are:\n",
    "\n",
    "- ***od_type***: The type of the overfitting detector to use. Possible values:\n",
    "    - IncToDec (default)\n",
    "    - Iter\n",
    "- ***od_wait***: The number of iterations to continue the training after the iteration with the optimal metric value; default=20\n",
    "\n",
    "The purpose of ***od_wait*** parameter differs depending on the selected overfitting detector type, ***od_type***:\n",
    "\n",
    "- IncToDec — Ignore the overfitting detector when the threshold is reached and continue learning for the specified number of iterations after the iteration with the optimal metric value.\n",
    "- Iter — Consider the model overfitted and stop training after the specified number of iterations since the iteration with the optimal metric value.\n"
   ]
  },
  {
   "cell_type": "markdown",
   "metadata": {
    "id": "3OyIAcwh-KIc"
   },
   "source": [
    "Create a simple model using `params` and show the computation time for its training:"
   ]
  },
  {
   "cell_type": "code",
   "execution_count": 26,
   "metadata": {
    "id": "iWRcF4V3r-bP"
   },
   "outputs": [
    {
     "name": "stdout",
     "output_type": "stream",
     "text": [
      "CPU times: user 3.8 s, sys: 1.82 s, total: 5.62 s\n",
      "Wall time: 1.7 s\n"
     ]
    },
    {
     "data": {
      "text/plain": [
       "<catboost.core.CatBoostClassifier at 0x30a763c10>"
      ]
     },
     "execution_count": 26,
     "metadata": {},
     "output_type": "execute_result"
    }
   ],
   "source": [
    "%%time\n",
    "model = CatBoostClassifier(**params)\n",
    "model.fit(train_pool, eval_set=validate_pool)\n"
   ]
  },
  {
   "cell_type": "code",
   "execution_count": 27,
   "metadata": {
    "id": "8OJ0Fx0E7zCq"
   },
   "outputs": [],
   "source": [
    "# Create earlystop_params variable by updating 'od_type' and 'od_wait' in params\n",
    "earlystop_params = params.copy()\n",
    "earlystop_params.update({\"od_type\": \"Iter\", \"od_wait\": 40})\n"
   ]
  },
  {
   "cell_type": "markdown",
   "metadata": {
    "id": "X73Gabf7-d6B"
   },
   "source": [
    "Create an early stopped model using `earlystop_params` and show the computation time for its training:"
   ]
  },
  {
   "cell_type": "code",
   "execution_count": 28,
   "metadata": {
    "id": "T8ib75zdr-bP"
   },
   "outputs": [
    {
     "name": "stdout",
     "output_type": "stream",
     "text": [
      "CPU times: user 645 ms, sys: 444 ms, total: 1.09 s\n",
      "Wall time: 367 ms\n"
     ]
    }
   ],
   "source": [
    "%%time\n",
    "earlystop_model = CatBoostClassifier(**earlystop_params)\n",
    "earlystop_model.fit(train_pool, eval_set=validate_pool);\n"
   ]
  },
  {
   "cell_type": "code",
   "execution_count": 29,
   "metadata": {
    "id": "J2nLjYC6r-bQ"
   },
   "outputs": [
    {
     "name": "stdout",
     "output_type": "stream",
     "text": [
      "Simple model tree count: 500\n",
      "Simple model validation accuracy: 0.8161\n",
      "\n",
      "Early-stopped model tree count: 95\n",
      "Early-stopped model validation accuracy: 0.8206\n"
     ]
    }
   ],
   "source": [
    "# Number of Tree count and Accuracy score for Simple model\n",
    "print(\"Simple model tree count: {}\".format(model.tree_count_))\n",
    "print(\n",
    "    \"Simple model validation accuracy: {:.4}\".format(\n",
    "        accuracy_score(y_validation, model.predict(X_validation))\n",
    "    )\n",
    ")\n",
    "\n",
    "# Number of Tree count and Accuracy score for Early-stopped model\n",
    "print(\"\\nEarly-stopped model tree count: {}\".format(earlystop_model.tree_count_))\n",
    "print(\n",
    "    \"Early-stopped model validation accuracy: {:.4}\".format(\n",
    "        accuracy_score(y_validation, earlystop_model.predict(X_validation))\n",
    "    )\n",
    ")\n"
   ]
  },
  {
   "cell_type": "markdown",
   "metadata": {
    "id": "t3NcrdOyr-bR"
   },
   "source": [
    "From the above, we can see that we get similar or better quality in a shorter time.\n",
    "\n",
    "Though simple validation scheme does not precisely describes model out-of-train score (validation set may be biased because of dataset split) it is still nice to track model improvement dynamics - and thereby it is really good to stop boosting process earlier (before the overfitting kicks in)."
   ]
  },
  {
   "cell_type": "markdown",
   "metadata": {
    "id": "99ahBw-8r-bR"
   },
   "source": [
    "### Using Baseline\n",
    "\n",
    "It is also posible to use pre-training results (baseline) for training."
   ]
  },
  {
   "cell_type": "code",
   "execution_count": 30,
   "metadata": {
    "id": "ScCtDp1_Ov7H"
   },
   "outputs": [],
   "source": [
    "# Create current_params variable by updating 'iterations' to 10 in params\n",
    "current_params = params.copy()\n",
    "current_params.update({\"iterations\": 10})\n"
   ]
  },
  {
   "cell_type": "code",
   "execution_count": 31,
   "metadata": {
    "id": "0VQH8f-ur-bS"
   },
   "outputs": [
    {
     "data": {
      "text/plain": [
       "<catboost.core.CatBoostClassifier at 0x30a747a10>"
      ]
     },
     "execution_count": 31,
     "metadata": {},
     "output_type": "execute_result"
    }
   ],
   "source": [
    "# Create model with current_params and fit on training set\n",
    "model = CatBoostClassifier(**current_params)\n",
    "model.fit(X_train, y_train, categorical_features_indices)\n"
   ]
  },
  {
   "cell_type": "code",
   "execution_count": 32,
   "metadata": {
    "id": "ZgZ1PtbzPeiy"
   },
   "outputs": [
    {
     "data": {
      "text/plain": [
       "((668, 11), (668,))"
      ]
     },
     "execution_count": 32,
     "metadata": {},
     "output_type": "execute_result"
    }
   ],
   "source": [
    "# Get baseline (only with prediction_type='RawFormulaVal')\n",
    "baseline = model.predict(X_train, prediction_type=\"RawFormulaVal\")\n",
    "X_train.shape, baseline.shape\n"
   ]
  },
  {
   "cell_type": "code",
   "execution_count": 33,
   "metadata": {
    "id": "KPJotyDSPWXk"
   },
   "outputs": [],
   "source": [
    "# Fit new model\n",
    "model.fit(X_train, y_train, categorical_features_indices, baseline=baseline);\n"
   ]
  },
  {
   "cell_type": "markdown",
   "metadata": {
    "id": "fL2PjrASr-bT"
   },
   "source": [
    "### Snapshot Support\n",
    "\n",
    "Catboost supports snapshots. We can use it for recovering training after an interruption or for starting training with previous results."
   ]
  },
  {
   "cell_type": "code",
   "execution_count": 34,
   "metadata": {
    "id": "GW-DbjmdQsRZ"
   },
   "outputs": [],
   "source": [
    "# Create params_with_snapshot variable using params\n",
    "params_with_snapshot = params.copy()\n",
    "params_with_snapshot.update(\n",
    "    {\"iterations\": 5, \"learning_rate\": 0.5, \"logging_level\": \"Verbose\"}\n",
    ")\n"
   ]
  },
  {
   "cell_type": "code",
   "execution_count": 35,
   "metadata": {
    "id": "oUjxsOV2Q_zM"
   },
   "outputs": [
    {
     "name": "stdout",
     "output_type": "stream",
     "text": [
      "0:\tlearn: 0.8053892\ttest: 0.7937220\tbest: 0.7937220 (0)\ttotal: 3.02ms\tremaining: 12.1ms\n",
      "1:\tlearn: 0.8008982\ttest: 0.7982063\tbest: 0.7982063 (1)\ttotal: 5.51ms\tremaining: 8.27ms\n",
      "2:\tlearn: 0.8008982\ttest: 0.7937220\tbest: 0.7982063 (1)\ttotal: 8.37ms\tremaining: 5.58ms\n",
      "3:\tlearn: 0.8113772\ttest: 0.7892377\tbest: 0.7982063 (1)\ttotal: 9.82ms\tremaining: 2.46ms\n",
      "4:\tlearn: 0.8173653\ttest: 0.8026906\tbest: 0.8026906 (4)\ttotal: 11ms\tremaining: 0us\n",
      "\n",
      "bestTest = 0.802690583\n",
      "bestIteration = 4\n",
      "\n"
     ]
    },
    {
     "data": {
      "text/plain": [
       "<catboost.core.CatBoostClassifier at 0x30a744d90>"
      ]
     },
     "execution_count": 35,
     "metadata": {},
     "output_type": "execute_result"
    }
   ],
   "source": [
    "# Create model with params_with_snapshot and fit on training set\n",
    "model = CatBoostClassifier(**params_with_snapshot)\n",
    "model.fit(train_pool, eval_set=validate_pool, save_snapshot=True)\n"
   ]
  },
  {
   "cell_type": "code",
   "execution_count": 36,
   "metadata": {
    "id": "ev9jluc2TCW5"
   },
   "outputs": [],
   "source": [
    "# Update 'iterations' and 'learning_rate' in params_with_snapshot\n",
    "params_with_snapshot.update(\n",
    "    {\n",
    "        \"iterations\": 10,\n",
    "        \"learning_rate\": 0.1,\n",
    "    }\n",
    ")\n"
   ]
  },
  {
   "cell_type": "code",
   "execution_count": 37,
   "metadata": {
    "id": "tAK9ivE5r-bT"
   },
   "outputs": [
    {
     "name": "stdout",
     "output_type": "stream",
     "text": [
      "5:\tlearn: 0.8173653\ttest: 0.8026906\tbest: 0.8026906 (4)\ttotal: 14.4ms\tremaining: 13.5ms\n",
      "6:\tlearn: 0.8248503\ttest: 0.8026906\tbest: 0.8026906 (4)\ttotal: 16.4ms\tremaining: 8.1ms\n",
      "7:\tlearn: 0.8233533\ttest: 0.8026906\tbest: 0.8026906 (4)\ttotal: 17.3ms\tremaining: 4.2ms\n",
      "8:\tlearn: 0.8233533\ttest: 0.8026906\tbest: 0.8026906 (4)\ttotal: 18.5ms\tremaining: 1.86ms\n",
      "9:\tlearn: 0.8233533\ttest: 0.8026906\tbest: 0.8026906 (4)\ttotal: 20.1ms\tremaining: 0us\n",
      "\n",
      "bestTest = 0.802690583\n",
      "bestIteration = 4\n",
      "\n"
     ]
    },
    {
     "data": {
      "text/plain": [
       "<catboost.core.CatBoostClassifier at 0x30a73ce10>"
      ]
     },
     "execution_count": 37,
     "metadata": {},
     "output_type": "execute_result"
    }
   ],
   "source": [
    "# Create model with params_with_snapshot and fit on training set\n",
    "model = CatBoostClassifier(**params_with_snapshot)\n",
    "model.fit(train_pool, eval_set=validate_pool, save_snapshot=True)\n"
   ]
  },
  {
   "cell_type": "markdown",
   "metadata": {
    "id": "f17ulAucTnjC"
   },
   "source": [
    "From above we can see that the training started with previous results."
   ]
  },
  {
   "cell_type": "markdown",
   "metadata": {
    "id": "JaKtPrhIr-bU"
   },
   "source": [
    "### User Defined Objective Function\n",
    "\n",
    "It is possible to create our own objective function. Let's create logloss objective function."
   ]
  },
  {
   "cell_type": "code",
   "execution_count": 39,
   "metadata": {
    "id": "PsjqS4Uhr-bV"
   },
   "outputs": [],
   "source": [
    "# for performance reasons it is better to install `numba` package for working with user defined functions\n",
    "# !pip install numba\n"
   ]
  },
  {
   "cell_type": "code",
   "execution_count": null,
   "metadata": {
    "id": "pf3fv8Ner-bW"
   },
   "outputs": [],
   "source": [
    "class LoglossObjective(object):\n",
    "    def calc_ders_range(self, approxes, targets, weights):\n",
    "        # approxes, targets, weights are indexed containers of floats\n",
    "        # (containers which have only __len__ and __getitem__ defined).\n",
    "        # weights parameter can be None.\n",
    "        #\n",
    "        # To understand what these parameters mean, assume that there is\n",
    "        # a subset of our dataset that is currently being processed.\n",
    "        # approxes contains current predictions for this subset,\n",
    "        # targets contains target values we provided with the dataset.\n",
    "        #\n",
    "        # This function should return a list of pairs (der1, der2), where\n",
    "        # der1 is the first derivative of the loss function with respect\n",
    "        # to the predicted value, and der2 is the second derivative.\n",
    "        #\n",
    "        # In our case, logloss is defined by the following formula:\n",
    "        # target * log(sigmoid(approx)) + (1 - target) * (1 - sigmoid(approx))\n",
    "        # where sigmoid(x) = 1 / (1 + e^(-x)).\n",
    "\n",
    "        assert len(approxes) == len(targets)\n",
    "        if weights is not None:\n",
    "            assert len(weights) == len(approxes)\n",
    "\n",
    "        result = []\n",
    "        for index in range(len(targets)):\n",
    "            e = np.exp(approxes[index])\n",
    "            p = e / (1 + e)\n",
    "            der1 = (1 - p) if targets[index] > 0.0 else -p\n",
    "            der2 = -p * (1 - p)\n",
    "\n",
    "            if weights is not None:\n",
    "                der1 *= weights[index]\n",
    "                der2 *= weights[index]\n",
    "\n",
    "            result.append((der1, der2))\n",
    "        return result\n"
   ]
  },
  {
   "cell_type": "code",
   "execution_count": null,
   "metadata": {
    "id": "RSzee6shr-bX"
   },
   "outputs": [],
   "source": [
    "# Create model\n",
    "model = CatBoostClassifier(\n",
    "                           iterations=10,\n",
    "                           random_seed=42,\n",
    "                           loss_function=LoglossObjective(),\n",
    "                           eval_metric=metrics.Logloss()\n",
    "                           )\n",
    "# Fit model\n",
    "model.fit(train_pool)\n"
   ]
  },
  {
   "cell_type": "code",
   "execution_count": null,
   "metadata": {
    "id": "LAuRMDEsUl3W"
   },
   "outputs": [],
   "source": [
    "# Only prediction_type='RawFormulaVal' is allowed with custom `loss_function`\n",
    "preds_raw = model.predict(X_test, prediction_type='RawFormulaVal')\n"
   ]
  },
  {
   "cell_type": "markdown",
   "metadata": {
    "id": "GvXvLik9r-bY"
   },
   "source": [
    "### User Defined Metric Function\n",
    "\n",
    "Also it is possible to create our own metric function. Let's create logloss metric function."
   ]
  },
  {
   "cell_type": "code",
   "execution_count": null,
   "metadata": {
    "id": "L-3knCAsr-bY"
   },
   "outputs": [],
   "source": [
    "class LoglossMetric(object):\n",
    "    def get_final_error(self, error, weight):\n",
    "        return error / (weight + 1e-38)\n",
    "\n",
    "    def is_max_optimal(self):\n",
    "        return False\n",
    "\n",
    "    def evaluate(self, approxes, target, weight):\n",
    "        # approxes is a list of indexed containers\n",
    "        # (containers with only __len__ and __getitem__ defined),\n",
    "        # one container per approx dimension.\n",
    "        # Each container contains floats.\n",
    "        # weight is a one dimensional indexed container.\n",
    "        # target is float.\n",
    "\n",
    "        # weight parameter can be None.\n",
    "        # Returns pair (error, weights sum)\n",
    "\n",
    "        assert len(approxes) == 1\n",
    "        assert len(target) == len(approxes[0])\n",
    "\n",
    "        approx = approxes[0]\n",
    "\n",
    "        error_sum = 0.0\n",
    "        weight_sum = 0.0\n",
    "\n",
    "        for i in range(len(approx)):\n",
    "            w = 1.0 if weight is None else weight[i]\n",
    "            weight_sum += w\n",
    "            error_sum += -w * (target[i] * approx[i] - np.log(1 + np.exp(approx[i])))\n",
    "\n",
    "        return error_sum, weight_sum\n"
   ]
  },
  {
   "cell_type": "code",
   "execution_count": null,
   "metadata": {
    "id": "bdrCEtVAr-bZ"
   },
   "outputs": [],
   "source": [
    "# Create model\n",
    "model = CatBoostClassifier(\n",
    "                           iterations=10,\n",
    "                           random_seed=42,\n",
    "                           loss_function=metrics.Logloss(),\n",
    "                           eval_metric=LoglossMetric()\n",
    "                           )\n",
    "# Fit model\n",
    "model.fit(train_pool)\n"
   ]
  },
  {
   "cell_type": "code",
   "execution_count": null,
   "metadata": {
    "id": "w75eTV5oVO37"
   },
   "outputs": [],
   "source": [
    "# Only prediction_type='RawFormulaVal' is allowed with custom `loss_function`\n",
    "preds_raw = model.predict(X_test, prediction_type='RawFormulaVal')\n"
   ]
  },
  {
   "cell_type": "markdown",
   "metadata": {
    "id": "e0la5j-hr-bZ"
   },
   "source": [
    "### Staged Predict\n",
    "\n",
    "CatBoost model has `staged_predict` method. It allows us to iteratively get predictions for a given range of trees.\n",
    "\n",
    "Some of `staged_predict` method's paramets are:\n",
    "\n",
    "- ***data***: Feature values data\n",
    "- ***prediction_type***: The required prediction type. Supported prediction types are Probability, Class, Exponent, LogProbability, etc.\n",
    "- ***ntree_start***\n",
    "- ***ntree_end***\n",
    "- ***eval_period***\n",
    "\n",
    "To reduce the number of trees to use when the model is applied or the metrics are calculated, set the range of the tree indices to [***ntree_start; ntree_end***) and the ***eval_period*** parameter to $k$ to calculate metrics on every $k$-th iteration.\n",
    "\n",
    "To know more about `staged_predict` method, refer [here](https://catboost.ai/en/docs/concepts/python-reference_catboostclassifier_staged_predict)."
   ]
  },
  {
   "cell_type": "code",
   "execution_count": null,
   "metadata": {
    "id": "RnT9x5e7Vm6k"
   },
   "outputs": [],
   "source": [
    "# Create model\n",
    "model = CatBoostClassifier(iterations=10, random_seed=42, logging_level='Silent')\n",
    "model.fit(train_pool)\n"
   ]
  },
  {
   "cell_type": "code",
   "execution_count": null,
   "metadata": {
    "id": "z0pkaKChr-ba"
   },
   "outputs": [],
   "source": [
    "# Specify start, end, and evaluation period for staged predict\n",
    "ntree_start = 3\n",
    "ntree_end = 9\n",
    "eval_period = 2\n",
    "# Stage predictions\n",
    "predictions_iterator = model.staged_predict(\n",
    "                                            data = validate_pool,\n",
    "                                            prediction_type='Probability',\n",
    "                                            ntree_start = ntree_start,\n",
    "                                            ntree_end = ntree_end,\n",
    "                                            eval_period = eval_period\n",
    "                                            )\n",
    "# Show stage predictions\n",
    "for preds, tree_count in zip(predictions_iterator, range(ntree_start, ntree_end, eval_period)):\n",
    "    print('First class probabilities using the first {} trees: {}'.format(tree_count, preds[:5, 1]))\n"
   ]
  },
  {
   "cell_type": "markdown",
   "metadata": {
    "id": "mYg_CGqTr-ba"
   },
   "source": [
    "### Feature Importances\n",
    "\n",
    "Sometimes it is very important to understand which feature made the greatest contribution to the final result. To do this, the CatBoost model has a `get_feature_importance` method."
   ]
  },
  {
   "cell_type": "code",
   "execution_count": null,
   "metadata": {
    "id": "TM4OmXHti8fz"
   },
   "outputs": [],
   "source": [
    "# Create model\n",
    "model = CatBoostClassifier(iterations=50, random_seed=42, logging_level='Silent')\n",
    "model.fit(train_pool)\n"
   ]
  },
  {
   "cell_type": "code",
   "execution_count": null,
   "metadata": {
    "id": "snozjGfar-ba"
   },
   "outputs": [],
   "source": [
    "# Get feature importances\n",
    "feature_importances = model.get_feature_importance(train_pool)\n",
    "# Feature names\n",
    "feature_names = X_train.columns\n",
    "\n",
    "# Show features in decreasing order based on their importances\n",
    "for score, name in sorted(zip(feature_importances, feature_names), reverse=True):\n",
    "    print('{}: {}'.format(name, score))\n"
   ]
  },
  {
   "cell_type": "code",
   "execution_count": null,
   "metadata": {
    "id": "T0JfJe4_jdPy"
   },
   "outputs": [],
   "source": [
    "# Show bar plot for feature importance\n",
    "plt.bar(feature_names, feature_importances)\n",
    "plt.xticks(rotation=80)\n",
    "plt.show()\n"
   ]
  },
  {
   "cell_type": "markdown",
   "metadata": {
    "id": "dtbzujdvr-bb"
   },
   "source": [
    "From the above results, we can see that features **`Sex`** and **`Pclass`** had the biggest influence on the result."
   ]
  },
  {
   "cell_type": "markdown",
   "metadata": {
    "id": "p-50XFJPr-bb"
   },
   "source": [
    "### Eval Metrics\n",
    "\n",
    "The CatBoost has a `eval_metrics` method that allows to calculate a given metrics on a given dataset."
   ]
  },
  {
   "cell_type": "code",
   "execution_count": null,
   "metadata": {
    "id": "MSqM0wsJr-bb"
   },
   "outputs": [],
   "source": [
    "# Create model and fit on training set\n",
    "model = CatBoostClassifier(iterations=50, random_seed=42, logging_level='Silent')\n",
    "model.fit(train_pool)\n",
    "# Eval metrics\n",
    "eval_metrics = model.eval_metrics(data = validate_pool,\n",
    "                                  metrics = [metrics.AUC()],               # the list of metrics to be calculated\n",
    "                                  )\n",
    "eval_metrics.keys()\n"
   ]
  },
  {
   "cell_type": "code",
   "execution_count": null,
   "metadata": {
    "id": "hw7j51Z3r-bc"
   },
   "outputs": [],
   "source": [
    "# Eval metric for first 6 iterations\n",
    "print(eval_metrics['AUC'][:6])\n"
   ]
  },
  {
   "cell_type": "markdown",
   "metadata": {
    "id": "YAf64lN7r-bd"
   },
   "source": [
    "### Model Saving\n",
    "\n",
    "It is always really handy to be able to save the model to disk (especially if training took some time). CatBoost have a method named `save_model` just for this purpose."
   ]
  },
  {
   "cell_type": "code",
   "execution_count": null,
   "metadata": {
    "id": "CzeXwC03DJX2"
   },
   "outputs": [],
   "source": [
    "# Create a model and train on training set\n",
    "model = CatBoostClassifier(iterations=10, random_seed=42, logging_level='Silent')\n",
    "model.fit(train_pool)\n"
   ]
  },
  {
   "cell_type": "code",
   "execution_count": null,
   "metadata": {
    "id": "P1ZO90PiDQT_"
   },
   "outputs": [],
   "source": [
    "# Save model\n",
    "model.save_model('catboost_model.dump')\n"
   ]
  },
  {
   "cell_type": "markdown",
   "metadata": {
    "id": "k7YlMGnoU_LK"
   },
   "source": [
    "Once the model is saved we can load it again to use."
   ]
  },
  {
   "cell_type": "code",
   "execution_count": null,
   "metadata": {
    "id": "Sxw7hupYr-be"
   },
   "outputs": [],
   "source": [
    "# Use the saved model\n",
    "model = CatBoostClassifier()\n",
    "model.load_model('catboost_model.dump');\n"
   ]
  },
  {
   "cell_type": "markdown",
   "metadata": {
    "id": "p2dPv6yBr-be"
   },
   "source": [
    "## Parameters Tuning\n",
    "\n",
    "While we could always select optimal number of iterations (boosting steps) by cross-validation and learning curve plots, it is also important to play with some of model parameters, and we would like to pay some special attention to `l2_leaf_reg` and `learning_rate`.\n",
    "\n",
    "Here, we'll select these parameters using the **`hyperopt`** package.\n",
    "\n",
    "**`hyperopt`**'s job is to find the best value of a scalar-valued, possibly-stochastic function over a set of possible arguments to that function. Whereas many optimization packages will assume that these inputs are drawn from a vector space, hyperopt is different in that as it encourages us to describe our search space in more detail. By providing more information about where our function is defined, and where we think the best values are, we allow algorithms in hyperopt to search more efficiently.\n",
    "\n",
    "To know more about **`hyperopt`**, refer [here](https://hyperopt.github.io/hyperopt/)."
   ]
  },
  {
   "cell_type": "markdown",
   "metadata": {
    "id": "z4-Qo_n9lIj9"
   },
   "source": [
    "To perform hyperparameter optimization, `hyperopt.fmin()` function is used. It iterates on different sets of algorithms and their hyperparameters and then minimizes the objective function.\n",
    "\n",
    "Some of `hyperopt.fmin()`'s parameters are:\n",
    "\n",
    "- ***fn***: the objective function to minimize\n",
    "- ***space***: the space over which to search\n",
    "- ***trials***: the database in which to store all the point evaluations of the search\n",
    "- ***algo***: the search algorithm to use such as Random search, TPE (Tree Parzen Estimators), and Adaptive TPE.\n",
    "    - `hyperopt.rand.suggest` and `hyperopt.tpe.suggest` provides logic for a sequential search of the hyperparameter space\n",
    "\n",
    "To know more about **`hyperopt.fmin()`**, refer [here](https://github.com/hyperopt/hyperopt/wiki/FMin)."
   ]
  },
  {
   "cell_type": "code",
   "execution_count": null,
   "metadata": {
    "id": "cgXJS5OHr-be"
   },
   "outputs": [],
   "source": [
    "# !pip -qq install hyperopt\n"
   ]
  },
  {
   "cell_type": "code",
   "execution_count": 42,
   "metadata": {
    "id": "DS3JIOyrr-bf"
   },
   "outputs": [],
   "source": [
    "# Create an objective function which hyperopt needs to minimize\n",
    "import hyperopt\n",
    "\n",
    "\n",
    "def hyperopt_objective(params):\n",
    "    # Create model\n",
    "    model = CatBoostClassifier(\n",
    "        l2_leaf_reg=int(params[\"l2_leaf_reg\"]),\n",
    "        learning_rate=params[\"learning_rate\"],\n",
    "        iterations=500,\n",
    "        eval_metric=metrics.Accuracy(),\n",
    "        random_seed=42,\n",
    "        verbose=False,\n",
    "        loss_function=metrics.Logloss(),\n",
    "    )\n",
    "    # Perform cross-validation\n",
    "    cv_data = cv(\n",
    "        Pool(X, y, cat_features=categorical_features_indices),\n",
    "        model.get_params(),\n",
    "        logging_level=\"Silent\",\n",
    "    )\n",
    "    # Best test accuracy\n",
    "    best_accuracy = np.max(cv_data[\"test-Accuracy-mean\"])\n",
    "\n",
    "    return 1 - best_accuracy  # as hyperopt minimizes\n"
   ]
  },
  {
   "cell_type": "code",
   "execution_count": 43,
   "metadata": {
    "id": "mb1nha4zmaTe"
   },
   "outputs": [],
   "source": [
    "# Create space over which hyperopt needs to search\n",
    "\"\"\"\n",
    "   hp.qloguniform(label, low, high, q): returns a value like round(exp(uniform(low, high)) / q) * q\n",
    "   hp.uniform(label, low, high): returns a value uniformly between low and high\n",
    "\"\"\"\n",
    "params_space = {\n",
    "    \"l2_leaf_reg\": hyperopt.hp.qloguniform(\"l2_leaf_reg\", 0, 2, 1),\n",
    "    \"learning_rate\": hyperopt.hp.uniform(\"learning_rate\", 1e-3, 5e-1),\n",
    "}\n"
   ]
  },
  {
   "cell_type": "code",
   "execution_count": 44,
   "metadata": {
    "id": "Y1vntDAymnjS"
   },
   "outputs": [],
   "source": [
    "# Create trials database to store all the point evaluations of the search\n",
    "trials = hyperopt.Trials()\n"
   ]
  },
  {
   "cell_type": "code",
   "execution_count": 45,
   "metadata": {
    "colab": {
     "background_save": true
    },
    "id": "4w8MVEoYr-bf"
   },
   "outputs": [
    {
     "name": "stdout",
     "output_type": "stream",
     "text": [
      "100%|██████████| 50/50 [07:07<00:00,  8.56s/trial, best loss: 0.16386083052749711]\n",
      "Best params values: {'l2_leaf_reg': 2.0, 'learning_rate': 0.15978584017361208}\n"
     ]
    }
   ],
   "source": [
    "# Perform hyperparameter optimization\n",
    "best = hyperopt.fmin(\n",
    "    fn=hyperopt_objective,\n",
    "    space=params_space,\n",
    "    algo=hyperopt.tpe.suggest,\n",
    "    max_evals=50,\n",
    "    trials=trials,\n",
    ")\n",
    "\n",
    "print(f\"Best params values: {best}\")\n"
   ]
  },
  {
   "cell_type": "markdown",
   "metadata": {
    "id": "OtuuDZZYr-bf"
   },
   "source": [
    "Now let's get all cross-validation data with best parameters:"
   ]
  },
  {
   "cell_type": "code",
   "execution_count": 46,
   "metadata": {
    "id": "QFnwGfWrr-bg"
   },
   "outputs": [
    {
     "name": "stdout",
     "output_type": "stream",
     "text": [
      "Training on fold [0/3]\n",
      "\n",
      "bestTest = 0.8417508418\n",
      "bestIteration = 102\n",
      "\n",
      "Training on fold [1/3]\n",
      "\n",
      "bestTest = 0.8585858586\n",
      "bestIteration = 180\n",
      "\n",
      "Training on fold [2/3]\n",
      "\n",
      "bestTest = 0.8249158249\n",
      "bestIteration = 279\n",
      "\n"
     ]
    }
   ],
   "source": [
    "# Create model with best params\n",
    "model = CatBoostClassifier(\n",
    "    l2_leaf_reg=int(best[\"l2_leaf_reg\"]),\n",
    "    learning_rate=best[\"learning_rate\"],\n",
    "    iterations=500,\n",
    "    eval_metric=metrics.Accuracy(),\n",
    "    random_seed=42,\n",
    "    verbose=False,\n",
    "    loss_function=metrics.Logloss(),\n",
    ")\n",
    "# Cross-validation\n",
    "cv_data = cv(Pool(X, y, cat_features=categorical_features_indices), model.get_params())\n"
   ]
  },
  {
   "cell_type": "code",
   "execution_count": 47,
   "metadata": {
    "colab": {
     "background_save": true
    },
    "id": "yv1Z52DEr-bg"
   },
   "outputs": [
    {
     "name": "stdout",
     "output_type": "stream",
     "text": [
      "Precise validation accuracy score: 0.8361391694725029\n"
     ]
    }
   ],
   "source": [
    "# Accuracy score\n",
    "print(\n",
    "    \"Precise validation accuracy score: {}\".format(\n",
    "        np.max(cv_data[\"test-Accuracy-mean\"])\n",
    "    )\n",
    ")\n"
   ]
  },
  {
   "cell_type": "markdown",
   "metadata": {
    "id": "PF3lI4Rqr-bh"
   },
   "source": [
    "Recall that with default parameters the cv score was ~0.82, and thereby some improvement can be seen above."
   ]
  },
  {
   "cell_type": "code",
   "execution_count": null,
   "metadata": {
    "id": "sgx7ShSNfOOd"
   },
   "outputs": [],
   "source": []
  }
 ],
 "metadata": {
  "colab": {
   "provenance": []
  },
  "kernelspec": {
   "display_name": ".venv",
   "language": "python",
   "name": "python3"
  },
  "language_info": {
   "codemirror_mode": {
    "name": "ipython",
    "version": 3
   },
   "file_extension": ".py",
   "mimetype": "text/x-python",
   "name": "python",
   "nbconvert_exporter": "python",
   "pygments_lexer": "ipython3",
   "version": "3.11.7"
  }
 },
 "nbformat": 4,
 "nbformat_minor": 0
}
