{
  "cells": [
    {
      "cell_type": "markdown",
      "metadata": {
        "id": "view-in-github",
        "colab_type": "text"
      },
      "source": [
        "<a href=\"https://colab.research.google.com/github/rajiv-ranjan/cds-assignments/blob/main/m5/AST%205/M5_AST_05_Dask_C.ipynb\" target=\"_parent\"><img src=\"https://colab.research.google.com/assets/colab-badge.svg\" alt=\"Open In Colab\"/></a>"
      ]
    },
    {
      "cell_type": "markdown",
      "id": "temporal-consequence",
      "metadata": {
        "id": "temporal-consequence"
      },
      "source": [
        "# Advanced Certification Program in Computational Data Science\n",
        "## A program by IISc and TalentSprint\n",
        "### Assignment 5: Dask"
      ]
    },
    {
      "cell_type": "markdown",
      "id": "imported-begin",
      "metadata": {
        "id": "imported-begin"
      },
      "source": [
        "## Learning Objectives"
      ]
    },
    {
      "cell_type": "markdown",
      "id": "solid-upset",
      "metadata": {
        "id": "solid-upset"
      },
      "source": [
        "At the end of the experiment, you will be able to:\n",
        "\n",
        "* know and implement dask related libraries\n",
        "* understand and visualize parallel processing using dask delayed\n",
        "* implement dask arrays\n",
        "* handle large and complex datasets in dask dataframes\n",
        "* implement list using dask bags\n",
        "* implement Linear Regression using dask-ml"
      ]
    },
    {
      "cell_type": "markdown",
      "id": "Mc_TIXSUPf8V",
      "metadata": {
        "id": "Mc_TIXSUPf8V"
      },
      "source": [
        "## Information"
      ]
    },
    {
      "cell_type": "markdown",
      "id": "external-gathering",
      "metadata": {
        "id": "external-gathering"
      },
      "source": [
        "### Dask\n",
        "\n",
        "Dask was launched in late 2014 by Matthew Rocklin with aims to bring native scalability to the Python Open Data Science  and overcome its single-machine restrictions. Dask consists of several different components and APIs, which can be categorized into three layers:\n",
        "\n",
        "* the scheduler\n",
        "* low-level APIs\n",
        "* high-level APIs"
      ]
    },
    {
      "cell_type": "markdown",
      "id": "EKabdQH8PFyP",
      "metadata": {
        "id": "EKabdQH8PFyP"
      },
      "source": [
        "![Dask_Overview](https://cdn.iisc.talentsprint.com/CDS/Images/Dask_Overview.JPG)"
      ]
    },
    {
      "cell_type": "markdown",
      "id": "novel-franchise",
      "metadata": {
        "id": "novel-franchise"
      },
      "source": [
        "Dask is a free and open-source library for parallel computing in Python. It helps you scale your data science and machine learning workflows. It makes it easy to work with Numpy, Pandas, and Scikit-Learn, but that’s just the beginning. Dask exposes low-level APIs to its internal task scheduler to execute advanced computations. This enables building a personalised parallel computing system that uses the same engine that powers Dask’s Arrays, DataFrames, and machine learning algorithms.\n",
        "\n",
        "If you have larger-than-memory data, you can use Dask to scale up your workflow to leverage all the cores of your local workstation or even scale out to the cloud.\n",
        "\n",
        "Dask emphasizes the following virtues:\n",
        "\n",
        "* The ability to work in parallel with  NumPy array and Pandas DataFrame objects\n",
        "* Integration with other projects.\n",
        "* Distributed computing\n",
        "* Faster operation because of its low overhead and minimum serialisation\n",
        "* It runs resiliently on clusters with thousands of cores\n",
        "* Real-time feedback and diagnostics"
      ]
    },
    {
      "cell_type": "markdown",
      "id": "l_JB9kotQaHb",
      "metadata": {
        "id": "l_JB9kotQaHb"
      },
      "source": [
        "### Parallel Processing\n",
        "\n",
        "Parallel processing refers to executing multiple tasks at the same time, using multiple processors in the same machine.\n",
        "\n",
        "Generally, the code is executed in sequence, one task at a time. However, if you have a complex code that takes a long time to run but has no logic dependency on each other then instead of waiting for the previous task to complete, we compute multiple steps simultaneously. This lets you take advantage of the available processing power, which is the case in most modern computers, thereby reducing the total time taken.\n",
        "\n",
        "To learn more about dask, follow the link [here](https://docs.dask.org/en/latest/).\n"
      ]
    },
    {
      "cell_type": "code",
      "execution_count": 1,
      "id": "8rxxeAgzJJM5",
      "metadata": {
        "id": "8rxxeAgzJJM5",
        "outputId": "6a8e8090-ea47-4537-8096-9200d8c07467",
        "colab": {
          "base_uri": "https://localhost:8080/",
          "height": 1000
        }
      },
      "outputs": [
        {
          "output_type": "stream",
          "name": "stdout",
          "text": [
            "\u001b[?25l   \u001b[90m━━━━━━━━━━━━━━━━━━━━━━━━━━━━━━━━━━━━━━━━\u001b[0m \u001b[32m0.0/1.3 MB\u001b[0m \u001b[31m?\u001b[0m eta \u001b[36m-:--:--\u001b[0m\r\u001b[2K   \u001b[91m━━━━━━━━━━━━━━━━━━━━━\u001b[0m\u001b[90m╺\u001b[0m\u001b[90m━━━━━━━━━━━━━━━━━━\u001b[0m \u001b[32m0.7/1.3 MB\u001b[0m \u001b[31m20.1 MB/s\u001b[0m eta \u001b[36m0:00:01\u001b[0m\r\u001b[2K   \u001b[90m━━━━━━━━━━━━━━━━━━━━━━━━━━━━━━━━━━━━━━━━\u001b[0m \u001b[32m1.3/1.3 MB\u001b[0m \u001b[31m20.6 MB/s\u001b[0m eta \u001b[36m0:00:00\u001b[0m\n",
            "\u001b[?25h\u001b[?25l   \u001b[90m━━━━━━━━━━━━━━━━━━━━━━━━━━━━━━━━━━━━━━━━\u001b[0m \u001b[32m0.0/1.5 MB\u001b[0m \u001b[31m?\u001b[0m eta \u001b[36m-:--:--\u001b[0m\r\u001b[2K   \u001b[90m━━━━━━━━━━━━━━━━━━━━━━━━━━━━━━━━━━━━━━━━\u001b[0m \u001b[32m1.5/1.5 MB\u001b[0m \u001b[31m55.2 MB/s\u001b[0m eta \u001b[36m0:00:00\u001b[0m\n",
            "\u001b[2K   \u001b[90m━━━━━━━━━━━━━━━━━━━━━━━━━━━━━━━━━━━━━━━━\u001b[0m \u001b[32m1.0/1.0 MB\u001b[0m \u001b[31m52.6 MB/s\u001b[0m eta \u001b[36m0:00:00\u001b[0m\n",
            "\u001b[2K   \u001b[90m━━━━━━━━━━━━━━━━━━━━━━━━━━━━━━━━━━━━━━━━\u001b[0m \u001b[32m7.0/7.0 MB\u001b[0m \u001b[31m122.6 MB/s\u001b[0m eta \u001b[36m0:00:00\u001b[0m\n",
            "\u001b[2K   \u001b[90m━━━━━━━━━━━━━━━━━━━━━━━━━━━━━━━━━━━━━━━━\u001b[0m \u001b[32m90.4/90.4 kB\u001b[0m \u001b[31m7.0 MB/s\u001b[0m eta \u001b[36m0:00:00\u001b[0m\n",
            "\u001b[2K   \u001b[90m━━━━━━━━━━━━━━━━━━━━━━━━━━━━━━━━━━━━━━━━\u001b[0m \u001b[32m43.3/43.3 kB\u001b[0m \u001b[31m2.9 MB/s\u001b[0m eta \u001b[36m0:00:00\u001b[0m\n",
            "\u001b[2K   \u001b[90m━━━━━━━━━━━━━━━━━━━━━━━━━━━━━━━━━━━━━━━━\u001b[0m \u001b[32m4.4/4.4 MB\u001b[0m \u001b[31m37.2 MB/s\u001b[0m eta \u001b[36m0:00:00\u001b[0m\n",
            "\u001b[2K   \u001b[90m━━━━━━━━━━━━━━━━━━━━━━━━━━━━━━━━━━━━━━━━\u001b[0m \u001b[32m17.1/17.1 MB\u001b[0m \u001b[31m105.8 MB/s\u001b[0m eta \u001b[36m0:00:00\u001b[0m\n",
            "\u001b[?25h\u001b[31mERROR: pip's dependency resolver does not currently take into account all the packages that are installed. This behaviour is the source of the following dependency conflicts.\n",
            "thinc 8.3.6 requires numpy<3.0.0,>=2.0.0, but you have numpy 1.23.4 which is incompatible.\n",
            "jax 0.5.2 requires numpy>=1.25, but you have numpy 1.23.4 which is incompatible.\n",
            "chex 0.1.89 requires numpy>=1.24.1, but you have numpy 1.23.4 which is incompatible.\n",
            "numba 0.61.2 requires numpy<2.3,>=1.24, but you have numpy 1.23.4 which is incompatible.\n",
            "pandas-stubs 2.2.2.240909 requires numpy>=1.23.5, but you have numpy 1.23.4 which is incompatible.\n",
            "scipy 1.15.3 requires numpy<2.5,>=1.23.5, but you have numpy 1.23.4 which is incompatible.\n",
            "treescope 0.1.9 requires numpy>=1.25.2, but you have numpy 1.23.4 which is incompatible.\n",
            "scikit-image 0.25.2 requires numpy>=1.24, but you have numpy 1.23.4 which is incompatible.\n",
            "jaxlib 0.5.1 requires numpy>=1.25, but you have numpy 1.23.4 which is incompatible.\u001b[0m\u001b[31m\n",
            "\u001b[2K     \u001b[90m━━━━━━━━━━━━━━━━━━━━━━━━━━━━━━━━━━━━━━━━\u001b[0m \u001b[32m62.0/62.0 kB\u001b[0m \u001b[31m2.2 MB/s\u001b[0m eta \u001b[36m0:00:00\u001b[0m\n",
            "\u001b[2K   \u001b[90m━━━━━━━━━━━━━━━━━━━━━━━━━━━━━━━━━━━━━━━━\u001b[0m \u001b[32m150.0/150.0 kB\u001b[0m \u001b[31m5.5 MB/s\u001b[0m eta \u001b[36m0:00:00\u001b[0m\n",
            "\u001b[2K   \u001b[90m━━━━━━━━━━━━━━━━━━━━━━━━━━━━━━━━━━━━━━━━\u001b[0m \u001b[32m16.8/16.8 MB\u001b[0m \u001b[31m93.0 MB/s\u001b[0m eta \u001b[36m0:00:00\u001b[0m\n",
            "\u001b[2K   \u001b[90m━━━━━━━━━━━━━━━━━━━━━━━━━━━━━━━━━━━━━━━━\u001b[0m \u001b[32m259.4/259.4 kB\u001b[0m \u001b[31m15.7 MB/s\u001b[0m eta \u001b[36m0:00:00\u001b[0m\n",
            "\u001b[?25hCollecting fastapi\n",
            "  Downloading fastapi-0.115.12-py3-none-any.whl.metadata (27 kB)\n",
            "Collecting starlette<0.47.0,>=0.40.0 (from fastapi)\n",
            "  Downloading starlette-0.46.2-py3-none-any.whl.metadata (6.2 kB)\n",
            "Requirement already satisfied: pydantic!=1.8,!=1.8.1,!=2.0.0,!=2.0.1,!=2.1.0,<3.0.0,>=1.7.4 in /usr/local/lib/python3.11/dist-packages (from fastapi) (2.11.4)\n",
            "Requirement already satisfied: typing-extensions>=4.8.0 in /usr/local/lib/python3.11/dist-packages (from fastapi) (4.13.2)\n",
            "Requirement already satisfied: annotated-types>=0.6.0 in /usr/local/lib/python3.11/dist-packages (from pydantic!=1.8,!=1.8.1,!=2.0.0,!=2.0.1,!=2.1.0,<3.0.0,>=1.7.4->fastapi) (0.7.0)\n",
            "Requirement already satisfied: pydantic-core==2.33.2 in /usr/local/lib/python3.11/dist-packages (from pydantic!=1.8,!=1.8.1,!=2.0.0,!=2.0.1,!=2.1.0,<3.0.0,>=1.7.4->fastapi) (2.33.2)\n",
            "Requirement already satisfied: typing-inspection>=0.4.0 in /usr/local/lib/python3.11/dist-packages (from pydantic!=1.8,!=1.8.1,!=2.0.0,!=2.0.1,!=2.1.0,<3.0.0,>=1.7.4->fastapi) (0.4.0)\n",
            "Requirement already satisfied: anyio<5,>=3.6.2 in /usr/local/lib/python3.11/dist-packages (from starlette<0.47.0,>=0.40.0->fastapi) (4.9.0)\n",
            "Requirement already satisfied: idna>=2.8 in /usr/local/lib/python3.11/dist-packages (from anyio<5,>=3.6.2->starlette<0.47.0,>=0.40.0->fastapi) (3.10)\n",
            "Requirement already satisfied: sniffio>=1.1 in /usr/local/lib/python3.11/dist-packages (from anyio<5,>=3.6.2->starlette<0.47.0,>=0.40.0->fastapi) (1.3.1)\n",
            "Downloading fastapi-0.115.12-py3-none-any.whl (95 kB)\n",
            "\u001b[2K   \u001b[90m━━━━━━━━━━━━━━━━━━━━━━━━━━━━━━━━━━━━━━━━\u001b[0m \u001b[32m95.2/95.2 kB\u001b[0m \u001b[31m3.7 MB/s\u001b[0m eta \u001b[36m0:00:00\u001b[0m\n",
            "\u001b[?25hDownloading starlette-0.46.2-py3-none-any.whl (72 kB)\n",
            "\u001b[2K   \u001b[90m━━━━━━━━━━━━━━━━━━━━━━━━━━━━━━━━━━━━━━━━\u001b[0m \u001b[32m72.0/72.0 kB\u001b[0m \u001b[31m5.3 MB/s\u001b[0m eta \u001b[36m0:00:00\u001b[0m\n",
            "\u001b[?25hInstalling collected packages: starlette, fastapi\n",
            "Successfully installed fastapi-0.115.12 starlette-0.46.2\n",
            "Collecting kaleido\n",
            "  Downloading kaleido-0.2.1-py2.py3-none-manylinux1_x86_64.whl.metadata (15 kB)\n",
            "Downloading kaleido-0.2.1-py2.py3-none-manylinux1_x86_64.whl (79.9 MB)\n",
            "\u001b[2K   \u001b[90m━━━━━━━━━━━━━━━━━━━━━━━━━━━━━━━━━━━━━━━━\u001b[0m \u001b[32m79.9/79.9 MB\u001b[0m \u001b[31m15.4 MB/s\u001b[0m eta \u001b[36m0:00:00\u001b[0m\n",
            "\u001b[?25hInstalling collected packages: kaleido\n",
            "Successfully installed kaleido-0.2.1\n",
            "Collecting uvicorn\n",
            "  Downloading uvicorn-0.34.2-py3-none-any.whl.metadata (6.5 kB)\n",
            "Requirement already satisfied: click>=7.0 in /usr/local/lib/python3.11/dist-packages (from uvicorn) (8.2.0)\n",
            "Requirement already satisfied: h11>=0.8 in /usr/local/lib/python3.11/dist-packages (from uvicorn) (0.16.0)\n",
            "Downloading uvicorn-0.34.2-py3-none-any.whl (62 kB)\n",
            "\u001b[2K   \u001b[90m━━━━━━━━━━━━━━━━━━━━━━━━━━━━━━━━━━━━━━━━\u001b[0m \u001b[32m62.5/62.5 kB\u001b[0m \u001b[31m2.2 MB/s\u001b[0m eta \u001b[36m0:00:00\u001b[0m\n",
            "\u001b[?25hInstalling collected packages: uvicorn\n",
            "Successfully installed uvicorn-0.34.2\n",
            "Collecting python-multipart\n",
            "  Downloading python_multipart-0.0.20-py3-none-any.whl.metadata (1.8 kB)\n",
            "Downloading python_multipart-0.0.20-py3-none-any.whl (24 kB)\n",
            "Installing collected packages: python-multipart\n",
            "Successfully installed python-multipart-0.0.20\n",
            "Requirement already satisfied: importlib-metadata in /usr/local/lib/python3.11/dist-packages (8.7.0)\n",
            "Requirement already satisfied: zipp>=3.20 in /usr/local/lib/python3.11/dist-packages (from importlib-metadata) (3.21.0)\n",
            "Reading package lists... Done\n",
            "Building dependency tree... Done\n",
            "Reading state information... Done\n",
            "graphviz is already the newest version (2.42.2-6ubuntu0.1).\n",
            "0 upgraded, 0 newly installed, 0 to remove and 0 not upgraded.\n",
            "Collecting graphviz\n",
            "  Downloading graphviz-0.20.3-py3-none-any.whl.metadata (12 kB)\n",
            "Downloading graphviz-0.20.3-py3-none-any.whl (47 kB)\n",
            "\u001b[2K   \u001b[90m━━━━━━━━━━━━━━━━━━━━━━━━━━━━━━━━━━━━━━━━\u001b[0m \u001b[32m47.1/47.1 kB\u001b[0m \u001b[31m1.7 MB/s\u001b[0m eta \u001b[36m0:00:00\u001b[0m\n",
            "\u001b[?25hInstalling collected packages: graphviz\n",
            "Successfully installed graphviz-0.20.3\n",
            "Collecting dask\n",
            "  Using cached dask-2025.5.1-py3-none-any.whl.metadata (3.8 kB)\n",
            "Collecting distributed\n",
            "  Using cached distributed-2025.5.1-py3-none-any.whl.metadata (3.4 kB)\n",
            "Collecting dask_ml\n",
            "  Using cached dask_ml-2025.1.0-py3-none-any.whl.metadata (6.0 kB)\n",
            "Collecting click>=8.1 (from dask)\n",
            "  Downloading click-8.2.1-py3-none-any.whl.metadata (2.5 kB)\n",
            "Collecting cloudpickle>=3.0.0 (from dask)\n",
            "  Downloading cloudpickle-3.1.1-py3-none-any.whl.metadata (7.1 kB)\n",
            "Collecting fsspec>=2021.09.0 (from dask)\n",
            "  Downloading fsspec-2025.5.1-py3-none-any.whl.metadata (11 kB)\n",
            "Collecting packaging>=20.0 (from dask)\n",
            "  Downloading packaging-25.0-py3-none-any.whl.metadata (3.3 kB)\n",
            "Collecting partd>=1.4.0 (from dask)\n",
            "  Using cached partd-1.4.2-py3-none-any.whl.metadata (4.6 kB)\n",
            "Collecting pyyaml>=5.3.1 (from dask)\n",
            "  Downloading PyYAML-6.0.2-cp311-cp311-manylinux_2_17_x86_64.manylinux2014_x86_64.whl.metadata (2.1 kB)\n",
            "Collecting toolz>=0.10.0 (from dask)\n",
            "  Downloading toolz-1.0.0-py3-none-any.whl.metadata (5.1 kB)\n",
            "Collecting importlib_metadata>=4.13.0 (from dask)\n",
            "  Using cached importlib_metadata-8.7.0-py3-none-any.whl.metadata (4.8 kB)\n",
            "Collecting jinja2>=2.10.3 (from distributed)\n",
            "  Downloading jinja2-3.1.6-py3-none-any.whl.metadata (2.9 kB)\n",
            "Collecting locket>=1.0.0 (from distributed)\n",
            "  Using cached locket-1.0.0-py2.py3-none-any.whl.metadata (2.8 kB)\n",
            "Collecting msgpack>=1.0.2 (from distributed)\n",
            "  Downloading msgpack-1.1.0-cp311-cp311-manylinux_2_17_x86_64.manylinux2014_x86_64.whl.metadata (8.4 kB)\n",
            "Collecting psutil>=5.8.0 (from distributed)\n",
            "  Downloading psutil-7.0.0-cp36-abi3-manylinux_2_12_x86_64.manylinux2010_x86_64.manylinux_2_17_x86_64.manylinux2014_x86_64.whl.metadata (22 kB)\n",
            "Collecting sortedcontainers>=2.0.5 (from distributed)\n",
            "  Using cached sortedcontainers-2.4.0-py2.py3-none-any.whl.metadata (10 kB)\n",
            "Collecting tblib>=1.6.0 (from distributed)\n",
            "  Using cached tblib-3.1.0-py3-none-any.whl.metadata (25 kB)\n",
            "Collecting tornado>=6.2.0 (from distributed)\n",
            "  Downloading tornado-6.5.1-cp39-abi3-manylinux_2_5_x86_64.manylinux1_x86_64.manylinux_2_17_x86_64.manylinux2014_x86_64.whl.metadata (2.8 kB)\n",
            "Collecting urllib3>=1.26.5 (from distributed)\n",
            "  Downloading urllib3-2.4.0-py3-none-any.whl.metadata (6.5 kB)\n",
            "Collecting zict>=3.0.0 (from distributed)\n",
            "  Using cached zict-3.0.0-py2.py3-none-any.whl.metadata (899 bytes)\n",
            "Collecting dask-glm>=0.2.0 (from dask_ml)\n",
            "  Using cached dask_glm-0.3.2-py2.py3-none-any.whl.metadata (1.5 kB)\n",
            "Collecting multipledispatch>=0.4.9 (from dask_ml)\n",
            "  Using cached multipledispatch-1.0.0-py3-none-any.whl.metadata (3.8 kB)\n",
            "Collecting numba>=0.51.0 (from dask_ml)\n",
            "  Downloading numba-0.61.2-cp311-cp311-manylinux2014_x86_64.manylinux_2_17_x86_64.whl.metadata (2.8 kB)\n",
            "Collecting numpy>=1.24.0 (from dask_ml)\n",
            "  Using cached numpy-2.2.6-cp311-cp311-manylinux_2_17_x86_64.manylinux2014_x86_64.whl.metadata (62 kB)\n",
            "Collecting pandas>=2.0 (from dask_ml)\n",
            "  Downloading pandas-2.2.3-cp311-cp311-manylinux_2_17_x86_64.manylinux2014_x86_64.whl.metadata (89 kB)\n",
            "\u001b[2K     \u001b[90m━━━━━━━━━━━━━━━━━━━━━━━━━━━━━━━━━━━━━━━━\u001b[0m \u001b[32m89.9/89.9 kB\u001b[0m \u001b[31m3.8 MB/s\u001b[0m eta \u001b[36m0:00:00\u001b[0m\n",
            "\u001b[?25hCollecting scikit-learn>=1.6.1 (from dask_ml)\n",
            "  Downloading scikit_learn-1.6.1-cp311-cp311-manylinux_2_17_x86_64.manylinux2014_x86_64.whl.metadata (18 kB)\n",
            "Collecting scipy (from dask_ml)\n",
            "  Downloading scipy-1.15.3-cp311-cp311-manylinux_2_17_x86_64.manylinux2014_x86_64.whl.metadata (61 kB)\n",
            "\u001b[2K     \u001b[90m━━━━━━━━━━━━━━━━━━━━━━━━━━━━━━━━━━━━━━━━\u001b[0m \u001b[32m62.0/62.0 kB\u001b[0m \u001b[31m4.0 MB/s\u001b[0m eta \u001b[36m0:00:00\u001b[0m\n",
            "\u001b[?25hCollecting sparse>=0.7.0 (from dask-glm>=0.2.0->dask_ml)\n",
            "  Using cached sparse-0.17.0-py2.py3-none-any.whl.metadata (5.3 kB)\n",
            "Collecting pyarrow>=14.0.1 (from dask[array,dataframe]>=2025.1.0->dask_ml)\n",
            "  Downloading pyarrow-20.0.0-cp311-cp311-manylinux_2_28_x86_64.whl.metadata (3.3 kB)\n",
            "Collecting zipp>=3.20 (from importlib_metadata>=4.13.0->dask)\n",
            "  Downloading zipp-3.21.0-py3-none-any.whl.metadata (3.7 kB)\n",
            "Collecting MarkupSafe>=2.0 (from jinja2>=2.10.3->distributed)\n",
            "  Downloading MarkupSafe-3.0.2-cp311-cp311-manylinux_2_17_x86_64.manylinux2014_x86_64.whl.metadata (4.0 kB)\n",
            "Collecting llvmlite<0.45,>=0.44.0dev0 (from numba>=0.51.0->dask_ml)\n",
            "  Downloading llvmlite-0.44.0-cp311-cp311-manylinux_2_17_x86_64.manylinux2014_x86_64.whl.metadata (4.8 kB)\n",
            "Collecting python-dateutil>=2.8.2 (from pandas>=2.0->dask_ml)\n",
            "  Downloading python_dateutil-2.9.0.post0-py2.py3-none-any.whl.metadata (8.4 kB)\n",
            "Collecting pytz>=2020.1 (from pandas>=2.0->dask_ml)\n",
            "  Downloading pytz-2025.2-py2.py3-none-any.whl.metadata (22 kB)\n",
            "Collecting tzdata>=2022.7 (from pandas>=2.0->dask_ml)\n",
            "  Downloading tzdata-2025.2-py2.py3-none-any.whl.metadata (1.4 kB)\n",
            "Collecting joblib>=1.2.0 (from scikit-learn>=1.6.1->dask_ml)\n",
            "  Downloading joblib-1.5.1-py3-none-any.whl.metadata (5.6 kB)\n",
            "Collecting threadpoolctl>=3.1.0 (from scikit-learn>=1.6.1->dask_ml)\n",
            "  Downloading threadpoolctl-3.6.0-py3-none-any.whl.metadata (13 kB)\n",
            "Collecting six>=1.5 (from python-dateutil>=2.8.2->pandas>=2.0->dask_ml)\n",
            "  Downloading six-1.17.0-py2.py3-none-any.whl.metadata (1.7 kB)\n",
            "Using cached dask-2025.5.1-py3-none-any.whl (1.5 MB)\n",
            "Using cached distributed-2025.5.1-py3-none-any.whl (1.0 MB)\n",
            "Using cached dask_ml-2025.1.0-py3-none-any.whl (149 kB)\n",
            "Downloading click-8.2.1-py3-none-any.whl (102 kB)\n",
            "\u001b[2K   \u001b[90m━━━━━━━━━━━━━━━━━━━━━━━━━━━━━━━━━━━━━━━━\u001b[0m \u001b[32m102.2/102.2 kB\u001b[0m \u001b[31m7.6 MB/s\u001b[0m eta \u001b[36m0:00:00\u001b[0m\n",
            "\u001b[?25hDownloading cloudpickle-3.1.1-py3-none-any.whl (20 kB)\n",
            "Using cached dask_glm-0.3.2-py2.py3-none-any.whl (13 kB)\n",
            "Downloading fsspec-2025.5.1-py3-none-any.whl (199 kB)\n",
            "\u001b[2K   \u001b[90m━━━━━━━━━━━━━━━━━━━━━━━━━━━━━━━━━━━━━━━━\u001b[0m \u001b[32m199.1/199.1 kB\u001b[0m \u001b[31m12.5 MB/s\u001b[0m eta \u001b[36m0:00:00\u001b[0m\n",
            "\u001b[?25hUsing cached importlib_metadata-8.7.0-py3-none-any.whl (27 kB)\n",
            "Downloading jinja2-3.1.6-py3-none-any.whl (134 kB)\n",
            "\u001b[2K   \u001b[90m━━━━━━━━━━━━━━━━━━━━━━━━━━━━━━━━━━━━━━━━\u001b[0m \u001b[32m134.9/134.9 kB\u001b[0m \u001b[31m9.5 MB/s\u001b[0m eta \u001b[36m0:00:00\u001b[0m\n",
            "\u001b[?25hUsing cached locket-1.0.0-py2.py3-none-any.whl (4.4 kB)\n",
            "Downloading msgpack-1.1.0-cp311-cp311-manylinux_2_17_x86_64.manylinux2014_x86_64.whl (403 kB)\n",
            "\u001b[2K   \u001b[90m━━━━━━━━━━━━━━━━━━━━━━━━━━━━━━━━━━━━━━━━\u001b[0m \u001b[32m403.7/403.7 kB\u001b[0m \u001b[31m26.3 MB/s\u001b[0m eta \u001b[36m0:00:00\u001b[0m\n",
            "\u001b[?25hUsing cached multipledispatch-1.0.0-py3-none-any.whl (12 kB)\n",
            "Downloading numba-0.61.2-cp311-cp311-manylinux2014_x86_64.manylinux_2_17_x86_64.whl (3.8 MB)\n",
            "\u001b[2K   \u001b[90m━━━━━━━━━━━━━━━━━━━━━━━━━━━━━━━━━━━━━━━━\u001b[0m \u001b[32m3.8/3.8 MB\u001b[0m \u001b[31m75.9 MB/s\u001b[0m eta \u001b[36m0:00:00\u001b[0m\n",
            "\u001b[?25hUsing cached numpy-2.2.6-cp311-cp311-manylinux_2_17_x86_64.manylinux2014_x86_64.whl (16.8 MB)\n",
            "Downloading packaging-25.0-py3-none-any.whl (66 kB)\n",
            "\u001b[2K   \u001b[90m━━━━━━━━━━━━━━━━━━━━━━━━━━━━━━━━━━━━━━━━\u001b[0m \u001b[32m66.5/66.5 kB\u001b[0m \u001b[31m4.7 MB/s\u001b[0m eta \u001b[36m0:00:00\u001b[0m\n",
            "\u001b[?25hDownloading pandas-2.2.3-cp311-cp311-manylinux_2_17_x86_64.manylinux2014_x86_64.whl (13.1 MB)\n",
            "\u001b[2K   \u001b[90m━━━━━━━━━━━━━━━━━━━━━━━━━━━━━━━━━━━━━━━━\u001b[0m \u001b[32m13.1/13.1 MB\u001b[0m \u001b[31m114.6 MB/s\u001b[0m eta \u001b[36m0:00:00\u001b[0m\n",
            "\u001b[?25hUsing cached partd-1.4.2-py3-none-any.whl (18 kB)\n",
            "Downloading psutil-7.0.0-cp36-abi3-manylinux_2_12_x86_64.manylinux2010_x86_64.manylinux_2_17_x86_64.manylinux2014_x86_64.whl (277 kB)\n",
            "\u001b[2K   \u001b[90m━━━━━━━━━━━━━━━━━━━━━━━━━━━━━━━━━━━━━━━━\u001b[0m \u001b[32m278.0/278.0 kB\u001b[0m \u001b[31m19.4 MB/s\u001b[0m eta \u001b[36m0:00:00\u001b[0m\n",
            "\u001b[?25hDownloading PyYAML-6.0.2-cp311-cp311-manylinux_2_17_x86_64.manylinux2014_x86_64.whl (762 kB)\n",
            "\u001b[2K   \u001b[90m━━━━━━━━━━━━━━━━━━━━━━━━━━━━━━━━━━━━━━━━\u001b[0m \u001b[32m763.0/763.0 kB\u001b[0m \u001b[31m35.2 MB/s\u001b[0m eta \u001b[36m0:00:00\u001b[0m\n",
            "\u001b[?25hDownloading scikit_learn-1.6.1-cp311-cp311-manylinux_2_17_x86_64.manylinux2014_x86_64.whl (13.5 MB)\n",
            "\u001b[2K   \u001b[90m━━━━━━━━━━━━━━━━━━━━━━━━━━━━━━━━━━━━━━━━\u001b[0m \u001b[32m13.5/13.5 MB\u001b[0m \u001b[31m123.9 MB/s\u001b[0m eta \u001b[36m0:00:00\u001b[0m\n",
            "\u001b[?25hDownloading scipy-1.15.3-cp311-cp311-manylinux_2_17_x86_64.manylinux2014_x86_64.whl (37.7 MB)\n",
            "\u001b[2K   \u001b[90m━━━━━━━━━━━━━━━━━━━━━━━━━━━━━━━━━━━━━━━━\u001b[0m \u001b[32m37.7/37.7 MB\u001b[0m \u001b[31m40.1 MB/s\u001b[0m eta \u001b[36m0:00:00\u001b[0m\n",
            "\u001b[?25hUsing cached sortedcontainers-2.4.0-py2.py3-none-any.whl (29 kB)\n",
            "Using cached tblib-3.1.0-py3-none-any.whl (12 kB)\n",
            "Downloading toolz-1.0.0-py3-none-any.whl (56 kB)\n",
            "\u001b[2K   \u001b[90m━━━━━━━━━━━━━━━━━━━━━━━━━━━━━━━━━━━━━━━━\u001b[0m \u001b[32m56.4/56.4 kB\u001b[0m \u001b[31m3.4 MB/s\u001b[0m eta \u001b[36m0:00:00\u001b[0m\n",
            "\u001b[?25hDownloading tornado-6.5.1-cp39-abi3-manylinux_2_5_x86_64.manylinux1_x86_64.manylinux_2_17_x86_64.manylinux2014_x86_64.whl (443 kB)\n",
            "\u001b[2K   \u001b[90m━━━━━━━━━━━━━━━━━━━━━━━━━━━━━━━━━━━━━━━━\u001b[0m \u001b[32m443.3/443.3 kB\u001b[0m \u001b[31m25.1 MB/s\u001b[0m eta \u001b[36m0:00:00\u001b[0m\n",
            "\u001b[?25hDownloading urllib3-2.4.0-py3-none-any.whl (128 kB)\n",
            "\u001b[2K   \u001b[90m━━━━━━━━━━━━━━━━━━━━━━━━━━━━━━━━━━━━━━━━\u001b[0m \u001b[32m128.7/128.7 kB\u001b[0m \u001b[31m9.2 MB/s\u001b[0m eta \u001b[36m0:00:00\u001b[0m\n",
            "\u001b[?25hUsing cached zict-3.0.0-py2.py3-none-any.whl (43 kB)\n",
            "Downloading joblib-1.5.1-py3-none-any.whl (307 kB)\n",
            "\u001b[2K   \u001b[90m━━━━━━━━━━━━━━━━━━━━━━━━━━━━━━━━━━━━━━━━\u001b[0m \u001b[32m307.7/307.7 kB\u001b[0m \u001b[31m21.4 MB/s\u001b[0m eta \u001b[36m0:00:00\u001b[0m\n",
            "\u001b[?25hDownloading llvmlite-0.44.0-cp311-cp311-manylinux_2_17_x86_64.manylinux2014_x86_64.whl (42.4 MB)\n",
            "\u001b[2K   \u001b[90m━━━━━━━━━━━━━━━━━━━━━━━━━━━━━━━━━━━━━━━━\u001b[0m \u001b[32m42.4/42.4 MB\u001b[0m \u001b[31m34.2 MB/s\u001b[0m eta \u001b[36m0:00:00\u001b[0m\n",
            "\u001b[?25hDownloading MarkupSafe-3.0.2-cp311-cp311-manylinux_2_17_x86_64.manylinux2014_x86_64.whl (23 kB)\n",
            "Downloading pyarrow-20.0.0-cp311-cp311-manylinux_2_28_x86_64.whl (42.3 MB)\n",
            "\u001b[2K   \u001b[90m━━━━━━━━━━━━━━━━━━━━━━━━━━━━━━━━━━━━━━━━\u001b[0m \u001b[32m42.3/42.3 MB\u001b[0m \u001b[31m34.1 MB/s\u001b[0m eta \u001b[36m0:00:00\u001b[0m\n",
            "\u001b[?25hDownloading python_dateutil-2.9.0.post0-py2.py3-none-any.whl (229 kB)\n",
            "\u001b[2K   \u001b[90m━━━━━━━━━━━━━━━━━━━━━━━━━━━━━━━━━━━━━━━━\u001b[0m \u001b[32m229.9/229.9 kB\u001b[0m \u001b[31m15.6 MB/s\u001b[0m eta \u001b[36m0:00:00\u001b[0m\n",
            "\u001b[?25hDownloading pytz-2025.2-py2.py3-none-any.whl (509 kB)\n",
            "\u001b[2K   \u001b[90m━━━━━━━━━━━━━━━━━━━━━━━━━━━━━━━━━━━━━━━━\u001b[0m \u001b[32m509.2/509.2 kB\u001b[0m \u001b[31m24.7 MB/s\u001b[0m eta \u001b[36m0:00:00\u001b[0m\n",
            "\u001b[?25hUsing cached sparse-0.17.0-py2.py3-none-any.whl (259 kB)\n",
            "Downloading threadpoolctl-3.6.0-py3-none-any.whl (18 kB)\n",
            "Downloading tzdata-2025.2-py2.py3-none-any.whl (347 kB)\n",
            "\u001b[2K   \u001b[90m━━━━━━━━━━━━━━━━━━━━━━━━━━━━━━━━━━━━━━━━\u001b[0m \u001b[32m347.8/347.8 kB\u001b[0m \u001b[31m21.6 MB/s\u001b[0m eta \u001b[36m0:00:00\u001b[0m\n",
            "\u001b[?25hDownloading zipp-3.21.0-py3-none-any.whl (9.6 kB)\n",
            "Downloading six-1.17.0-py2.py3-none-any.whl (11 kB)\n",
            "Installing collected packages: sortedcontainers, pytz, multipledispatch, zipp, zict, urllib3, tzdata, tornado, toolz, threadpoolctl, tblib, six, pyyaml, pyarrow, psutil, packaging, numpy, msgpack, MarkupSafe, locket, llvmlite, joblib, fsspec, cloudpickle, click, scipy, python-dateutil, partd, numba, jinja2, importlib_metadata, sparse, scikit-learn, pandas, dask, distributed, dask-glm, dask_ml\n",
            "  Attempting uninstall: sortedcontainers\n",
            "    Found existing installation: sortedcontainers 2.4.0\n",
            "    Uninstalling sortedcontainers-2.4.0:\n",
            "      Successfully uninstalled sortedcontainers-2.4.0\n",
            "  Attempting uninstall: pytz\n",
            "    Found existing installation: pytz 2025.2\n",
            "    Uninstalling pytz-2025.2:\n",
            "      Successfully uninstalled pytz-2025.2\n",
            "  Attempting uninstall: multipledispatch\n",
            "    Found existing installation: multipledispatch 1.0.0\n",
            "    Uninstalling multipledispatch-1.0.0:\n",
            "      Successfully uninstalled multipledispatch-1.0.0\n",
            "  Attempting uninstall: zipp\n",
            "    Found existing installation: zipp 3.21.0\n",
            "    Uninstalling zipp-3.21.0:\n",
            "      Successfully uninstalled zipp-3.21.0\n",
            "  Attempting uninstall: zict\n",
            "    Found existing installation: zict 3.0.0\n",
            "    Uninstalling zict-3.0.0:\n",
            "      Successfully uninstalled zict-3.0.0\n",
            "  Attempting uninstall: urllib3\n",
            "    Found existing installation: urllib3 2.4.0\n",
            "    Uninstalling urllib3-2.4.0:\n",
            "      Successfully uninstalled urllib3-2.4.0\n",
            "  Attempting uninstall: tzdata\n",
            "    Found existing installation: tzdata 2025.2\n",
            "    Uninstalling tzdata-2025.2:\n",
            "      Successfully uninstalled tzdata-2025.2\n",
            "  Attempting uninstall: tornado\n",
            "    Found existing installation: tornado 6.4.2\n",
            "    Uninstalling tornado-6.4.2:\n",
            "      Successfully uninstalled tornado-6.4.2\n",
            "  Attempting uninstall: toolz\n",
            "    Found existing installation: toolz 1.0.0\n",
            "    Uninstalling toolz-1.0.0:\n",
            "      Successfully uninstalled toolz-1.0.0\n",
            "  Attempting uninstall: threadpoolctl\n",
            "    Found existing installation: threadpoolctl 3.6.0\n",
            "    Uninstalling threadpoolctl-3.6.0:\n",
            "      Successfully uninstalled threadpoolctl-3.6.0\n",
            "  Attempting uninstall: tblib\n",
            "    Found existing installation: tblib 3.1.0\n",
            "    Uninstalling tblib-3.1.0:\n",
            "      Successfully uninstalled tblib-3.1.0\n",
            "  Attempting uninstall: six\n",
            "    Found existing installation: six 1.17.0\n",
            "    Uninstalling six-1.17.0:\n",
            "      Successfully uninstalled six-1.17.0\n",
            "  Attempting uninstall: pyyaml\n",
            "    Found existing installation: PyYAML 6.0.2\n",
            "    Uninstalling PyYAML-6.0.2:\n",
            "      Successfully uninstalled PyYAML-6.0.2\n",
            "  Attempting uninstall: pyarrow\n",
            "    Found existing installation: pyarrow 20.0.0\n",
            "    Uninstalling pyarrow-20.0.0:\n",
            "      Successfully uninstalled pyarrow-20.0.0\n",
            "  Attempting uninstall: psutil\n",
            "    Found existing installation: psutil 5.9.5\n",
            "    Uninstalling psutil-5.9.5:\n",
            "      Successfully uninstalled psutil-5.9.5\n",
            "  Attempting uninstall: packaging\n",
            "    Found existing installation: packaging 25.0\n",
            "    Uninstalling packaging-25.0:\n",
            "      Successfully uninstalled packaging-25.0\n",
            "  Attempting uninstall: numpy\n",
            "    Found existing installation: numpy 2.2.6\n",
            "    Uninstalling numpy-2.2.6:\n",
            "      Successfully uninstalled numpy-2.2.6\n",
            "  Attempting uninstall: msgpack\n",
            "    Found existing installation: msgpack 1.1.0\n",
            "    Uninstalling msgpack-1.1.0:\n",
            "      Successfully uninstalled msgpack-1.1.0\n",
            "  Attempting uninstall: MarkupSafe\n",
            "    Found existing installation: MarkupSafe 3.0.2\n",
            "    Uninstalling MarkupSafe-3.0.2:\n",
            "      Successfully uninstalled MarkupSafe-3.0.2\n",
            "  Attempting uninstall: locket\n",
            "    Found existing installation: locket 1.0.0\n",
            "    Uninstalling locket-1.0.0:\n",
            "      Successfully uninstalled locket-1.0.0\n",
            "  Attempting uninstall: llvmlite\n",
            "    Found existing installation: llvmlite 0.44.0\n",
            "    Uninstalling llvmlite-0.44.0:\n",
            "      Successfully uninstalled llvmlite-0.44.0\n",
            "  Attempting uninstall: joblib\n",
            "    Found existing installation: joblib 1.5.0\n",
            "    Uninstalling joblib-1.5.0:\n",
            "      Successfully uninstalled joblib-1.5.0\n",
            "  Attempting uninstall: fsspec\n",
            "    Found existing installation: fsspec 2025.3.2\n",
            "    Uninstalling fsspec-2025.3.2:\n",
            "      Successfully uninstalled fsspec-2025.3.2\n",
            "  Attempting uninstall: cloudpickle\n",
            "    Found existing installation: cloudpickle 3.1.1\n",
            "    Uninstalling cloudpickle-3.1.1:\n",
            "      Successfully uninstalled cloudpickle-3.1.1\n",
            "  Attempting uninstall: click\n",
            "    Found existing installation: click 8.2.0\n",
            "    Uninstalling click-8.2.0:\n",
            "      Successfully uninstalled click-8.2.0\n",
            "  Attempting uninstall: scipy\n",
            "    Found existing installation: scipy 1.15.3\n",
            "    Uninstalling scipy-1.15.3:\n",
            "      Successfully uninstalled scipy-1.15.3\n",
            "  Attempting uninstall: python-dateutil\n",
            "    Found existing installation: python-dateutil 2.9.0.post0\n",
            "    Uninstalling python-dateutil-2.9.0.post0:\n",
            "      Successfully uninstalled python-dateutil-2.9.0.post0\n",
            "  Attempting uninstall: partd\n",
            "    Found existing installation: partd 1.4.2\n",
            "    Uninstalling partd-1.4.2:\n",
            "      Successfully uninstalled partd-1.4.2\n",
            "  Attempting uninstall: numba\n",
            "    Found existing installation: numba 0.61.2\n",
            "    Uninstalling numba-0.61.2:\n",
            "      Successfully uninstalled numba-0.61.2\n",
            "  Attempting uninstall: jinja2\n",
            "    Found existing installation: Jinja2 3.1.6\n",
            "    Uninstalling Jinja2-3.1.6:\n",
            "      Successfully uninstalled Jinja2-3.1.6\n",
            "  Attempting uninstall: importlib_metadata\n",
            "    Found existing installation: importlib_metadata 8.7.0\n",
            "    Uninstalling importlib_metadata-8.7.0:\n",
            "      Successfully uninstalled importlib_metadata-8.7.0\n",
            "  Attempting uninstall: sparse\n",
            "    Found existing installation: sparse 0.17.0\n",
            "    Uninstalling sparse-0.17.0:\n",
            "      Successfully uninstalled sparse-0.17.0\n",
            "  Attempting uninstall: scikit-learn\n",
            "    Found existing installation: scikit-learn 1.6.1\n",
            "    Uninstalling scikit-learn-1.6.1:\n",
            "      Successfully uninstalled scikit-learn-1.6.1\n",
            "  Attempting uninstall: pandas\n",
            "    Found existing installation: pandas 2.2.2\n",
            "    Uninstalling pandas-2.2.2:\n",
            "      Successfully uninstalled pandas-2.2.2\n",
            "  Attempting uninstall: dask\n",
            "    Found existing installation: dask 2025.5.1\n",
            "    Uninstalling dask-2025.5.1:\n",
            "      Successfully uninstalled dask-2025.5.1\n",
            "  Attempting uninstall: distributed\n",
            "    Found existing installation: distributed 2025.5.1\n",
            "    Uninstalling distributed-2025.5.1:\n",
            "      Successfully uninstalled distributed-2025.5.1\n",
            "  Attempting uninstall: dask-glm\n",
            "    Found existing installation: dask-glm 0.3.2\n",
            "    Uninstalling dask-glm-0.3.2:\n",
            "      Successfully uninstalled dask-glm-0.3.2\n",
            "  Attempting uninstall: dask_ml\n",
            "    Found existing installation: dask-ml 2025.1.0\n",
            "    Uninstalling dask-ml-2025.1.0:\n",
            "      Successfully uninstalled dask-ml-2025.1.0\n",
            "\u001b[31mERROR: pip's dependency resolver does not currently take into account all the packages that are installed. This behaviour is the source of the following dependency conflicts.\n",
            "google-colab 1.0.0 requires pandas==2.2.2, but you have pandas 2.2.3 which is incompatible.\n",
            "google-colab 1.0.0 requires tornado==6.4.2, but you have tornado 6.5.1 which is incompatible.\u001b[0m\u001b[31m\n",
            "\u001b[0mSuccessfully installed MarkupSafe-3.0.2 click-8.2.1 cloudpickle-3.1.1 dask-2025.5.1 dask-glm-0.3.2 dask_ml-2025.1.0 distributed-2025.5.1 fsspec-2025.5.1 importlib_metadata-8.7.0 jinja2-3.1.6 joblib-1.5.1 llvmlite-0.44.0 locket-1.0.0 msgpack-1.1.0 multipledispatch-1.0.0 numba-0.61.2 numpy-2.2.6 packaging-25.0 pandas-2.2.3 partd-1.4.2 psutil-7.0.0 pyarrow-20.0.0 python-dateutil-2.9.0.post0 pytz-2025.2 pyyaml-6.0.2 scikit-learn-1.6.1 scipy-1.15.3 six-1.17.0 sortedcontainers-2.4.0 sparse-0.17.0 tblib-3.1.0 threadpoolctl-3.6.0 toolz-1.0.0 tornado-6.5.1 tzdata-2025.2 urllib3-2.4.0 zict-3.0.0 zipp-3.21.0\n"
          ]
        },
        {
          "output_type": "display_data",
          "data": {
            "application/vnd.colab-display-data+json": {
              "pip_warning": {
                "packages": [
                  "dateutil",
                  "importlib_metadata",
                  "psutil",
                  "six",
                  "tornado",
                  "zipp"
                ]
              },
              "id": "f1a998d0fc764acd9567c9496794706b"
            }
          },
          "metadata": {}
        }
      ],
      "source": [
        "# @title Install  the Required Dependensies and Restart the Runtime\n",
        "!pip -qq install dask[complete]\n",
        "!pip -qq install dask distributed\n",
        "!pip -qq install mimesis==7.0.0\n",
        "!pip -qq install dask\n",
        "# Uninstalling Numpy 1.24.3 as 'dask_ml' requires numpy<1.24.0, >=1.18.0\n",
        "!pip -qq uninstall numpy -y\n",
        "# jax>=0.4.8 is necessarry\n",
        "!pip -qq install numpy==1.23.4\n",
        "!pip -qq install dask-ml\n",
        "!pip install fastapi\n",
        "!pip install kaleido\n",
        "!pip install uvicorn\n",
        "!pip install python-multipart\n",
        "!pip -qq install jax>=0.4.9\n",
        "!pip install --upgrade importlib-metadata\n",
        "!apt-get install -y graphviz\n",
        "!pip install graphviz\n",
        "!pip install --upgrade --force-reinstall dask distributed dask_ml"
      ]
    },
    {
      "cell_type": "markdown",
      "id": "fRUmEMOCv-d2",
      "metadata": {
        "id": "fRUmEMOCv-d2"
      },
      "source": [
        "**Note: After running above cell, we will need to `Restart Runtime` to successfully import dask_ml**"
      ]
    },
    {
      "cell_type": "markdown",
      "id": "b8ZyR1qqtr6_",
      "metadata": {
        "id": "b8ZyR1qqtr6_"
      },
      "source": [
        "### Setup Steps:"
      ]
    },
    {
      "cell_type": "code",
      "execution_count": 1,
      "id": "qXDbGPh1tyNR",
      "metadata": {
        "id": "qXDbGPh1tyNR"
      },
      "outputs": [],
      "source": [
        "#@title Please enter your registration id to start: { run: \"auto\", display-mode: \"form\" }\n",
        "Id = \"2418709\" #@param {type:\"string\"}"
      ]
    },
    {
      "cell_type": "code",
      "execution_count": 2,
      "id": "6SARMN_-t3ny",
      "metadata": {
        "id": "6SARMN_-t3ny"
      },
      "outputs": [],
      "source": [
        "#@title Please enter your password (your registered phone number) to continue: { run: \"auto\", display-mode: \"form\" }\n",
        "password = \"9902028293\" #@param {type:\"string\"}"
      ]
    },
    {
      "cell_type": "code",
      "execution_count": 3,
      "id": "Bkw9Am4ht93r",
      "metadata": {
        "id": "Bkw9Am4ht93r",
        "cellView": "form",
        "outputId": "d108d298-5a4a-4e4d-fa8b-76f095939e0b",
        "colab": {
          "base_uri": "https://localhost:8080/",
          "height": 34
        }
      },
      "outputs": [
        {
          "output_type": "display_data",
          "data": {
            "text/plain": [
              "<IPython.core.display.HTML object>"
            ],
            "text/html": [
              "<script src=\"https://dashboard.talentsprint.com/aiml/record_ip.html?traineeId=2418709&recordId=5295\"></script>"
            ]
          },
          "metadata": {}
        },
        {
          "output_type": "stream",
          "name": "stdout",
          "text": [
            "Setup completed successfully\n"
          ]
        }
      ],
      "source": [
        "#@title Run this cell to complete the setup for this Notebook\n",
        "from IPython import get_ipython\n",
        "\n",
        "ipython = get_ipython()\n",
        "\n",
        "notebook= \"M5_AST_05_Dask_C\" #name of the notebook\n",
        "\n",
        "def setup():\n",
        "#  ipython.magic(\"sx pip3 install torch\")\n",
        "    ipython.magic(\"sx pip -qq install dask[complete]\")\n",
        "    ipython.magic(\"sx pip -qq install dask distributed\")\n",
        "    ipython.magic(\"sx pip -qq install mimesis\")\n",
        "    ipython.magic(\"sx pip -qq install dask\")\n",
        "    #ipython.magic(\"sx wget https://cdn.iisc.talentsprint.com/CDS/MiniProjects/BlackFriday.zip\")\n",
        "    #ipython.magic(\"sx unzip BlackFriday.zip\")\n",
        "    ipython.magic(\"sx wget https://cdn.iisc.talentsprint.com/CDS/Datasets/nycflights.zip\")\n",
        "    ipython.magic(\"sx unzip nycflights.zip\")\n",
        "    from IPython.display import HTML, display\n",
        "    display(HTML('<script src=\"https://dashboard.talentsprint.com/aiml/record_ip.html?traineeId={0}&recordId={1}\"></script>'.format(getId(),submission_id)))\n",
        "    print(\"Setup completed successfully\")\n",
        "    return\n",
        "\n",
        "def submit_notebook():\n",
        "    ipython.magic(\"notebook -e \"+ notebook + \".ipynb\")\n",
        "\n",
        "    import requests, json, base64, datetime\n",
        "\n",
        "    url = \"https://dashboard.talentsprint.com/xp/app/save_notebook_attempts\"\n",
        "    if not submission_id:\n",
        "      data = {\"id\" : getId(), \"notebook\" : notebook, \"mobile\" : getPassword()}\n",
        "      r = requests.post(url, data = data)\n",
        "      r = json.loads(r.text)\n",
        "\n",
        "      if r[\"status\"] == \"Success\":\n",
        "          return r[\"record_id\"]\n",
        "      elif \"err\" in r:\n",
        "        print(r[\"err\"])\n",
        "        return None\n",
        "      else:\n",
        "        print (\"Something is wrong, the notebook will not be submitted for grading\")\n",
        "        return None\n",
        "\n",
        "    elif getAnswer() and getComplexity() and getAdditional() and getConcepts() and getComments() and getMentorSupport():\n",
        "      f = open(notebook + \".ipynb\", \"rb\")\n",
        "      file_hash = base64.b64encode(f.read())\n",
        "\n",
        "      data = {\"complexity\" : Complexity, \"additional\" :Additional,\n",
        "              \"concepts\" : Concepts, \"record_id\" : submission_id,\n",
        "              \"answer\" : Answer, \"id\" : Id, \"file_hash\" : file_hash,\n",
        "              \"notebook\" : notebook,\n",
        "              \"feedback_experiments_input\" : Comments,\n",
        "              \"feedback_mentor_support\": Mentor_support}\n",
        "      r = requests.post(url, data = data)\n",
        "      r = json.loads(r.text)\n",
        "      if \"err\" in r:\n",
        "        print(r[\"err\"])\n",
        "        return None\n",
        "      else:\n",
        "        print(\"Your submission is successful.\")\n",
        "        print(\"Ref Id:\", submission_id)\n",
        "        print(\"Date of submission: \", r[\"date\"])\n",
        "        print(\"Time of submission: \", r[\"time\"])\n",
        "        print(\"View your submissions: https://learn-iisc.talentsprint.com/notebook_submissions\")\n",
        "        #print(\"For any queries/discrepancies, please connect with mentors through the chat icon in LMS dashboard.\")\n",
        "        return submission_id\n",
        "    else: submission_id\n",
        "\n",
        "\n",
        "def getAdditional():\n",
        "  try:\n",
        "    if not Additional:\n",
        "      raise NameError\n",
        "    else:\n",
        "      return Additional\n",
        "  except NameError:\n",
        "    print (\"Please answer Additional Question\")\n",
        "    return None\n",
        "\n",
        "def getComplexity():\n",
        "  try:\n",
        "    if not Complexity:\n",
        "      raise NameError\n",
        "    else:\n",
        "      return Complexity\n",
        "  except NameError:\n",
        "    print (\"Please answer Complexity Question\")\n",
        "    return None\n",
        "\n",
        "def getConcepts():\n",
        "  try:\n",
        "    if not Concepts:\n",
        "      raise NameError\n",
        "    else:\n",
        "      return Concepts\n",
        "  except NameError:\n",
        "    print (\"Please answer Concepts Question\")\n",
        "    return None\n",
        "\n",
        "\n",
        "# def getWalkthrough():\n",
        "#   try:\n",
        "#     if not Walkthrough:\n",
        "#       raise NameError\n",
        "#     else:\n",
        "#       return Walkthrough\n",
        "#   except NameError:\n",
        "#     print (\"Please answer Walkthrough Question\")\n",
        "#     return None\n",
        "\n",
        "def getComments():\n",
        "  try:\n",
        "    if not Comments:\n",
        "      raise NameError\n",
        "    else:\n",
        "      return Comments\n",
        "  except NameError:\n",
        "    print (\"Please answer Comments Question\")\n",
        "    return None\n",
        "\n",
        "\n",
        "def getMentorSupport():\n",
        "  try:\n",
        "    if not Mentor_support:\n",
        "      raise NameError\n",
        "    else:\n",
        "      return Mentor_support\n",
        "  except NameError:\n",
        "    print (\"Please answer Mentor support Question\")\n",
        "    return None\n",
        "\n",
        "def getAnswer():\n",
        "  try:\n",
        "    if not Answer:\n",
        "      raise NameError\n",
        "    else:\n",
        "      return Answer\n",
        "  except NameError:\n",
        "    print (\"Please answer Question\")\n",
        "    return None\n",
        "\n",
        "\n",
        "def getId():\n",
        "  try:\n",
        "    return Id if Id else None\n",
        "  except NameError:\n",
        "    return None\n",
        "\n",
        "def getPassword():\n",
        "  try:\n",
        "    return password if password else None\n",
        "  except NameError:\n",
        "    return None\n",
        "\n",
        "submission_id = None\n",
        "### Setup\n",
        "if getPassword() and getId():\n",
        "  submission_id = submit_notebook()\n",
        "  if submission_id:\n",
        "    setup()\n",
        "else:\n",
        "  print (\"Please complete Id and Password cells before running setup\")\n",
        "\n"
      ]
    },
    {
      "cell_type": "markdown",
      "id": "amber-breast",
      "metadata": {
        "id": "amber-breast"
      },
      "source": [
        "#### Importing required packages"
      ]
    },
    {
      "cell_type": "code",
      "execution_count": 4,
      "id": "marked-penny",
      "metadata": {
        "id": "marked-penny"
      },
      "outputs": [],
      "source": [
        "import os                        # provides interaction with operating system\n",
        "import dask\n",
        "import dask.array as da          # for handling large arrays\n",
        "from dask import delayed         # import the delayed function of dask\n",
        "import dask.dataframe as dd      # library to import Dask DataFrame\n",
        "import dask.bag as db            # import the bag from dask\n",
        "from dask_ml.linear_model import LinearRegression\n",
        "import json                      # importing JSON files\n",
        "import numpy as np\n",
        "import pandas as pd\n",
        "from time import sleep"
      ]
    },
    {
      "cell_type": "markdown",
      "id": "disciplinary-merchant",
      "metadata": {
        "id": "disciplinary-merchant"
      },
      "source": [
        "**Implementation of Parallel Processing with Dask (Basic Idea)**\n",
        "\n",
        "Here, we can compare the normal python function with dask delayed function at the time of execution"
      ]
    },
    {
      "cell_type": "code",
      "execution_count": 5,
      "id": "interstate-excuse",
      "metadata": {
        "id": "interstate-excuse"
      },
      "outputs": [],
      "source": [
        "# define apply_discount function and pass a variable x\n",
        "def apply_discount(x):\n",
        "  sleep(1)\n",
        "  # discount of 20 %\n",
        "  x=x-0.2*x\n",
        "  return x\n",
        "\n",
        "# define two variables a, b and add them\n",
        "def get_total(a,b):\n",
        "  sleep(1)\n",
        "  return a+b\n",
        "\n",
        "# define function for total price of items\n",
        "def get_total_price(x,y):\n",
        "  sleep(1)\n",
        "  a=apply_discount(x)\n",
        "  b=apply_discount(y)\n",
        "  get_total(a,b)"
      ]
    },
    {
      "cell_type": "markdown",
      "id": "fifth-lightweight",
      "metadata": {
        "id": "fifth-lightweight"
      },
      "source": [
        "Given a number, the above code simply applies a 20 percent discount on price and then adds them. Inserted a sleep function explicitly, both the functions take 1 sec to execute."
      ]
    },
    {
      "cell_type": "code",
      "execution_count": 6,
      "id": "polished-mailing",
      "metadata": {
        "id": "polished-mailing",
        "outputId": "79d9dcb6-6653-413c-caec-fd92bc9d7f3e",
        "colab": {
          "base_uri": "https://localhost:8080/"
        }
      },
      "outputs": [
        {
          "output_type": "stream",
          "name": "stdout",
          "text": [
            "CPU times: user 21.4 ms, sys: 7.08 ms, total: 28.5 ms\n",
            "Wall time: 6 s\n"
          ]
        }
      ],
      "source": [
        "%%time\n",
        "\n",
        "# apply discount of 20 % on 100\n",
        "x = apply_discount(100)\n",
        "# apply a discount of 20 % on 200\n",
        "y = apply_discount(200)\n",
        "# add a and b\n",
        "z = get_total_price(x,y)"
      ]
    },
    {
      "cell_type": "markdown",
      "id": "monthly-chocolate",
      "metadata": {
        "id": "monthly-chocolate"
      },
      "source": [
        "We have recorded the time taken for this execution using %%time as shown. You can observe that time taken is ~6.01 seconds when it is executed sequentially. Now, let’s see how to use dask.delayed to reduce this time."
      ]
    },
    {
      "cell_type": "markdown",
      "id": "hispanic-newport",
      "metadata": {
        "id": "hispanic-newport"
      },
      "source": [
        "Now, you can transform the functions apply_discount() and get_total_price(). You can use delayed() function to wrap the function calls that you want to turn into tasks."
      ]
    },
    {
      "cell_type": "code",
      "execution_count": 7,
      "id": "moved-deviation",
      "metadata": {
        "id": "moved-deviation",
        "outputId": "d86deb79-2c92-4ee0-b075-61f1e1417e24",
        "colab": {
          "base_uri": "https://localhost:8080/"
        }
      },
      "outputs": [
        {
          "output_type": "stream",
          "name": "stdout",
          "text": [
            "CPU times: user 528 µs, sys: 0 ns, total: 528 µs\n",
            "Wall time: 504 µs\n"
          ]
        }
      ],
      "source": [
        "%%time\n",
        "\n",
        "# Wrapping all the function calls using dask.delayed\n",
        "x = delayed(apply_discount)(100)\n",
        "y = delayed(apply_discount)(200)\n",
        "z = delayed(get_total_price)(x, y)"
      ]
    },
    {
      "cell_type": "markdown",
      "id": "heavy-compatibility",
      "metadata": {
        "id": "heavy-compatibility"
      },
      "source": [
        "**What does dask.delayed do?**\n",
        "\n",
        "The Dask delayed function decorates your functions so that they operate lazily. Rather than executing your function immediately, it will defer execution, placing the function and its arguments into a task graph. It wraps a function or object to produce a Delayed.\n"
      ]
    },
    {
      "cell_type": "code",
      "execution_count": 8,
      "id": "compact-fortune",
      "metadata": {
        "id": "compact-fortune",
        "outputId": "5971afcb-f589-4d57-aa55-9eeeb1f16826",
        "colab": {
          "base_uri": "https://localhost:8080/",
          "height": 635
        }
      },
      "outputs": [
        {
          "output_type": "execute_result",
          "data": {
            "image/png": "[encoded data removed]",
            "text/plain": [
              "<IPython.core.display.Image object>"
            ]
          },
          "metadata": {},
          "execution_count": 8
        }
      ],
      "source": [
        "# visualize in graphical way\n",
        "z.visualize()"
      ]
    },
    {
      "cell_type": "markdown",
      "id": "serious-message",
      "metadata": {
        "id": "serious-message"
      },
      "source": [
        "Clearly, from the above image, you can see there are two instances of apply_discount() function called in parallel. This is an opportunity to save time and processing power by executing them simultaneously.\n",
        "\n",
        "Till now, the task graph is computed. To actually execute it, let’s call the compute() method of z."
      ]
    },
    {
      "cell_type": "code",
      "execution_count": 9,
      "id": "loaded-radar",
      "metadata": {
        "id": "loaded-radar",
        "outputId": "c20fbca3-fced-41cc-f185-e977dcbbfbd5",
        "colab": {
          "base_uri": "https://localhost:8080/"
        }
      },
      "outputs": [
        {
          "output_type": "stream",
          "name": "stdout",
          "text": [
            "CPU times: user 19.7 ms, sys: 4.24 ms, total: 23.9 ms\n",
            "Wall time: 5 s\n"
          ]
        }
      ],
      "source": [
        "%%time\n",
        "\n",
        "# compute() is used to show the result in dask\n",
        "z.compute()"
      ]
    },
    {
      "cell_type": "markdown",
      "id": "surrounded-vitamin",
      "metadata": {
        "id": "surrounded-vitamin"
      },
      "source": [
        "**Note**: When we create an object, it is just a blueprint until you call `compute()`. That is when the job gets distributed to all the workers, and the actual function gets called, or concrete values are generated."
      ]
    },
    {
      "cell_type": "markdown",
      "id": "instructional-edinburgh",
      "metadata": {
        "id": "instructional-edinburgh"
      },
      "source": [
        "The total time taken has been reduced. This is the basic concept of parallel computing. Dask makes it very convenient.\n",
        "\n",
        "To know more about delayed function, click [here](https://docs.dask.org/en/latest/delayed.html)"
      ]
    },
    {
      "cell_type": "markdown",
      "id": "XK77RalhRLVX",
      "metadata": {
        "id": "XK77RalhRLVX"
      },
      "source": [
        "### Arrays\n",
        "\n",
        "![dask_array](https://cdn.iisc.talentsprint.com/CDS/Images/Dask_array.JPG)\n",
        "\n",
        "Dask array provides a parallel, larger-than-memory, n-dimensional array using blocked algorithms."
      ]
    },
    {
      "cell_type": "markdown",
      "id": "refined-wisconsin",
      "metadata": {
        "id": "refined-wisconsin"
      },
      "source": [
        "* Parallel: Uses all of the cores on your computer\n",
        "\n",
        "* Larger-than-memory: Lets you work on datasets that are larger than your available memory by breaking up your array into many small pieces, operating on those pieces in an order that minimizes the memory footprint of your computation, and effectively streaming data from disk.\n",
        "\n",
        "* Blocked Algorithms: Performs large computations by performing many smaller computations\n",
        "\n",
        "\n",
        "In the below example, dask arrays and normal numpy arrays are used and compared based on the time taken for execution.\n",
        "\n",
        "1. Construct a 40000x40000 array of normally distributed random values broken up into 1000x1000 sized chunks\n",
        "\n",
        "2. Take the mean along one axis\n",
        "\n",
        "3. Take every 100th element\n",
        "\n",
        "To know more about dask arrays, click [here](https://docs.dask.org/en/latest/array.html)."
      ]
    },
    {
      "cell_type": "markdown",
      "id": "insured-shaft",
      "metadata": {
        "id": "insured-shaft"
      },
      "source": [
        "Creating an array with random normal distribution"
      ]
    },
    {
      "cell_type": "code",
      "execution_count": 10,
      "id": "antique-strengthening",
      "metadata": {
        "id": "antique-strengthening"
      },
      "outputs": [],
      "source": [
        "# creating a random normal dask array with a mean value of 20 and sigma value of 0.2\n",
        "# 1600 million element array with 1000 by 1000 chunks\n",
        "x = da.random.normal(20, 0.2, size=(40000, 40000),\n",
        "                              chunks=(1000, 1000))   # Cut into 1000x1000 sized chunks\n",
        "# Perform NumPy-style operations to calculate mean along the rows (axis=0)\n",
        "y = x.mean(axis=0)[::100]"
      ]
    },
    {
      "cell_type": "markdown",
      "id": "original-orbit",
      "metadata": {
        "id": "original-orbit"
      },
      "source": [
        "Computing the mean of x and capturing the time using the magical command"
      ]
    },
    {
      "cell_type": "code",
      "execution_count": 11,
      "id": "WDn-xXVz9kCq",
      "metadata": {
        "id": "WDn-xXVz9kCq",
        "outputId": "578758fe-4839-4ade-d91d-1c8a58b2e1ee",
        "colab": {
          "base_uri": "https://localhost:8080/"
        }
      },
      "outputs": [
        {
          "output_type": "stream",
          "name": "stdout",
          "text": [
            "CPU times: user 56.3 s, sys: 1.63 s, total: 57.9 s\n",
            "Wall time: 14.8 s\n"
          ]
        },
        {
          "output_type": "execute_result",
          "data": {
            "text/plain": [
              "array([20.00147264, 19.99843912, 20.00027571, 20.00018165, 20.00057299,\n",
              "       19.99815119, 20.0010933 , 20.00011555, 19.99936335, 19.99983545,\n",
              "       19.99993507, 20.00085978, 20.00020462, 20.00034168, 20.00045099,\n",
              "       20.00067335, 19.99913785, 20.00057098, 19.99927404, 20.00041181,\n",
              "       19.99939161, 20.00275286, 19.99971421, 19.99934408, 20.00246766,\n",
              "       19.99906366, 19.99871339, 19.99962973, 19.99886206, 19.9995505 ,\n",
              "       20.00103827, 20.00067417, 20.00012582, 19.99876902, 19.99965692,\n",
              "       20.00085511, 19.9996056 , 20.00056155, 19.99915   , 20.00002306,\n",
              "       19.99899622, 20.00111692, 19.99895453, 20.00084423, 19.99942315,\n",
              "       19.99914176, 19.99851349, 19.99946945, 20.00160789, 20.0007689 ,\n",
              "       19.9988157 , 19.9985948 , 20.00092392, 19.9994435 , 20.0016351 ,\n",
              "       20.00223653, 20.00000892, 19.99824114, 19.99948691, 19.99860255,\n",
              "       20.00075438, 19.99950146, 19.99868335, 19.999844  , 19.99873867,\n",
              "       19.99991588, 20.00032652, 19.99886323, 20.00057287, 20.00104703,\n",
              "       19.99947294, 20.00195385, 19.99877721, 19.99913296, 19.99858699,\n",
              "       20.00032869, 20.00097633, 19.99912086, 19.99934474, 20.0003118 ,\n",
              "       19.99999546, 20.00091106, 20.00043581, 20.00096474, 20.00031867,\n",
              "       19.99957912, 19.99810697, 19.99963535, 20.00044302, 19.99924828,\n",
              "       20.00051613, 20.00011862, 20.00027913, 19.99954457, 19.99977427,\n",
              "       20.00102146, 20.00165695, 19.99884652, 20.00070671, 19.99991755,\n",
              "       19.99959956, 19.99880681, 20.00146808, 19.99931648, 19.99938963,\n",
              "       19.99934718, 19.99936147, 19.99859025, 20.00035133, 19.99813006,\n",
              "       20.00015979, 20.00102157, 20.00153668, 19.99929037, 20.00078702,\n",
              "       20.00002346, 20.00077039, 19.99894431, 20.00067669, 20.00183262,\n",
              "       20.00060025, 19.99804944, 20.00149211, 19.99756156, 19.99962647,\n",
              "       20.00039499, 19.99911397, 19.9996778 , 19.99977168, 19.99899371,\n",
              "       19.99993203, 19.9995625 , 20.00256199, 19.99977927, 20.00066104,\n",
              "       19.99903067, 19.99833466, 19.99978645, 20.00014929, 20.00089022,\n",
              "       20.00016443, 20.0009357 , 20.00074865, 20.00050827, 20.000509  ,\n",
              "       20.00066056, 20.00096305, 20.00149771, 19.9980455 , 19.99990119,\n",
              "       20.00026669, 20.00030815, 19.99931437, 20.00094015, 20.00047348,\n",
              "       20.00058874, 19.99945689, 19.99808917, 20.0010532 , 19.9997204 ,\n",
              "       20.00028187, 19.99989231, 19.99969426, 20.00035813, 19.99941843,\n",
              "       19.99952046, 20.00051945, 20.00162902, 20.00142216, 19.99903415,\n",
              "       19.99949547, 19.99950914, 19.99934241, 20.0000873 , 19.99887713,\n",
              "       19.99951365, 19.99982752, 19.99955569, 20.00113205, 20.00039711,\n",
              "       19.99826419, 20.00112464, 20.00297638, 20.00094831, 20.00089631,\n",
              "       19.9998995 , 19.99930817, 19.99798536, 19.99846697, 20.00037141,\n",
              "       20.0007115 , 19.99946826, 20.00050873, 20.00127254, 20.00034506,\n",
              "       20.00036359, 20.00032278, 19.99964404, 20.00159943, 19.99796072,\n",
              "       19.99953011, 19.99931448, 20.00008856, 20.00009083, 19.99948339,\n",
              "       20.0007099 , 19.99822456, 19.99938678, 20.00013682, 20.00006775,\n",
              "       19.99972808, 20.00080146, 20.0011041 , 20.00018104, 19.99911861,\n",
              "       19.99960003, 19.99902982, 20.0010197 , 20.00090773, 20.00151097,\n",
              "       19.99861153, 19.99906575, 20.00070669, 19.99907711, 20.00037476,\n",
              "       20.00066123, 19.99983712, 20.00180915, 19.99957309, 20.00099126,\n",
              "       19.99936572, 20.0003715 , 20.00024668, 19.99951603, 20.00019471,\n",
              "       20.00038021, 19.99967646, 20.00002891, 19.99929496, 20.00014255,\n",
              "       19.99934838, 19.99873211, 20.00178689, 19.99983666, 20.00077752,\n",
              "       19.99901704, 19.99964748, 19.99920498, 20.0004698 , 19.99956997,\n",
              "       20.0001959 , 20.00049467, 19.99858335, 19.99952193, 19.99862377,\n",
              "       19.99855965, 20.00099096, 19.99921084, 20.00061026, 19.9990631 ,\n",
              "       20.00029426, 20.00164962, 20.00011698, 20.00029627, 20.00026536,\n",
              "       19.99797443, 20.00166727, 19.99968158, 20.00125594, 19.99953639,\n",
              "       19.99830177, 20.00211805, 20.00021865, 19.99897376, 19.99852518,\n",
              "       20.000276  , 19.9994178 , 20.00032018, 19.99860058, 19.99934013,\n",
              "       19.99961415, 19.99976833, 19.99974838, 19.99881214, 20.00011571,\n",
              "       20.00047   , 20.00082432, 20.00117564, 20.00190148, 19.99952361,\n",
              "       19.99945698, 19.99911718, 20.00138213, 20.00003178, 20.00067147,\n",
              "       19.99971986, 20.00144678, 20.00251647, 20.0000018 , 20.00151013,\n",
              "       19.99977826, 19.99827458, 19.9990436 , 19.99803727, 19.99952699,\n",
              "       19.99819653, 19.99973958, 19.99882672, 20.00149429, 20.00041418,\n",
              "       19.99959628, 19.9986051 , 20.00114298, 20.00045479, 19.9997115 ,\n",
              "       19.99989752, 19.99886832, 20.00061659, 20.0013984 , 20.00185175,\n",
              "       19.99871468, 19.99861276, 19.99898391, 19.99974285, 20.0003426 ,\n",
              "       20.00057768, 19.99926879, 20.00010225, 20.00085106, 19.99846866,\n",
              "       19.9971152 , 19.99887452, 19.99856721, 20.0016964 , 20.00001893,\n",
              "       19.99944568, 20.00054682, 19.99873398, 19.99894382, 20.0001076 ,\n",
              "       19.99994577, 20.00001383, 20.00112405, 20.00092213, 19.99949422,\n",
              "       20.00133661, 19.99852368, 19.99885898, 19.99967522, 19.99964201,\n",
              "       20.00168111, 19.9984843 , 20.00071399, 19.99998427, 19.9999793 ,\n",
              "       20.0006991 , 20.0004329 , 20.00014565, 20.00245804, 19.99945429,\n",
              "       19.99756215, 20.00054654, 20.0015542 , 20.00016178, 20.00182639,\n",
              "       20.00034222, 20.00044293, 19.9982379 , 20.00163109, 19.99907812,\n",
              "       20.00009811, 19.99847298, 19.99928816, 19.99929265, 19.99747939,\n",
              "       20.00084499, 19.99942929, 19.99854702, 20.00024914, 20.00048321,\n",
              "       20.00067937, 20.00056439, 20.00115027, 20.00012519, 19.99897119,\n",
              "       20.00035088, 20.00132213, 19.99703497, 19.99913604, 19.99926843,\n",
              "       20.00111864, 19.99809742, 19.99789473, 19.9978919 , 19.99980952,\n",
              "       20.00018234, 19.99984645, 20.00193586, 19.99964318, 20.00073193])"
            ]
          },
          "metadata": {},
          "execution_count": 11
        }
      ],
      "source": [
        "%%time\n",
        "# computing the mean of x\n",
        "y.compute()"
      ]
    },
    {
      "cell_type": "markdown",
      "id": "virtual-communications",
      "metadata": {
        "id": "virtual-communications"
      },
      "source": [
        "Dask.array is a NumPy-like library that operates on large datasets that don’t fit into memory. It extends beyond the linear problems to full N-Dimensional algorithms and a decent subset of the NumPy interface.\n",
        "\n",
        "Create ``dask.array`` object\n",
        "\n",
        "We can create a `dask.array` Array object with the `da.from_array` function. This function accepts\n",
        "\n",
        "1. data: Any object that supports NumPy slicing\n",
        "\n",
        "2. [chunks](https://docs.dask.org/en/latest/array-chunks.html): A chunk size defines the size of the numpy arrays\n"
      ]
    },
    {
      "cell_type": "markdown",
      "id": "white-plane",
      "metadata": {
        "id": "white-plane"
      },
      "source": [
        "**Manipulate ``dask.array`` object as a numpy array**\n",
        "\n",
        "Now we have an Array and we perform standard numpy-style computations that include arithmetic, mathematics, slicing, reductions, etc.\n",
        "\n",
        "The interface is familiar, but the actual work is different. dask_array.sum() does not do the same thing as numpy_array.sum().\n",
        "\n",
        "**What’s the difference?**\n",
        "\n",
        "dask_array.sum() builds an expression of the computation. It does not do the computation yet. numpy_array.sum() computes the sum immediately.\n",
        "\n",
        "*Why the difference?*\n",
        "\n",
        "Dask arrays are split into chunks. Each chunk must have computations run on that chunk explicitly. If the desired answer comes from a small slice of the entire dataset, running the computation overall data would be wasteful of CPU and memory.\n",
        "\n"
      ]
    },
    {
      "cell_type": "markdown",
      "id": "precise-barcelona",
      "metadata": {
        "id": "precise-barcelona"
      },
      "source": [
        "#### Performance comparison\n",
        "\n",
        "Let's create a random numpy array of normal distribution.\n"
      ]
    },
    {
      "cell_type": "code",
      "execution_count": 12,
      "id": "mobile-triple",
      "metadata": {
        "id": "mobile-triple",
        "outputId": "bedc2bfc-bbf5-4b19-a149-86a98e00c275",
        "colab": {
          "base_uri": "https://localhost:8080/"
        }
      },
      "outputs": [
        {
          "output_type": "stream",
          "name": "stdout",
          "text": [
            "CPU times: user 10.5 s, sys: 611 ms, total: 11.1 s\n",
            "Wall time: 11.2 s\n"
          ]
        },
        {
          "output_type": "execute_result",
          "data": {
            "text/plain": [
              "array([19.99716532, 19.99974215, 20.00022754, 19.9991469 , 20.00097471,\n",
              "       20.00080542, 19.99847281, 20.00167009, 19.99837595, 19.99907023,\n",
              "       19.99880753, 19.99901385, 19.99920965, 19.99964262, 20.00026846,\n",
              "       19.99780129, 20.00140383, 20.00190591, 20.00190671, 20.00045048,\n",
              "       19.99880395, 19.998277  , 20.00145682, 20.00221985, 20.00287014,\n",
              "       19.99971593, 19.99836255, 20.00075703, 19.99773175, 19.99787667,\n",
              "       19.99892441, 19.99995059, 19.9987818 , 19.99818724, 20.00124117,\n",
              "       19.99948277, 20.00101864, 19.99878003, 20.00093024, 20.00203821,\n",
              "       20.00005109, 19.99778944, 19.99923001, 20.00090392, 20.00071101,\n",
              "       19.99910961, 20.00047873, 19.99919961, 20.00193621, 19.99872196,\n",
              "       19.99842694, 19.99758612, 20.00212219, 20.0007875 , 19.99931972,\n",
              "       19.99963443, 20.00149894, 20.00165287, 19.99981946, 20.00056335,\n",
              "       20.00132187, 19.99799125, 19.99998766, 20.00052779, 19.99887264,\n",
              "       20.00014223, 19.99936931, 20.00153899, 19.99840681, 20.00058303,\n",
              "       19.99875383, 20.0005954 , 19.9998609 , 20.00181711, 20.00005651,\n",
              "       19.99853734, 19.99981661, 20.00265346, 19.99956794, 20.00168661,\n",
              "       19.9986135 , 19.99901216, 20.00037862, 19.99962442, 19.99958514,\n",
              "       19.99931589, 19.99887505, 20.00088369, 19.99863469, 19.99891172,\n",
              "       20.00040794, 20.00083669, 19.99788939, 20.00056376, 19.99796969,\n",
              "       19.99916177, 20.00039333, 20.00132586, 19.99889758, 19.99854755,\n",
              "       19.99891154, 20.00034514, 20.00049626, 19.99961339, 20.00279349,\n",
              "       20.00091963, 20.00027551, 20.00154016, 19.9983575 , 20.00074037,\n",
              "       19.99886561, 19.99954792, 20.00077534, 19.99869404, 20.00039518,\n",
              "       20.00184587, 20.00189503, 19.99899674, 19.99985281, 19.99808952,\n",
              "       19.9975247 , 20.00001284, 19.99911412, 19.99878731, 19.99908786,\n",
              "       20.00071173, 20.00006383, 19.99768827, 20.00024818, 19.99870061,\n",
              "       20.00014433, 19.9990571 , 20.00076149, 20.00188282, 20.00080922,\n",
              "       20.00126302, 19.99963766, 20.00091895, 19.99924463, 19.99694581,\n",
              "       19.99922988, 19.99894908, 20.00122845, 20.00060802, 20.00086499,\n",
              "       19.99887037, 19.99910944, 20.00059777, 19.99842536, 20.0002745 ,\n",
              "       19.99718433, 19.99908344, 20.00073676, 20.00011743, 20.00009777,\n",
              "       19.99910644, 20.00069402, 20.00089786, 20.00014239, 20.00025273,\n",
              "       20.00172095, 19.99661648, 19.99966844, 20.00247259, 20.00043791,\n",
              "       20.00025834, 20.00262305, 20.00186034, 20.0036815 , 20.00175941,\n",
              "       19.99855498, 19.99717276, 19.99931314, 19.99761965, 20.00044644,\n",
              "       20.00077056, 20.00095999, 20.00245491, 20.00209343, 19.99879309,\n",
              "       19.99923844, 20.0004258 , 20.00004648, 19.99993176, 20.00148168,\n",
              "       20.00029203, 20.00328838, 19.99902231, 19.99921299, 20.00076037,\n",
              "       20.0002311 , 19.99936986, 20.00175045, 19.99934756, 19.99893114,\n",
              "       20.00053574, 19.99792886, 19.99887802, 20.00012777, 20.00195817])"
            ]
          },
          "metadata": {},
          "execution_count": 12
        }
      ],
      "source": [
        "%%time\n",
        "# create a normal distribution array with 400 million element using numpy\n",
        "x = np.random.normal(20, 0.2, size=(20000, 20000))\n",
        "# calculate the mean\n",
        "y = x.mean(axis=0)[::100]\n",
        "y"
      ]
    },
    {
      "cell_type": "markdown",
      "id": "capital-villa",
      "metadata": {
        "id": "capital-villa"
      },
      "source": [
        "\n",
        "Now Let's create a random dask array with normal distribution."
      ]
    },
    {
      "cell_type": "code",
      "execution_count": 13,
      "id": "involved-festival",
      "metadata": {
        "id": "involved-festival",
        "outputId": "0fb04c48-e8c0-41e8-92b8-2aded5702648",
        "colab": {
          "base_uri": "https://localhost:8080/"
        }
      },
      "outputs": [
        {
          "output_type": "stream",
          "name": "stdout",
          "text": [
            "CPU times: user 14.1 s, sys: 405 ms, total: 14.5 s\n",
            "Wall time: 3.68 s\n"
          ]
        },
        {
          "output_type": "execute_result",
          "data": {
            "text/plain": [
              "array([20.002156  , 19.99863149, 20.00147312, 19.99961817, 19.99938345,\n",
              "       20.00063627, 19.99958954, 19.99985168, 19.99867762, 20.00137041,\n",
              "       19.99963178, 20.00033372, 20.00115582, 20.00143103, 20.00115571,\n",
              "       20.00013185, 20.00069363, 19.99947396, 20.0014732 , 19.99907765,\n",
              "       19.996182  , 20.00059262, 20.00393253, 20.00086696, 19.99997411,\n",
              "       19.99727975, 19.99994807, 19.9985483 , 19.99920243, 19.99800198,\n",
              "       20.00069647, 20.00084193, 20.00033816, 20.00302484, 19.99983823,\n",
              "       19.99996117, 20.00127517, 20.0002432 , 20.00158703, 20.00153375,\n",
              "       20.0020803 , 20.00090927, 20.00071506, 19.99880805, 20.00060402,\n",
              "       19.99850767, 20.00313829, 20.00186293, 19.99815329, 20.00245058,\n",
              "       19.99925475, 19.99924975, 20.00077921, 20.0005554 , 20.00290854,\n",
              "       20.00107417, 20.00136487, 20.00104497, 19.9981216 , 20.00217726,\n",
              "       20.00149574, 20.0028736 , 19.99769058, 19.99901237, 20.00191041,\n",
              "       20.00245784, 20.00033724, 20.00005971, 20.00040309, 19.99984789,\n",
              "       19.99855448, 19.99916773, 20.00309515, 19.99965782, 19.99976456,\n",
              "       20.00125584, 20.00142466, 19.99807737, 20.0022476 , 20.00121454,\n",
              "       19.99984068, 19.99980013, 20.00124768, 19.99871191, 20.00126104,\n",
              "       20.0026509 , 19.99838638, 20.00220679, 19.99887598, 19.99793774,\n",
              "       19.99715707, 20.00013201, 19.99864825, 19.99791308, 20.00193358,\n",
              "       19.99942116, 20.00118466, 19.99995174, 19.99808615, 20.00019092,\n",
              "       19.99857826, 20.00055374, 19.99955001, 19.99807375, 19.99825558,\n",
              "       20.00131557, 20.001257  , 20.00152428, 19.99903885, 20.00020773,\n",
              "       20.00009965, 19.99835967, 19.99934378, 19.99948605, 20.00054277,\n",
              "       20.00106052, 19.99911407, 19.99949581, 19.99652951, 19.99947069,\n",
              "       20.00006002, 19.99927436, 19.99872951, 19.99832324, 19.99687574,\n",
              "       19.99924916, 19.99974991, 19.99805811, 20.00192611, 19.99944882,\n",
              "       19.99820459, 20.00042256, 19.99712068, 20.00127559, 19.99894194,\n",
              "       20.00067076, 19.9990479 , 20.00103185, 20.00120056, 20.00138681,\n",
              "       19.99706544, 19.99985677, 19.99845482, 20.00168253, 20.00192526,\n",
              "       20.00012024, 19.99996071, 19.99968027, 19.99881476, 20.00123657,\n",
              "       20.0015201 , 19.99932568, 19.99881235, 20.00081607, 19.99968835,\n",
              "       20.00289743, 20.00104333, 19.99955537, 19.99872473, 19.99844866,\n",
              "       19.99732977, 19.99844941, 20.00041972, 20.00036616, 19.99967881,\n",
              "       20.00094791, 20.00161723, 19.99919201, 19.99995204, 19.99742662,\n",
              "       20.00031586, 20.00069599, 20.0019785 , 20.00124872, 19.99972331,\n",
              "       19.99846612, 20.0012533 , 20.00243859, 20.00190317, 19.99966188,\n",
              "       20.00034993, 20.00141789, 19.99852821, 20.00066963, 20.00039001,\n",
              "       19.99828491, 20.00104387, 20.0003211 , 20.00233331, 19.99726037,\n",
              "       19.99802992, 19.9976915 , 20.00213342, 20.00114783, 20.00043819,\n",
              "       19.99835033, 19.99851679, 20.00072821, 19.99979565, 20.00370676])"
            ]
          },
          "metadata": {},
          "execution_count": 13
        }
      ],
      "source": [
        "%%time\n",
        "# created the same array as above and made chunks of size 1000x1000\n",
        "x = da.random.normal(20, 0.2, size=(20000, 20000), chunks=(1000, 1000))\n",
        "# calculate the mean\n",
        "y = x.mean(axis=0)[::100]\n",
        "y.compute()"
      ]
    },
    {
      "cell_type": "markdown",
      "id": "found-reporter",
      "metadata": {
        "id": "found-reporter"
      },
      "source": [
        "Notice that the Dask array computation ran in ~13 seconds but used ~25 seconds of user CPU time. The numpy computation ran in ~19 seconds and used ~18 seconds of user CPU time.\n",
        "\n",
        "Dask finished faster but used more total CPU time because Dask was able to transparently parallelize the computation because of the chunk size."
      ]
    },
    {
      "cell_type": "markdown",
      "id": "0aDsiToL_G8b",
      "metadata": {
        "id": "0aDsiToL_G8b"
      },
      "source": [
        "Let us study another example on dask arrays."
      ]
    },
    {
      "cell_type": "code",
      "execution_count": 14,
      "id": "5XRgC93P-4S_",
      "metadata": {
        "id": "5XRgC93P-4S_",
        "outputId": "15d6cfe2-6c58-4c88-81ce-180b622147bc",
        "colab": {
          "base_uri": "https://localhost:8080/"
        }
      },
      "outputs": [
        {
          "output_type": "execute_result",
          "data": {
            "text/plain": [
              "array([[1., 1., 1., ..., 1., 1., 1.],\n",
              "       [1., 1., 1., ..., 1., 1., 1.],\n",
              "       [1., 1., 1., ..., 1., 1., 1.],\n",
              "       ...,\n",
              "       [1., 1., 1., ..., 1., 1., 1.],\n",
              "       [1., 1., 1., ..., 1., 1., 1.],\n",
              "       [1., 1., 1., ..., 1., 1., 1.]], shape=(1000, 4000))"
            ]
          },
          "metadata": {},
          "execution_count": 14
        }
      ],
      "source": [
        "# define the shape of the array\n",
        "shape = (1000, 4000)\n",
        "ones_np = np.ones(shape)\n",
        "ones_np"
      ]
    },
    {
      "cell_type": "markdown",
      "id": "EwCEJrZH_DnO",
      "metadata": {
        "id": "EwCEJrZH_DnO"
      },
      "source": [
        "This array contains exactly 32 MB of data:"
      ]
    },
    {
      "cell_type": "code",
      "execution_count": 15,
      "id": "CNcUXl30_XV_",
      "metadata": {
        "id": "CNcUXl30_XV_",
        "outputId": "c24f152a-32d5-478f-9964-57a082e987ee",
        "colab": {
          "base_uri": "https://localhost:8080/"
        }
      },
      "outputs": [
        {
          "output_type": "stream",
          "name": "stdout",
          "text": [
            "32.0 MB\n"
          ]
        }
      ],
      "source": [
        "# print the memory of array created\n",
        "print('%.1f MB' % (ones_np.nbytes / 1e6))"
      ]
    },
    {
      "cell_type": "markdown",
      "id": "oHJCX0Jq_ldt",
      "metadata": {
        "id": "oHJCX0Jq_ldt"
      },
      "source": [
        "Now let’s create the same array using dask’s array interface.\n",
        "\n",
        "A crucial difference with dask is that we must specify the chunks argument. “Chunks” describes how the array is split up over many sub-arrays."
      ]
    },
    {
      "cell_type": "code",
      "execution_count": 16,
      "id": "2vMwTmHo_shW",
      "metadata": {
        "id": "2vMwTmHo_shW",
        "outputId": "d70e664b-0f56-4995-cc9c-a89bae090583",
        "colab": {
          "base_uri": "https://localhost:8080/",
          "height": 120
        }
      },
      "outputs": [
        {
          "output_type": "execute_result",
          "data": {
            "text/plain": [
              "dask.array<ones_like, shape=(1000, 4000), dtype=float64, chunksize=(1000, 1000), chunktype=numpy.ndarray>"
            ],
            "text/html": [
              "<table>\n",
              "    <tr>\n",
              "        <td>\n",
              "            <table style=\"border-collapse: collapse;\">\n",
              "                <thead>\n",
              "                    <tr>\n",
              "                        <td> </td>\n",
              "                        <th> Array </th>\n",
              "                        <th> Chunk </th>\n",
              "                    </tr>\n",
              "                </thead>\n",
              "                <tbody>\n",
              "                    \n",
              "                    <tr>\n",
              "                        <th> Bytes </th>\n",
              "                        <td> 30.52 MiB </td>\n",
              "                        <td> 7.63 MiB </td>\n",
              "                    </tr>\n",
              "                    \n",
              "                    <tr>\n",
              "                        <th> Shape </th>\n",
              "                        <td> (1000, 4000) </td>\n",
              "                        <td> (1000, 1000) </td>\n",
              "                    </tr>\n",
              "                    <tr>\n",
              "                        <th> Dask graph </th>\n",
              "                        <td colspan=\"2\"> 4 chunks in 1 graph layer </td>\n",
              "                    </tr>\n",
              "                    <tr>\n",
              "                        <th> Data type </th>\n",
              "                        <td colspan=\"2\"> float64 numpy.ndarray </td>\n",
              "                    </tr>\n",
              "                </tbody>\n",
              "            </table>\n",
              "        </td>\n",
              "        <td>\n",
              "        <svg width=\"170\" height=\"92\" style=\"stroke:rgb(0,0,0);stroke-width:1\" >\n",
              "\n",
              "  <!-- Horizontal lines -->\n",
              "  <line x1=\"0\" y1=\"0\" x2=\"120\" y2=\"0\" style=\"stroke-width:2\" />\n",
              "  <line x1=\"0\" y1=\"42\" x2=\"120\" y2=\"42\" style=\"stroke-width:2\" />\n",
              "\n",
              "  <!-- Vertical lines -->\n",
              "  <line x1=\"0\" y1=\"0\" x2=\"0\" y2=\"42\" style=\"stroke-width:2\" />\n",
              "  <line x1=\"30\" y1=\"0\" x2=\"30\" y2=\"42\" />\n",
              "  <line x1=\"60\" y1=\"0\" x2=\"60\" y2=\"42\" />\n",
              "  <line x1=\"90\" y1=\"0\" x2=\"90\" y2=\"42\" />\n",
              "  <line x1=\"120\" y1=\"0\" x2=\"120\" y2=\"42\" style=\"stroke-width:2\" />\n",
              "\n",
              "  <!-- Colored Rectangle -->\n",
              "  <polygon points=\"0.0,0.0 120.0,0.0 120.0,42.89879552186203 0.0,42.89879552186203\" style=\"fill:#ECB172A0;stroke-width:0\"/>\n",
              "\n",
              "  <!-- Text -->\n",
              "  <text x=\"60.000000\" y=\"62.898796\" font-size=\"1.0rem\" font-weight=\"100\" text-anchor=\"middle\" >4000</text>\n",
              "  <text x=\"140.000000\" y=\"21.449398\" font-size=\"1.0rem\" font-weight=\"100\" text-anchor=\"middle\" transform=\"rotate(-90,140.000000,21.449398)\">1000</text>\n",
              "</svg>\n",
              "        </td>\n",
              "    </tr>\n",
              "</table>"
            ]
          },
          "metadata": {},
          "execution_count": 16
        }
      ],
      "source": [
        "# defining chunk in dask array\n",
        "chunk_shape = (1000, 1000)\n",
        "ones = da.ones(shape, chunks=chunk_shape)\n",
        "ones"
      ]
    },
    {
      "cell_type": "markdown",
      "id": "JOvkTZkU_-Nr",
      "metadata": {
        "id": "JOvkTZkU_-Nr"
      },
      "source": [
        "Notice that we just see a symbolic representation of the array, including its shape, dtype, and chunk size. No data has been generated yet. When we call .compute() on a dask array, the computation is triggered, and the dask array becomes a numpy array."
      ]
    },
    {
      "cell_type": "code",
      "execution_count": 17,
      "id": "1Ecr38LuAFfQ",
      "metadata": {
        "id": "1Ecr38LuAFfQ",
        "outputId": "7e28376a-b0a5-4ec5-e632-bd309b86aceb",
        "colab": {
          "base_uri": "https://localhost:8080/"
        }
      },
      "outputs": [
        {
          "output_type": "execute_result",
          "data": {
            "text/plain": [
              "array([[1., 1., 1., ..., 1., 1., 1.],\n",
              "       [1., 1., 1., ..., 1., 1., 1.],\n",
              "       [1., 1., 1., ..., 1., 1., 1.],\n",
              "       ...,\n",
              "       [1., 1., 1., ..., 1., 1., 1.],\n",
              "       [1., 1., 1., ..., 1., 1., 1.],\n",
              "       [1., 1., 1., ..., 1., 1., 1.]], shape=(1000, 4000))"
            ]
          },
          "metadata": {},
          "execution_count": 17
        }
      ],
      "source": [
        "ones.compute()"
      ]
    },
    {
      "cell_type": "markdown",
      "id": "DAl1yL0jAHYO",
      "metadata": {
        "id": "DAl1yL0jAHYO"
      },
      "source": [
        "In order to understand what happened when we called .compute(), we can visualize the dask graph, the symbolic operations that make up the array"
      ]
    },
    {
      "cell_type": "code",
      "execution_count": 18,
      "id": "ABGAp0ohAKtP",
      "metadata": {
        "id": "ABGAp0ohAKtP",
        "outputId": "ab1d5a99-c9f5-4807-ff4d-570ac13b332d",
        "colab": {
          "base_uri": "https://localhost:8080/",
          "height": 256
        }
      },
      "outputs": [
        {
          "output_type": "execute_result",
          "data": {
            "text/plain": [
              "<IPython.core.display.SVG object>"
            ],
            "image/svg+xml": "<svg xmlns=\"http://www.w3.org/2000/svg\" xmlns:xlink=\"http://www.w3.org/1999/xlink\" width=\"446pt\" height=\"176pt\" viewBox=\"0.00 0.00 446.19 176.19\">\n<g id=\"graph0\" class=\"graph\" transform=\"scale(1 1) rotate(0) translate(4 172.19)\">\n<title>%3</title>\n<polygon fill=\"white\" stroke=\"transparent\" points=\"-4,4 -4,-172.19 442.19,-172.19 442.19,4 -4,4\"/>\n<!-- 4780620748551514075 -->\n<g id=\"node1\" class=\"node\">\n<title>4780620748551514075</title>\n<ellipse fill=\"none\" stroke=\"black\" cx=\"48.1\" cy=\"-48.1\" rx=\"48.19\" ry=\"48.19\"/>\n<text text-anchor=\"middle\" x=\"48.1\" y=\"-44.4\" font-family=\"Helvetica,sans-Serif\" font-size=\"14.00\">ones_like</text>\n</g>\n<!-- 150750985715796147 -->\n<g id=\"node2\" class=\"node\">\n<title>150750985715796147</title>\n<polygon fill=\"none\" stroke=\"black\" points=\"75.1,-168.19 21.1,-168.19 21.1,-132.19 75.1,-132.19 75.1,-168.19\"/>\n<text text-anchor=\"middle\" x=\"48.1\" y=\"-146.49\" font-family=\"Helvetica,sans-Serif\" font-size=\"14.00\">(0, 0)</text>\n</g>\n<!-- 4780620748551514075&#45;&gt;150750985715796147 -->\n<g id=\"edge1\" class=\"edge\">\n<title>4780620748551514075-&gt;150750985715796147</title>\n<path fill=\"none\" stroke=\"black\" d=\"M48.1,-96.21C48.1,-105 48.1,-113.9 48.1,-121.84\"/>\n<polygon fill=\"black\" stroke=\"black\" points=\"44.6,-121.97 48.1,-131.97 51.6,-121.97 44.6,-121.97\"/>\n</g>\n<!-- &#45;1048557049260833534 -->\n<g id=\"node3\" class=\"node\">\n<title>-1048557049260833534</title>\n<ellipse fill=\"none\" stroke=\"black\" cx=\"162.1\" cy=\"-48.1\" rx=\"48.19\" ry=\"48.19\"/>\n<text text-anchor=\"middle\" x=\"162.1\" y=\"-44.4\" font-family=\"Helvetica,sans-Serif\" font-size=\"14.00\">ones_like</text>\n</g>\n<!-- &#45;4742323043256900219 -->\n<g id=\"node4\" class=\"node\">\n<title>-4742323043256900219</title>\n<polygon fill=\"none\" stroke=\"black\" points=\"189.1,-168.19 135.1,-168.19 135.1,-132.19 189.1,-132.19 189.1,-168.19\"/>\n<text text-anchor=\"middle\" x=\"162.1\" y=\"-146.49\" font-family=\"Helvetica,sans-Serif\" font-size=\"14.00\">(0, 1)</text>\n</g>\n<!-- &#45;1048557049260833534&#45;&gt;&#45;4742323043256900219 -->\n<g id=\"edge2\" class=\"edge\">\n<title>-1048557049260833534-&gt;-4742323043256900219</title>\n<path fill=\"none\" stroke=\"black\" d=\"M162.1,-96.21C162.1,-105 162.1,-113.9 162.1,-121.84\"/>\n<polygon fill=\"black\" stroke=\"black\" points=\"158.6,-121.97 162.1,-131.97 165.6,-121.97 158.6,-121.97\"/>\n</g>\n<!-- &#45;1009864127323997784 -->\n<g id=\"node5\" class=\"node\">\n<title>-1009864127323997784</title>\n<ellipse fill=\"none\" stroke=\"black\" cx=\"276.1\" cy=\"-48.1\" rx=\"48.19\" ry=\"48.19\"/>\n<text text-anchor=\"middle\" x=\"276.1\" y=\"-44.4\" font-family=\"Helvetica,sans-Serif\" font-size=\"14.00\">ones_like</text>\n</g>\n<!-- 1765317712845098206 -->\n<g id=\"node6\" class=\"node\">\n<title>1765317712845098206</title>\n<polygon fill=\"none\" stroke=\"black\" points=\"303.1,-168.19 249.1,-168.19 249.1,-132.19 303.1,-132.19 303.1,-168.19\"/>\n<text text-anchor=\"middle\" x=\"276.1\" y=\"-146.49\" font-family=\"Helvetica,sans-Serif\" font-size=\"14.00\">(0, 2)</text>\n</g>\n<!-- &#45;1009864127323997784&#45;&gt;1765317712845098206 -->\n<g id=\"edge3\" class=\"edge\">\n<title>-1009864127323997784-&gt;1765317712845098206</title>\n<path fill=\"none\" stroke=\"black\" d=\"M276.1,-96.21C276.1,-105 276.1,-113.9 276.1,-121.84\"/>\n<polygon fill=\"black\" stroke=\"black\" points=\"272.6,-121.97 276.1,-131.97 279.6,-121.97 272.6,-121.97\"/>\n</g>\n<!-- &#45;1813991032472570826 -->\n<g id=\"node7\" class=\"node\">\n<title>-1813991032472570826</title>\n<ellipse fill=\"none\" stroke=\"black\" cx=\"390.1\" cy=\"-48.1\" rx=\"48.19\" ry=\"48.19\"/>\n<text text-anchor=\"middle\" x=\"390.1\" y=\"-44.4\" font-family=\"Helvetica,sans-Serif\" font-size=\"14.00\">ones_like</text>\n</g>\n<!-- 8272958468947096631 -->\n<g id=\"node8\" class=\"node\">\n<title>8272958468947096631</title>\n<polygon fill=\"none\" stroke=\"black\" points=\"417.1,-168.19 363.1,-168.19 363.1,-132.19 417.1,-132.19 417.1,-168.19\"/>\n<text text-anchor=\"middle\" x=\"390.1\" y=\"-146.49\" font-family=\"Helvetica,sans-Serif\" font-size=\"14.00\">(0, 3)</text>\n</g>\n<!-- &#45;1813991032472570826&#45;&gt;8272958468947096631 -->\n<g id=\"edge4\" class=\"edge\">\n<title>-1813991032472570826-&gt;8272958468947096631</title>\n<path fill=\"none\" stroke=\"black\" d=\"M390.1,-96.21C390.1,-105 390.1,-113.9 390.1,-121.84\"/>\n<polygon fill=\"black\" stroke=\"black\" points=\"386.6,-121.97 390.1,-131.97 393.6,-121.97 386.6,-121.97\"/>\n</g>\n</g>\n</svg>"
          },
          "metadata": {},
          "execution_count": 18
        }
      ],
      "source": [
        "ones.visualize(format='svg')"
      ]
    },
    {
      "cell_type": "markdown",
      "id": "8p-P_I4MAOYA",
      "metadata": {
        "id": "8p-P_I4MAOYA"
      },
      "source": [
        "Our array has four chunks. To generate it, dask calls np.ones four times and then concatenates this together into one array.\n",
        "\n",
        "Rather than immediately loading a dask array (which puts all the data into RAM), it is more common to reduce the data somehow."
      ]
    },
    {
      "cell_type": "code",
      "execution_count": 19,
      "id": "7wogfk0WASfV",
      "metadata": {
        "id": "7wogfk0WASfV",
        "outputId": "4ebb0187-75c4-4ca5-a617-e7408819e973",
        "colab": {
          "base_uri": "https://localhost:8080/",
          "height": 1000
        }
      },
      "outputs": [
        {
          "output_type": "execute_result",
          "data": {
            "text/plain": [
              "<IPython.core.display.SVG object>"
            ],
            "image/svg+xml": "<svg xmlns=\"http://www.w3.org/2000/svg\" xmlns:xlink=\"http://www.w3.org/1999/xlink\" width=\"449pt\" height=\"806pt\" viewBox=\"0.00 0.00 449.19 805.66\">\n<g id=\"graph0\" class=\"graph\" transform=\"scale(1 1) rotate(0) translate(4 801.66)\">\n<title>%3</title>\n<polygon fill=\"white\" stroke=\"transparent\" points=\"-4,4 -4,-801.66 445.19,-801.66 445.19,4 -4,4\"/>\n<!-- 4780620748551514075 -->\n<g id=\"node1\" class=\"node\">\n<title>4780620748551514075</title>\n<ellipse fill=\"none\" stroke=\"black\" cx=\"48.1\" cy=\"-48.1\" rx=\"48.19\" ry=\"48.19\"/>\n<text text-anchor=\"middle\" x=\"48.1\" y=\"-44.4\" font-family=\"Helvetica,sans-Serif\" font-size=\"14.00\">ones_like</text>\n</g>\n<!-- 150750985715796147 -->\n<g id=\"node2\" class=\"node\">\n<title>150750985715796147</title>\n<polygon fill=\"none\" stroke=\"black\" points=\"92.1,-168.19 38.1,-168.19 38.1,-132.19 92.1,-132.19 92.1,-168.19\"/>\n<text text-anchor=\"middle\" x=\"65.1\" y=\"-146.49\" font-family=\"Helvetica,sans-Serif\" font-size=\"14.00\">(0, 0)</text>\n</g>\n<!-- 4780620748551514075&#45;&gt;150750985715796147 -->\n<g id=\"edge1\" class=\"edge\">\n<title>4780620748551514075-&gt;150750985715796147</title>\n<path fill=\"none\" stroke=\"black\" d=\"M56,-95.63C57.52,-104.57 59.06,-113.67 60.44,-121.76\"/>\n<polygon fill=\"black\" stroke=\"black\" points=\"57.01,-122.46 62.13,-131.73 63.91,-121.29 57.01,-122.46\"/>\n</g>\n<!-- 5199713501105546433 -->\n<g id=\"node9\" class=\"node\">\n<title>5199713501105546433</title>\n<ellipse fill=\"none\" stroke=\"black\" cx=\"74.1\" cy=\"-232.14\" rx=\"27.9\" ry=\"27.9\"/>\n<text text-anchor=\"middle\" x=\"74.1\" y=\"-228.44\" font-family=\"Helvetica,sans-Serif\" font-size=\"14.00\">sum</text>\n</g>\n<!-- 150750985715796147&#45;&gt;5199713501105546433 -->\n<g id=\"edge6\" class=\"edge\">\n<title>150750985715796147-&gt;5199713501105546433</title>\n<path fill=\"none\" stroke=\"black\" d=\"M67.05,-168.54C67.89,-176 68.9,-185.03 69.9,-193.88\"/>\n<polygon fill=\"black\" stroke=\"black\" points=\"66.45,-194.53 71.05,-204.08 73.41,-193.75 66.45,-194.53\"/>\n</g>\n<!-- &#45;1048557049260833534 -->\n<g id=\"node3\" class=\"node\">\n<title>-1048557049260833534</title>\n<ellipse fill=\"none\" stroke=\"black\" cx=\"162.1\" cy=\"-48.1\" rx=\"48.19\" ry=\"48.19\"/>\n<text text-anchor=\"middle\" x=\"162.1\" y=\"-44.4\" font-family=\"Helvetica,sans-Serif\" font-size=\"14.00\">ones_like</text>\n</g>\n<!-- &#45;4742323043256900219 -->\n<g id=\"node4\" class=\"node\">\n<title>-4742323043256900219</title>\n<polygon fill=\"none\" stroke=\"black\" points=\"183.1,-168.19 129.1,-168.19 129.1,-132.19 183.1,-132.19 183.1,-168.19\"/>\n<text text-anchor=\"middle\" x=\"156.1\" y=\"-146.49\" font-family=\"Helvetica,sans-Serif\" font-size=\"14.00\">(0, 1)</text>\n</g>\n<!-- &#45;1048557049260833534&#45;&gt;&#45;4742323043256900219 -->\n<g id=\"edge2\" class=\"edge\">\n<title>-1048557049260833534-&gt;-4742323043256900219</title>\n<path fill=\"none\" stroke=\"black\" d=\"M159.27,-96.21C158.74,-105 158.21,-113.9 157.74,-121.84\"/>\n<polygon fill=\"black\" stroke=\"black\" points=\"154.23,-121.78 157.13,-131.97 161.22,-122.19 154.23,-121.78\"/>\n</g>\n<!-- 5238406423042382183 -->\n<g id=\"node11\" class=\"node\">\n<title>5238406423042382183</title>\n<ellipse fill=\"none\" stroke=\"black\" cx=\"156.1\" cy=\"-232.14\" rx=\"27.9\" ry=\"27.9\"/>\n<text text-anchor=\"middle\" x=\"156.1\" y=\"-228.44\" font-family=\"Helvetica,sans-Serif\" font-size=\"14.00\">sum</text>\n</g>\n<!-- &#45;4742323043256900219&#45;&gt;5238406423042382183 -->\n<g id=\"edge8\" class=\"edge\">\n<title>-4742323043256900219-&gt;5238406423042382183</title>\n<path fill=\"none\" stroke=\"black\" d=\"M156.1,-168.54C156.1,-176 156.1,-185.03 156.1,-193.88\"/>\n<polygon fill=\"black\" stroke=\"black\" points=\"152.6,-194.08 156.1,-204.08 159.6,-194.08 152.6,-194.08\"/>\n</g>\n<!-- &#45;1009864127323997784 -->\n<g id=\"node5\" class=\"node\">\n<title>-1009864127323997784</title>\n<ellipse fill=\"none\" stroke=\"black\" cx=\"279.1\" cy=\"-48.1\" rx=\"48.19\" ry=\"48.19\"/>\n<text text-anchor=\"middle\" x=\"279.1\" y=\"-44.4\" font-family=\"Helvetica,sans-Serif\" font-size=\"14.00\">ones_like</text>\n</g>\n<!-- 1765317712845098206 -->\n<g id=\"node6\" class=\"node\">\n<title>1765317712845098206</title>\n<polygon fill=\"none\" stroke=\"black\" points=\"306.1,-168.19 252.1,-168.19 252.1,-132.19 306.1,-132.19 306.1,-168.19\"/>\n<text text-anchor=\"middle\" x=\"279.1\" y=\"-146.49\" font-family=\"Helvetica,sans-Serif\" font-size=\"14.00\">(0, 2)</text>\n</g>\n<!-- &#45;1009864127323997784&#45;&gt;1765317712845098206 -->\n<g id=\"edge3\" class=\"edge\">\n<title>-1009864127323997784-&gt;1765317712845098206</title>\n<path fill=\"none\" stroke=\"black\" d=\"M279.1,-96.21C279.1,-105 279.1,-113.9 279.1,-121.84\"/>\n<polygon fill=\"black\" stroke=\"black\" points=\"275.6,-121.97 279.1,-131.97 282.6,-121.97 275.6,-121.97\"/>\n</g>\n<!-- &#45;8969018478228276825 -->\n<g id=\"node13\" class=\"node\">\n<title>-8969018478228276825</title>\n<ellipse fill=\"none\" stroke=\"black\" cx=\"280.1\" cy=\"-232.14\" rx=\"27.9\" ry=\"27.9\"/>\n<text text-anchor=\"middle\" x=\"280.1\" y=\"-228.44\" font-family=\"Helvetica,sans-Serif\" font-size=\"14.00\">sum</text>\n</g>\n<!-- 1765317712845098206&#45;&gt;&#45;8969018478228276825 -->\n<g id=\"edge10\" class=\"edge\">\n<title>1765317712845098206-&gt;-8969018478228276825</title>\n<path fill=\"none\" stroke=\"black\" d=\"M279.31,-168.54C279.41,-176 279.52,-185.03 279.63,-193.88\"/>\n<polygon fill=\"black\" stroke=\"black\" points=\"276.13,-194.12 279.76,-204.08 283.13,-194.03 276.13,-194.12\"/>\n</g>\n<!-- &#45;1813991032472570826 -->\n<g id=\"node7\" class=\"node\">\n<title>-1813991032472570826</title>\n<ellipse fill=\"none\" stroke=\"black\" cx=\"393.1\" cy=\"-48.1\" rx=\"48.19\" ry=\"48.19\"/>\n<text text-anchor=\"middle\" x=\"393.1\" y=\"-44.4\" font-family=\"Helvetica,sans-Serif\" font-size=\"14.00\">ones_like</text>\n</g>\n<!-- 8272958468947096631 -->\n<g id=\"node8\" class=\"node\">\n<title>8272958468947096631</title>\n<polygon fill=\"none\" stroke=\"black\" points=\"410.1,-168.19 356.1,-168.19 356.1,-132.19 410.1,-132.19 410.1,-168.19\"/>\n<text text-anchor=\"middle\" x=\"383.1\" y=\"-146.49\" font-family=\"Helvetica,sans-Serif\" font-size=\"14.00\">(0, 3)</text>\n</g>\n<!-- &#45;1813991032472570826&#45;&gt;8272958468947096631 -->\n<g id=\"edge4\" class=\"edge\">\n<title>-1813991032472570826-&gt;8272958468947096631</title>\n<path fill=\"none\" stroke=\"black\" d=\"M388.39,-96.21C387.51,-105 386.62,-113.9 385.83,-121.84\"/>\n<polygon fill=\"black\" stroke=\"black\" points=\"382.33,-121.67 384.82,-131.97 389.29,-122.36 382.33,-121.67\"/>\n</g>\n<!-- 8673598690332701749 -->\n<g id=\"node15\" class=\"node\">\n<title>8673598690332701749</title>\n<ellipse fill=\"none\" stroke=\"black\" cx=\"373.1\" cy=\"-232.14\" rx=\"27.9\" ry=\"27.9\"/>\n<text text-anchor=\"middle\" x=\"373.1\" y=\"-228.44\" font-family=\"Helvetica,sans-Serif\" font-size=\"14.00\">sum</text>\n</g>\n<!-- 8272958468947096631&#45;&gt;8673598690332701749 -->\n<g id=\"edge12\" class=\"edge\">\n<title>8272958468947096631-&gt;8673598690332701749</title>\n<path fill=\"none\" stroke=\"black\" d=\"M380.93,-168.54C379.97,-176.15 378.82,-185.38 377.69,-194.4\"/>\n<polygon fill=\"black\" stroke=\"black\" points=\"374.21,-194.03 376.44,-204.39 381.16,-194.9 374.21,-194.03\"/>\n</g>\n<!-- 3185716779811169594 -->\n<g id=\"node10\" class=\"node\">\n<title>3185716779811169594</title>\n<polygon fill=\"none\" stroke=\"black\" points=\"106.1,-332.09 52.1,-332.09 52.1,-296.09 106.1,-296.09 106.1,-332.09\"/>\n<text text-anchor=\"middle\" x=\"79.1\" y=\"-310.39\" font-family=\"Helvetica,sans-Serif\" font-size=\"14.00\">(0, 0)</text>\n</g>\n<!-- 5199713501105546433&#45;&gt;3185716779811169594 -->\n<g id=\"edge5\" class=\"edge\">\n<title>5199713501105546433-&gt;3185716779811169594</title>\n<path fill=\"none\" stroke=\"black\" d=\"M75.79,-260.21C76.3,-268.39 76.86,-277.39 77.38,-285.61\"/>\n<polygon fill=\"black\" stroke=\"black\" points=\"73.9,-286.06 78.02,-295.83 80.89,-285.63 73.9,-286.06\"/>\n</g>\n<!-- 4209151866392722240 -->\n<g id=\"node17\" class=\"node\">\n<title>4209151866392722240</title>\n<ellipse fill=\"none\" stroke=\"black\" cx=\"154.1\" cy=\"-422.68\" rx=\"54.69\" ry=\"54.69\"/>\n<text text-anchor=\"middle\" x=\"154.1\" y=\"-418.98\" font-family=\"Helvetica,sans-Serif\" font-size=\"14.00\">sum-partial</text>\n</g>\n<!-- 3185716779811169594&#45;&gt;4209151866392722240 -->\n<g id=\"edge14\" class=\"edge\">\n<title>3185716779811169594-&gt;4209151866392722240</title>\n<path fill=\"none\" stroke=\"black\" d=\"M91.15,-332.21C98.28,-342.35 107.74,-355.79 117.15,-369.17\"/>\n<polygon fill=\"black\" stroke=\"black\" points=\"114.36,-371.3 122.98,-377.46 120.09,-367.27 114.36,-371.3\"/>\n</g>\n<!-- &#45;8753386537796383597 -->\n<g id=\"node12\" class=\"node\">\n<title>-8753386537796383597</title>\n<polygon fill=\"none\" stroke=\"black\" points=\"182.1,-332.09 128.1,-332.09 128.1,-296.09 182.1,-296.09 182.1,-332.09\"/>\n<text text-anchor=\"middle\" x=\"155.1\" y=\"-310.39\" font-family=\"Helvetica,sans-Serif\" font-size=\"14.00\">(0, 1)</text>\n</g>\n<!-- 5238406423042382183&#45;&gt;&#45;8753386537796383597 -->\n<g id=\"edge7\" class=\"edge\">\n<title>5238406423042382183-&gt;-8753386537796383597</title>\n<path fill=\"none\" stroke=\"black\" d=\"M155.76,-260.21C155.65,-268.39 155.54,-277.39 155.44,-285.61\"/>\n<polygon fill=\"black\" stroke=\"black\" points=\"151.94,-285.78 155.31,-295.83 158.94,-285.87 151.94,-285.78\"/>\n</g>\n<!-- &#45;8753386537796383597&#45;&gt;4209151866392722240 -->\n<g id=\"edge15\" class=\"edge\">\n<title>-8753386537796383597-&gt;4209151866392722240</title>\n<path fill=\"none\" stroke=\"black\" d=\"M154.94,-332.21C154.87,-339.39 154.78,-348.22 154.7,-357.51\"/>\n<polygon fill=\"black\" stroke=\"black\" points=\"151.2,-357.68 154.6,-367.71 158.2,-357.75 151.2,-357.68\"/>\n</g>\n<!-- 4800283506940471653 -->\n<g id=\"node14\" class=\"node\">\n<title>4800283506940471653</title>\n<polygon fill=\"none\" stroke=\"black\" points=\"307.1,-332.09 253.1,-332.09 253.1,-296.09 307.1,-296.09 307.1,-332.09\"/>\n<text text-anchor=\"middle\" x=\"280.1\" y=\"-310.39\" font-family=\"Helvetica,sans-Serif\" font-size=\"14.00\">(0, 2)</text>\n</g>\n<!-- &#45;8969018478228276825&#45;&gt;4800283506940471653 -->\n<g id=\"edge9\" class=\"edge\">\n<title>-8969018478228276825-&gt;4800283506940471653</title>\n<path fill=\"none\" stroke=\"black\" d=\"M280.1,-260.21C280.1,-268.39 280.1,-277.39 280.1,-285.61\"/>\n<polygon fill=\"black\" stroke=\"black\" points=\"276.6,-285.83 280.1,-295.83 283.6,-285.83 276.6,-285.83\"/>\n</g>\n<!-- &#45;2360531611205109835 -->\n<g id=\"node19\" class=\"node\">\n<title>-2360531611205109835</title>\n<ellipse fill=\"none\" stroke=\"black\" cx=\"281.1\" cy=\"-422.68\" rx=\"54.69\" ry=\"54.69\"/>\n<text text-anchor=\"middle\" x=\"281.1\" y=\"-418.98\" font-family=\"Helvetica,sans-Serif\" font-size=\"14.00\">sum-partial</text>\n</g>\n<!-- 4800283506940471653&#45;&gt;&#45;2360531611205109835 -->\n<g id=\"edge17\" class=\"edge\">\n<title>4800283506940471653-&gt;-2360531611205109835</title>\n<path fill=\"none\" stroke=\"black\" d=\"M280.26,-332.21C280.32,-339.39 280.41,-348.22 280.49,-357.51\"/>\n<polygon fill=\"black\" stroke=\"black\" points=\"277,-357.75 280.59,-367.71 284,-357.68 277,-357.75\"/>\n</g>\n<!-- &#45;7138819810667081538 -->\n<g id=\"node16\" class=\"node\">\n<title>-7138819810667081538</title>\n<polygon fill=\"none\" stroke=\"black\" points=\"389.1,-332.09 335.1,-332.09 335.1,-296.09 389.1,-296.09 389.1,-332.09\"/>\n<text text-anchor=\"middle\" x=\"362.1\" y=\"-310.39\" font-family=\"Helvetica,sans-Serif\" font-size=\"14.00\">(0, 3)</text>\n</g>\n<!-- 8673598690332701749&#45;&gt;&#45;7138819810667081538 -->\n<g id=\"edge11\" class=\"edge\">\n<title>8673598690332701749-&gt;-7138819810667081538</title>\n<path fill=\"none\" stroke=\"black\" d=\"M369.37,-260.21C368.23,-268.49 366.98,-277.6 365.84,-285.89\"/>\n<polygon fill=\"black\" stroke=\"black\" points=\"362.37,-285.44 364.47,-295.83 369.3,-286.4 362.37,-285.44\"/>\n</g>\n<!-- &#45;7138819810667081538&#45;&gt;&#45;2360531611205109835 -->\n<g id=\"edge18\" class=\"edge\">\n<title>-7138819810667081538-&gt;-2360531611205109835</title>\n<path fill=\"none\" stroke=\"black\" d=\"M349.08,-332.21C341.08,-342.74 330.37,-356.83 319.82,-370.72\"/>\n<polygon fill=\"black\" stroke=\"black\" points=\"316.92,-368.76 313.65,-378.84 322.49,-372.99 316.92,-368.76\"/>\n</g>\n<!-- 1681641206505472121 -->\n<g id=\"node18\" class=\"node\">\n<title>1681641206505472121</title>\n<polygon fill=\"none\" stroke=\"black\" points=\"208.1,-549.28 154.1,-549.28 154.1,-513.28 208.1,-513.28 208.1,-549.28\"/>\n<text text-anchor=\"middle\" x=\"181.1\" y=\"-527.58\" font-family=\"Helvetica,sans-Serif\" font-size=\"14.00\">(0, 0)</text>\n</g>\n<!-- 4209151866392722240&#45;&gt;1681641206505472121 -->\n<g id=\"edge13\" class=\"edge\">\n<title>4209151866392722240-&gt;1681641206505472121</title>\n<path fill=\"none\" stroke=\"black\" d=\"M167.28,-475.73C169.69,-485.24 172.11,-494.81 174.24,-503.21\"/>\n<polygon fill=\"black\" stroke=\"black\" points=\"170.91,-504.32 176.76,-513.15 177.7,-502.6 170.91,-504.32\"/>\n</g>\n<!-- 9029125221134224057 -->\n<g id=\"node21\" class=\"node\">\n<title>9029125221134224057</title>\n<ellipse fill=\"none\" stroke=\"black\" cx=\"217.1\" cy=\"-655.47\" rx=\"70.39\" ry=\"70.39\"/>\n<text text-anchor=\"middle\" x=\"217.1\" y=\"-651.77\" font-family=\"Helvetica,sans-Serif\" font-size=\"14.00\">sum-aggregate</text>\n</g>\n<!-- 1681641206505472121&#45;&gt;9029125221134224057 -->\n<g id=\"edge20\" class=\"edge\">\n<title>1681641206505472121-&gt;9029125221134224057</title>\n<path fill=\"none\" stroke=\"black\" d=\"M186.18,-549.53C188.53,-557.51 191.51,-567.62 194.68,-578.38\"/>\n<polygon fill=\"black\" stroke=\"black\" points=\"191.32,-579.37 197.5,-587.97 198.04,-577.39 191.32,-579.37\"/>\n</g>\n<!-- 3790924579623102418 -->\n<g id=\"node20\" class=\"node\">\n<title>3790924579623102418</title>\n<polygon fill=\"none\" stroke=\"black\" points=\"294.1,-549.28 240.1,-549.28 240.1,-513.28 294.1,-513.28 294.1,-549.28\"/>\n<text text-anchor=\"middle\" x=\"267.1\" y=\"-527.58\" font-family=\"Helvetica,sans-Serif\" font-size=\"14.00\">(0, 1)</text>\n</g>\n<!-- &#45;2360531611205109835&#45;&gt;3790924579623102418 -->\n<g id=\"edge16\" class=\"edge\">\n<title>-2360531611205109835-&gt;3790924579623102418</title>\n<path fill=\"none\" stroke=\"black\" d=\"M274.1,-476.98C272.91,-486 271.73,-495.01 270.68,-503\"/>\n<polygon fill=\"black\" stroke=\"black\" points=\"267.18,-502.78 269.35,-513.15 274.12,-503.69 267.18,-502.78\"/>\n</g>\n<!-- 3790924579623102418&#45;&gt;9029125221134224057 -->\n<g id=\"edge21\" class=\"edge\">\n<title>3790924579623102418-&gt;9029125221134224057</title>\n<path fill=\"none\" stroke=\"black\" d=\"M260.04,-549.53C256.53,-558.09 252.03,-569.09 247.27,-580.72\"/>\n<polygon fill=\"black\" stroke=\"black\" points=\"243.96,-579.57 243.41,-590.16 250.44,-582.23 243.96,-579.57\"/>\n</g>\n<!-- 3248547082701391067 -->\n<g id=\"node22\" class=\"node\">\n<title>3248547082701391067</title>\n<polygon fill=\"none\" stroke=\"black\" points=\"244.1,-797.66 190.1,-797.66 190.1,-761.66 244.1,-761.66 244.1,-797.66\"/>\n<text text-anchor=\"middle\" x=\"217.1\" y=\"-775.96\" font-family=\"Helvetica,sans-Serif\" font-size=\"14.00\">()</text>\n</g>\n<!-- 9029125221134224057&#45;&gt;3248547082701391067 -->\n<g id=\"edge19\" class=\"edge\">\n<title>9029125221134224057-&gt;3248547082701391067</title>\n<path fill=\"none\" stroke=\"black\" d=\"M217.1,-725.78C217.1,-734.86 217.1,-743.69 217.1,-751.46\"/>\n<polygon fill=\"black\" stroke=\"black\" points=\"213.6,-751.64 217.1,-761.64 220.6,-751.64 213.6,-751.64\"/>\n</g>\n</g>\n</svg>"
          },
          "metadata": {},
          "execution_count": 19
        }
      ],
      "source": [
        "# calculate the sum of elements of dask array\n",
        "sum_of_ones = ones.sum()\n",
        "# visualize the sum operation in dask\n",
        "sum_of_ones.visualize(format='svg')"
      ]
    },
    {
      "cell_type": "markdown",
      "id": "urIQVP-xQ9XO",
      "metadata": {
        "id": "urIQVP-xQ9XO"
      },
      "source": [
        "### DataFrame\n",
        "\n",
        "A Dask DataFrame is a large parallel DataFrame composed of many smaller Pandas DataFrames, split along **with** the index. One Dask DataFrame operation triggers many operations on the constituent Pandas DataFrames.\n",
        "\n",
        "Dask DataFrames coordinate many Pandas DataFrames/Series arranged along the index. A Dask DataFrame is partitioned row-wise, grouping rows by index value for efficiency.\n",
        "\n",
        "![Dask_DF](https://cdn.iisc.talentsprint.com/CDS/Images/Dask_Dataframe.JPG)\n",
        "\n",
        "To study more about Dask dataframe, refer to the link [here](https://docs.dask.org/en/latest/dataframe.html)."
      ]
    },
    {
      "cell_type": "markdown",
      "id": "Zyw-S0i7QQ_U",
      "metadata": {
        "id": "Zyw-S0i7QQ_U"
      },
      "source": [
        "Create a dataframe with random values"
      ]
    },
    {
      "cell_type": "code",
      "execution_count": 20,
      "id": "H4xmg4gHQdTo",
      "metadata": {
        "id": "H4xmg4gHQdTo"
      },
      "outputs": [],
      "source": [
        "# pandas and numpy is used to create dataframe of random values\n",
        "data = pd.DataFrame()"
      ]
    },
    {
      "cell_type": "markdown",
      "id": "81SudTyQSD8a",
      "metadata": {
        "id": "81SudTyQSD8a"
      },
      "source": [
        "Dataframe is created with two columns, each having 1500 random values."
      ]
    },
    {
      "cell_type": "code",
      "execution_count": 21,
      "id": "4iu2Pps_Erfi",
      "metadata": {
        "id": "4iu2Pps_Erfi",
        "outputId": "a67ceed1-b0b6-46fd-f1dd-7798a9c37132",
        "colab": {
          "base_uri": "https://localhost:8080/"
        }
      },
      "outputs": [
        {
          "output_type": "stream",
          "name": "stdout",
          "text": [
            "          col1      col2\n",
            "0     2.247327  1.739621\n",
            "1     0.071698 -0.287657\n",
            "2     0.398260 -0.639571\n",
            "3    -0.933030 -0.493973\n",
            "4     1.776230  1.168140\n",
            "...        ...       ...\n",
            "1495 -0.373824  0.061038\n",
            "1496 -0.317261  0.377630\n",
            "1497  0.484240 -1.312374\n",
            "1498  1.687142 -2.186072\n",
            "1499  1.346848  0.284376\n",
            "\n",
            "[1500 rows x 2 columns]\n"
          ]
        }
      ],
      "source": [
        "# create two columns\n",
        "data['col1'] = np.random.normal(size=1500)\n",
        "data['col2'] = np.random.normal(size=1500)\n",
        "print(data)"
      ]
    },
    {
      "cell_type": "markdown",
      "id": "8zEcwuXZSM9A",
      "metadata": {
        "id": "8zEcwuXZSM9A"
      },
      "source": [
        "Read the dataframe using dask dataframe"
      ]
    },
    {
      "cell_type": "code",
      "execution_count": 22,
      "id": "f2LFQep8Q1ga",
      "metadata": {
        "id": "f2LFQep8Q1ga",
        "outputId": "09188ac7-6b4b-4cfa-d628-5c52f9514c8a",
        "colab": {
          "base_uri": "https://localhost:8080/"
        }
      },
      "outputs": [
        {
          "output_type": "stream",
          "name": "stdout",
          "text": [
            "          col1      col2\n",
            "0     2.247327  1.739621\n",
            "1     0.071698 -0.287657\n",
            "2     0.398260 -0.639571\n",
            "3    -0.933030 -0.493973\n",
            "4     1.776230  1.168140\n",
            "...        ...       ...\n",
            "1495 -0.373824  0.061038\n",
            "1496 -0.317261  0.377630\n",
            "1497  0.484240 -1.312374\n",
            "1498  1.687142 -2.186072\n",
            "1499  1.346848  0.284376\n",
            "\n",
            "[1500 rows x 2 columns]\n"
          ]
        }
      ],
      "source": [
        "# convert pandas dataframe to dask dataframe\n",
        "ddf = dd.from_pandas(data, npartitions=2)\n",
        "print(ddf.compute())"
      ]
    },
    {
      "cell_type": "code",
      "execution_count": 23,
      "id": "eqtBj6xsRBla",
      "metadata": {
        "id": "eqtBj6xsRBla",
        "outputId": "9269db5b-88a8-4c24-8b54-806c6b84710a",
        "colab": {
          "base_uri": "https://localhost:8080/"
        }
      },
      "outputs": [
        {
          "output_type": "stream",
          "name": "stdout",
          "text": [
            "         col1      col2\n",
            "750  0.432094 -0.952035\n",
            "751  1.730025 -1.086086\n",
            "752 -0.839328  0.038564\n",
            "753 -0.442775  0.303338\n",
            "754  1.015298  0.825613\n"
          ]
        }
      ],
      "source": [
        "# Get a dask DataFrame/Series representing the nth partition\n",
        "part_1= ddf.get_partition(1)\n",
        "print(part_1.head())"
      ]
    },
    {
      "cell_type": "code",
      "execution_count": 24,
      "id": "5QyY3Hu1RlWR",
      "metadata": {
        "id": "5QyY3Hu1RlWR",
        "outputId": "7d25d080-0775-4653-eb12-ad6f830cd08d",
        "colab": {
          "base_uri": "https://localhost:8080/",
          "height": 524
        }
      },
      "outputs": [
        {
          "output_type": "stream",
          "name": "stdout",
          "text": [
            "CPU times: user 28.6 ms, sys: 9.94 ms, total: 38.5 ms\n",
            "Wall time: 36.9 ms\n"
          ]
        },
        {
          "output_type": "execute_result",
          "data": {
            "text/plain": [
              "col1\n",
              "-2.913382    1\n",
              "-2.905316    1\n",
              "-2.749551    1\n",
              "-2.564150    1\n",
              "-2.478624    1\n",
              "            ..\n",
              " 2.454878    1\n",
              " 2.481855    1\n",
              " 2.718445    1\n",
              " 2.934610    1\n",
              " 3.370229    1\n",
              "Name: count, Length: 1500, dtype: int64"
            ],
            "text/html": [
              "<div>\n",
              "<style scoped>\n",
              "    .dataframe tbody tr th:only-of-type {\n",
              "        vertical-align: middle;\n",
              "    }\n",
              "\n",
              "    .dataframe tbody tr th {\n",
              "        vertical-align: top;\n",
              "    }\n",
              "\n",
              "    .dataframe thead th {\n",
              "        text-align: right;\n",
              "    }\n",
              "</style>\n",
              "<table border=\"1\" class=\"dataframe\">\n",
              "  <thead>\n",
              "    <tr style=\"text-align: right;\">\n",
              "      <th></th>\n",
              "      <th>count</th>\n",
              "    </tr>\n",
              "    <tr>\n",
              "      <th>col1</th>\n",
              "      <th></th>\n",
              "    </tr>\n",
              "  </thead>\n",
              "  <tbody>\n",
              "    <tr>\n",
              "      <th>-2.913382</th>\n",
              "      <td>1</td>\n",
              "    </tr>\n",
              "    <tr>\n",
              "      <th>-2.905316</th>\n",
              "      <td>1</td>\n",
              "    </tr>\n",
              "    <tr>\n",
              "      <th>-2.749551</th>\n",
              "      <td>1</td>\n",
              "    </tr>\n",
              "    <tr>\n",
              "      <th>-2.564150</th>\n",
              "      <td>1</td>\n",
              "    </tr>\n",
              "    <tr>\n",
              "      <th>-2.478624</th>\n",
              "      <td>1</td>\n",
              "    </tr>\n",
              "    <tr>\n",
              "      <th>...</th>\n",
              "      <td>...</td>\n",
              "    </tr>\n",
              "    <tr>\n",
              "      <th>2.454878</th>\n",
              "      <td>1</td>\n",
              "    </tr>\n",
              "    <tr>\n",
              "      <th>2.481855</th>\n",
              "      <td>1</td>\n",
              "    </tr>\n",
              "    <tr>\n",
              "      <th>2.718445</th>\n",
              "      <td>1</td>\n",
              "    </tr>\n",
              "    <tr>\n",
              "      <th>2.934610</th>\n",
              "      <td>1</td>\n",
              "    </tr>\n",
              "    <tr>\n",
              "      <th>3.370229</th>\n",
              "      <td>1</td>\n",
              "    </tr>\n",
              "  </tbody>\n",
              "</table>\n",
              "<p>1500 rows × 1 columns</p>\n",
              "</div><br><label><b>dtype:</b> int64</label>"
            ]
          },
          "metadata": {},
          "execution_count": 24
        }
      ],
      "source": [
        "%time ddf['col1'].value_counts().compute()                 # compute the value counts in column 1 and time of execution of code"
      ]
    },
    {
      "cell_type": "markdown",
      "id": "PwfxN8zIyZ1V",
      "metadata": {
        "id": "PwfxN8zIyZ1V"
      },
      "source": [
        "So, using dask dataframe it is much more time efficient to execute"
      ]
    },
    {
      "cell_type": "markdown",
      "id": "another-warren",
      "metadata": {
        "id": "another-warren"
      },
      "source": [
        "#### Performance of Dask Dataframe and Pandas Dataframe\n",
        "\n",
        "\n",
        "\n",
        "In the below example, we can understand how dask dataframes handle complex and large datasets along with pandas dataframe.\n",
        "\n",
        "We are using 'nycflights' dataset to show how dask differs from pandas.\n",
        "\n",
        "'nycflights' dataset contains 10 separate csv flights for the year 1990 to 1999."
      ]
    },
    {
      "cell_type": "code",
      "execution_count": 25,
      "id": "vkIiWr265y1k",
      "metadata": {
        "id": "vkIiWr265y1k"
      },
      "outputs": [],
      "source": [
        "nycflightsPath = os.path.join('nycflights', 'nycflights', '*.csv')"
      ]
    },
    {
      "cell_type": "code",
      "execution_count": 26,
      "id": "TtpYoVlZbaUE",
      "metadata": {
        "id": "TtpYoVlZbaUE",
        "outputId": "f48b3dd0-1dad-4a82-b0f3-b12c2cc13686",
        "colab": {
          "base_uri": "https://localhost:8080/",
          "height": 35
        }
      },
      "outputs": [
        {
          "output_type": "execute_result",
          "data": {
            "text/plain": [
              "'nycflights/nycflights/*.csv'"
            ],
            "application/vnd.google.colaboratory.intrinsic+json": {
              "type": "string"
            }
          },
          "metadata": {},
          "execution_count": 26
        }
      ],
      "source": [
        "nycflightsPath"
      ]
    },
    {
      "cell_type": "code",
      "execution_count": 27,
      "id": "finished-mouse",
      "metadata": {
        "id": "finished-mouse",
        "outputId": "c92b31c7-caa4-4ba0-8677-7c147765a874",
        "colab": {
          "base_uri": "https://localhost:8080/",
          "height": 412
        }
      },
      "outputs": [
        {
          "output_type": "stream",
          "name": "stderr",
          "text": [
            "/usr/local/lib/python3.11/dist-packages/dask/dataframe/io/csv.py:594: FutureWarning: Support for nested sequences for 'parse_dates' in pd.read_csv is deprecated. Combine the desired columns with pd.to_datetime after parsing instead.\n",
            "  head = reader(BytesIO(b_sample), nrows=sample_rows, **head_kwargs)\n",
            "/usr/local/lib/python3.11/dist-packages/dask/dataframe/io/csv.py:77: FutureWarning: Support for nested sequences for 'parse_dates' in pd.read_csv is deprecated. Combine the desired columns with pd.to_datetime after parsing instead.\n",
            "  df = reader(bio, **kwargs)\n"
          ]
        },
        {
          "output_type": "execute_result",
          "data": {
            "text/plain": [
              "        Date  DayOfWeek  DepTime  CRSDepTime  ArrTime  CRSArrTime  \\\n",
              "0 1990-01-01          1   1621.0        1540   1747.0        1701   \n",
              "1 1990-01-02          2   1547.0        1540   1700.0        1701   \n",
              "2 1990-01-03          3   1546.0        1540   1710.0        1701   \n",
              "3 1990-01-04          4   1542.0        1540   1710.0        1701   \n",
              "4 1990-01-05          5   1549.0        1540   1706.0        1701   \n",
              "\n",
              "  UniqueCarrier  FlightNum TailNum  ActualElapsedTime  ...  AirTime  ArrDelay  \\\n",
              "0            US         33    <NA>               86.0  ...      NaN      46.0   \n",
              "1            US         33    <NA>               73.0  ...      NaN      -1.0   \n",
              "2            US         33    <NA>               84.0  ...      NaN       9.0   \n",
              "3            US         33    <NA>               88.0  ...      NaN       9.0   \n",
              "4            US         33    <NA>               77.0  ...      NaN       5.0   \n",
              "\n",
              "   DepDelay  Origin Dest Distance  TaxiIn  TaxiOut  Cancelled  Diverted  \n",
              "0      41.0     EWR  PIT    319.0     NaN      NaN      False         0  \n",
              "1       7.0     EWR  PIT    319.0     NaN      NaN      False         0  \n",
              "2       6.0     EWR  PIT    319.0     NaN      NaN      False         0  \n",
              "3       2.0     EWR  PIT    319.0     NaN      NaN      False         0  \n",
              "4       9.0     EWR  PIT    319.0     NaN      NaN      False         0  \n",
              "\n",
              "[5 rows x 21 columns]"
            ],
            "text/html": [
              "\n",
              "  <div id=\"df-2babbfbb-b8d8-4726-b9ca-a246afba2a99\" class=\"colab-df-container\">\n",
              "    <div>\n",
              "<style scoped>\n",
              "    .dataframe tbody tr th:only-of-type {\n",
              "        vertical-align: middle;\n",
              "    }\n",
              "\n",
              "    .dataframe tbody tr th {\n",
              "        vertical-align: top;\n",
              "    }\n",
              "\n",
              "    .dataframe thead th {\n",
              "        text-align: right;\n",
              "    }\n",
              "</style>\n",
              "<table border=\"1\" class=\"dataframe\">\n",
              "  <thead>\n",
              "    <tr style=\"text-align: right;\">\n",
              "      <th></th>\n",
              "      <th>Date</th>\n",
              "      <th>DayOfWeek</th>\n",
              "      <th>DepTime</th>\n",
              "      <th>CRSDepTime</th>\n",
              "      <th>ArrTime</th>\n",
              "      <th>CRSArrTime</th>\n",
              "      <th>UniqueCarrier</th>\n",
              "      <th>FlightNum</th>\n",
              "      <th>TailNum</th>\n",
              "      <th>ActualElapsedTime</th>\n",
              "      <th>...</th>\n",
              "      <th>AirTime</th>\n",
              "      <th>ArrDelay</th>\n",
              "      <th>DepDelay</th>\n",
              "      <th>Origin</th>\n",
              "      <th>Dest</th>\n",
              "      <th>Distance</th>\n",
              "      <th>TaxiIn</th>\n",
              "      <th>TaxiOut</th>\n",
              "      <th>Cancelled</th>\n",
              "      <th>Diverted</th>\n",
              "    </tr>\n",
              "  </thead>\n",
              "  <tbody>\n",
              "    <tr>\n",
              "      <th>0</th>\n",
              "      <td>1990-01-01</td>\n",
              "      <td>1</td>\n",
              "      <td>1621.0</td>\n",
              "      <td>1540</td>\n",
              "      <td>1747.0</td>\n",
              "      <td>1701</td>\n",
              "      <td>US</td>\n",
              "      <td>33</td>\n",
              "      <td>&lt;NA&gt;</td>\n",
              "      <td>86.0</td>\n",
              "      <td>...</td>\n",
              "      <td>NaN</td>\n",
              "      <td>46.0</td>\n",
              "      <td>41.0</td>\n",
              "      <td>EWR</td>\n",
              "      <td>PIT</td>\n",
              "      <td>319.0</td>\n",
              "      <td>NaN</td>\n",
              "      <td>NaN</td>\n",
              "      <td>False</td>\n",
              "      <td>0</td>\n",
              "    </tr>\n",
              "    <tr>\n",
              "      <th>1</th>\n",
              "      <td>1990-01-02</td>\n",
              "      <td>2</td>\n",
              "      <td>1547.0</td>\n",
              "      <td>1540</td>\n",
              "      <td>1700.0</td>\n",
              "      <td>1701</td>\n",
              "      <td>US</td>\n",
              "      <td>33</td>\n",
              "      <td>&lt;NA&gt;</td>\n",
              "      <td>73.0</td>\n",
              "      <td>...</td>\n",
              "      <td>NaN</td>\n",
              "      <td>-1.0</td>\n",
              "      <td>7.0</td>\n",
              "      <td>EWR</td>\n",
              "      <td>PIT</td>\n",
              "      <td>319.0</td>\n",
              "      <td>NaN</td>\n",
              "      <td>NaN</td>\n",
              "      <td>False</td>\n",
              "      <td>0</td>\n",
              "    </tr>\n",
              "    <tr>\n",
              "      <th>2</th>\n",
              "      <td>1990-01-03</td>\n",
              "      <td>3</td>\n",
              "      <td>1546.0</td>\n",
              "      <td>1540</td>\n",
              "      <td>1710.0</td>\n",
              "      <td>1701</td>\n",
              "      <td>US</td>\n",
              "      <td>33</td>\n",
              "      <td>&lt;NA&gt;</td>\n",
              "      <td>84.0</td>\n",
              "      <td>...</td>\n",
              "      <td>NaN</td>\n",
              "      <td>9.0</td>\n",
              "      <td>6.0</td>\n",
              "      <td>EWR</td>\n",
              "      <td>PIT</td>\n",
              "      <td>319.0</td>\n",
              "      <td>NaN</td>\n",
              "      <td>NaN</td>\n",
              "      <td>False</td>\n",
              "      <td>0</td>\n",
              "    </tr>\n",
              "    <tr>\n",
              "      <th>3</th>\n",
              "      <td>1990-01-04</td>\n",
              "      <td>4</td>\n",
              "      <td>1542.0</td>\n",
              "      <td>1540</td>\n",
              "      <td>1710.0</td>\n",
              "      <td>1701</td>\n",
              "      <td>US</td>\n",
              "      <td>33</td>\n",
              "      <td>&lt;NA&gt;</td>\n",
              "      <td>88.0</td>\n",
              "      <td>...</td>\n",
              "      <td>NaN</td>\n",
              "      <td>9.0</td>\n",
              "      <td>2.0</td>\n",
              "      <td>EWR</td>\n",
              "      <td>PIT</td>\n",
              "      <td>319.0</td>\n",
              "      <td>NaN</td>\n",
              "      <td>NaN</td>\n",
              "      <td>False</td>\n",
              "      <td>0</td>\n",
              "    </tr>\n",
              "    <tr>\n",
              "      <th>4</th>\n",
              "      <td>1990-01-05</td>\n",
              "      <td>5</td>\n",
              "      <td>1549.0</td>\n",
              "      <td>1540</td>\n",
              "      <td>1706.0</td>\n",
              "      <td>1701</td>\n",
              "      <td>US</td>\n",
              "      <td>33</td>\n",
              "      <td>&lt;NA&gt;</td>\n",
              "      <td>77.0</td>\n",
              "      <td>...</td>\n",
              "      <td>NaN</td>\n",
              "      <td>5.0</td>\n",
              "      <td>9.0</td>\n",
              "      <td>EWR</td>\n",
              "      <td>PIT</td>\n",
              "      <td>319.0</td>\n",
              "      <td>NaN</td>\n",
              "      <td>NaN</td>\n",
              "      <td>False</td>\n",
              "      <td>0</td>\n",
              "    </tr>\n",
              "  </tbody>\n",
              "</table>\n",
              "<p>5 rows × 21 columns</p>\n",
              "</div>\n",
              "    <div class=\"colab-df-buttons\">\n",
              "\n",
              "  <div class=\"colab-df-container\">\n",
              "    <button class=\"colab-df-convert\" onclick=\"convertToInteractive('df-2babbfbb-b8d8-4726-b9ca-a246afba2a99')\"\n",
              "            title=\"Convert this dataframe to an interactive table.\"\n",
              "            style=\"display:none;\">\n",
              "\n",
              "  <svg xmlns=\"http://www.w3.org/2000/svg\" height=\"24px\" viewBox=\"0 -960 960 960\">\n",
              "    <path d=\"M120-120v-720h720v720H120Zm60-500h600v-160H180v160Zm220 220h160v-160H400v160Zm0 220h160v-160H400v160ZM180-400h160v-160H180v160Zm440 0h160v-160H620v160ZM180-180h160v-160H180v160Zm440 0h160v-160H620v160Z\"/>\n",
              "  </svg>\n",
              "    </button>\n",
              "\n",
              "  <style>\n",
              "    .colab-df-container {\n",
              "      display:flex;\n",
              "      gap: 12px;\n",
              "    }\n",
              "\n",
              "    .colab-df-convert {\n",
              "      background-color: #E8F0FE;\n",
              "      border: none;\n",
              "      border-radius: 50%;\n",
              "      cursor: pointer;\n",
              "      display: none;\n",
              "      fill: #1967D2;\n",
              "      height: 32px;\n",
              "      padding: 0 0 0 0;\n",
              "      width: 32px;\n",
              "    }\n",
              "\n",
              "    .colab-df-convert:hover {\n",
              "      background-color: #E2EBFA;\n",
              "      box-shadow: 0px 1px 2px rgba(60, 64, 67, 0.3), 0px 1px 3px 1px rgba(60, 64, 67, 0.15);\n",
              "      fill: #174EA6;\n",
              "    }\n",
              "\n",
              "    .colab-df-buttons div {\n",
              "      margin-bottom: 4px;\n",
              "    }\n",
              "\n",
              "    [theme=dark] .colab-df-convert {\n",
              "      background-color: #3B4455;\n",
              "      fill: #D2E3FC;\n",
              "    }\n",
              "\n",
              "    [theme=dark] .colab-df-convert:hover {\n",
              "      background-color: #434B5C;\n",
              "      box-shadow: 0px 1px 3px 1px rgba(0, 0, 0, 0.15);\n",
              "      filter: drop-shadow(0px 1px 2px rgba(0, 0, 0, 0.3));\n",
              "      fill: #FFFFFF;\n",
              "    }\n",
              "  </style>\n",
              "\n",
              "    <script>\n",
              "      const buttonEl =\n",
              "        document.querySelector('#df-2babbfbb-b8d8-4726-b9ca-a246afba2a99 button.colab-df-convert');\n",
              "      buttonEl.style.display =\n",
              "        google.colab.kernel.accessAllowed ? 'block' : 'none';\n",
              "\n",
              "      async function convertToInteractive(key) {\n",
              "        const element = document.querySelector('#df-2babbfbb-b8d8-4726-b9ca-a246afba2a99');\n",
              "        const dataTable =\n",
              "          await google.colab.kernel.invokeFunction('convertToInteractive',\n",
              "                                                    [key], {});\n",
              "        if (!dataTable) return;\n",
              "\n",
              "        const docLinkHtml = 'Like what you see? Visit the ' +\n",
              "          '<a target=\"_blank\" href=https://colab.research.google.com/notebooks/data_table.ipynb>data table notebook</a>'\n",
              "          + ' to learn more about interactive tables.';\n",
              "        element.innerHTML = '';\n",
              "        dataTable['output_type'] = 'display_data';\n",
              "        await google.colab.output.renderOutput(dataTable, element);\n",
              "        const docLink = document.createElement('div');\n",
              "        docLink.innerHTML = docLinkHtml;\n",
              "        element.appendChild(docLink);\n",
              "      }\n",
              "    </script>\n",
              "  </div>\n",
              "\n",
              "\n",
              "    <div id=\"df-f143d206-88fb-4cb5-a42c-e191ae62bbe9\">\n",
              "      <button class=\"colab-df-quickchart\" onclick=\"quickchart('df-f143d206-88fb-4cb5-a42c-e191ae62bbe9')\"\n",
              "                title=\"Suggest charts\"\n",
              "                style=\"display:none;\">\n",
              "\n",
              "<svg xmlns=\"http://www.w3.org/2000/svg\" height=\"24px\"viewBox=\"0 0 24 24\"\n",
              "     width=\"24px\">\n",
              "    <g>\n",
              "        <path d=\"M19 3H5c-1.1 0-2 .9-2 2v14c0 1.1.9 2 2 2h14c1.1 0 2-.9 2-2V5c0-1.1-.9-2-2-2zM9 17H7v-7h2v7zm4 0h-2V7h2v10zm4 0h-2v-4h2v4z\"/>\n",
              "    </g>\n",
              "</svg>\n",
              "      </button>\n",
              "\n",
              "<style>\n",
              "  .colab-df-quickchart {\n",
              "      --bg-color: #E8F0FE;\n",
              "      --fill-color: #1967D2;\n",
              "      --hover-bg-color: #E2EBFA;\n",
              "      --hover-fill-color: #174EA6;\n",
              "      --disabled-fill-color: #AAA;\n",
              "      --disabled-bg-color: #DDD;\n",
              "  }\n",
              "\n",
              "  [theme=dark] .colab-df-quickchart {\n",
              "      --bg-color: #3B4455;\n",
              "      --fill-color: #D2E3FC;\n",
              "      --hover-bg-color: #434B5C;\n",
              "      --hover-fill-color: #FFFFFF;\n",
              "      --disabled-bg-color: #3B4455;\n",
              "      --disabled-fill-color: #666;\n",
              "  }\n",
              "\n",
              "  .colab-df-quickchart {\n",
              "    background-color: var(--bg-color);\n",
              "    border: none;\n",
              "    border-radius: 50%;\n",
              "    cursor: pointer;\n",
              "    display: none;\n",
              "    fill: var(--fill-color);\n",
              "    height: 32px;\n",
              "    padding: 0;\n",
              "    width: 32px;\n",
              "  }\n",
              "\n",
              "  .colab-df-quickchart:hover {\n",
              "    background-color: var(--hover-bg-color);\n",
              "    box-shadow: 0 1px 2px rgba(60, 64, 67, 0.3), 0 1px 3px 1px rgba(60, 64, 67, 0.15);\n",
              "    fill: var(--button-hover-fill-color);\n",
              "  }\n",
              "\n",
              "  .colab-df-quickchart-complete:disabled,\n",
              "  .colab-df-quickchart-complete:disabled:hover {\n",
              "    background-color: var(--disabled-bg-color);\n",
              "    fill: var(--disabled-fill-color);\n",
              "    box-shadow: none;\n",
              "  }\n",
              "\n",
              "  .colab-df-spinner {\n",
              "    border: 2px solid var(--fill-color);\n",
              "    border-color: transparent;\n",
              "    border-bottom-color: var(--fill-color);\n",
              "    animation:\n",
              "      spin 1s steps(1) infinite;\n",
              "  }\n",
              "\n",
              "  @keyframes spin {\n",
              "    0% {\n",
              "      border-color: transparent;\n",
              "      border-bottom-color: var(--fill-color);\n",
              "      border-left-color: var(--fill-color);\n",
              "    }\n",
              "    20% {\n",
              "      border-color: transparent;\n",
              "      border-left-color: var(--fill-color);\n",
              "      border-top-color: var(--fill-color);\n",
              "    }\n",
              "    30% {\n",
              "      border-color: transparent;\n",
              "      border-left-color: var(--fill-color);\n",
              "      border-top-color: var(--fill-color);\n",
              "      border-right-color: var(--fill-color);\n",
              "    }\n",
              "    40% {\n",
              "      border-color: transparent;\n",
              "      border-right-color: var(--fill-color);\n",
              "      border-top-color: var(--fill-color);\n",
              "    }\n",
              "    60% {\n",
              "      border-color: transparent;\n",
              "      border-right-color: var(--fill-color);\n",
              "    }\n",
              "    80% {\n",
              "      border-color: transparent;\n",
              "      border-right-color: var(--fill-color);\n",
              "      border-bottom-color: var(--fill-color);\n",
              "    }\n",
              "    90% {\n",
              "      border-color: transparent;\n",
              "      border-bottom-color: var(--fill-color);\n",
              "    }\n",
              "  }\n",
              "</style>\n",
              "\n",
              "      <script>\n",
              "        async function quickchart(key) {\n",
              "          const quickchartButtonEl =\n",
              "            document.querySelector('#' + key + ' button');\n",
              "          quickchartButtonEl.disabled = true;  // To prevent multiple clicks.\n",
              "          quickchartButtonEl.classList.add('colab-df-spinner');\n",
              "          try {\n",
              "            const charts = await google.colab.kernel.invokeFunction(\n",
              "                'suggestCharts', [key], {});\n",
              "          } catch (error) {\n",
              "            console.error('Error during call to suggestCharts:', error);\n",
              "          }\n",
              "          quickchartButtonEl.classList.remove('colab-df-spinner');\n",
              "          quickchartButtonEl.classList.add('colab-df-quickchart-complete');\n",
              "        }\n",
              "        (() => {\n",
              "          let quickchartButtonEl =\n",
              "            document.querySelector('#df-f143d206-88fb-4cb5-a42c-e191ae62bbe9 button');\n",
              "          quickchartButtonEl.style.display =\n",
              "            google.colab.kernel.accessAllowed ? 'block' : 'none';\n",
              "        })();\n",
              "      </script>\n",
              "    </div>\n",
              "\n",
              "    </div>\n",
              "  </div>\n"
            ],
            "application/vnd.google.colaboratory.intrinsic+json": {
              "type": "dataframe"
            }
          },
          "metadata": {},
          "execution_count": 27
        }
      ],
      "source": [
        "# reading all the csv file using dask\n",
        "df_dd = dd.read_csv(nycflightsPath,\n",
        "                 parse_dates={'Date':[0,1,2]},\n",
        "                 dtype={'CRSElapsedTime': 'float64',\n",
        "                        'TailNum': 'object',\n",
        "                        'Cancelled': 'bool'})\n",
        "\n",
        "df_dd.head()"
      ]
    },
    {
      "cell_type": "markdown",
      "id": "weighted-panic",
      "metadata": {
        "id": "weighted-panic"
      },
      "source": [
        "Here, we can see that dask dataframe stores all the csv files simultaneously using *.csv (this code reads all the files inside nycflights dataset)"
      ]
    },
    {
      "cell_type": "markdown",
      "id": "fantastic-orientation",
      "metadata": {
        "id": "fantastic-orientation"
      },
      "source": [
        "Whereas, when we want to store the files using pandas, it leads to errors. This means pandas is not able to handle and store more than one file simultaneously. So, the following code cell will give an error.\n",
        "\n",
        "Here, in pandas, we need to store different csv files using separate commands."
      ]
    },
    {
      "cell_type": "code",
      "execution_count": 28,
      "id": "collectible-swing",
      "metadata": {
        "id": "collectible-swing",
        "outputId": "cfa87f74-7d89-4a69-a131-52b547576e8f",
        "colab": {
          "base_uri": "https://localhost:8080/"
        }
      },
      "outputs": [
        {
          "output_type": "stream",
          "name": "stdout",
          "text": [
            "Error Occured!\n"
          ]
        }
      ],
      "source": [
        "# this gives an error\n",
        "try:\n",
        "  # using pandas trying to read all csv files\n",
        "  df_pd = pd.read_csv(nycfllightsPath, parse_dates={'Date':[0,1,2]})\n",
        "except:\n",
        "  print(\"Error Occured!\")"
      ]
    },
    {
      "cell_type": "markdown",
      "id": "5msBx5FO680B",
      "metadata": {
        "id": "5msBx5FO680B"
      },
      "source": [
        "Using pandas we can read one single dataset at a time."
      ]
    },
    {
      "cell_type": "code",
      "execution_count": 29,
      "id": "Zd9OneVOb3z-",
      "metadata": {
        "id": "Zd9OneVOb3z-",
        "outputId": "e3334936-f451-466d-8b55-7a2aa5d56307",
        "colab": {
          "base_uri": "https://localhost:8080/"
        }
      },
      "outputs": [
        {
          "output_type": "stream",
          "name": "stdout",
          "text": [
            "Year,Month,DayofMonth,DayOfWeek,DepTime,CRSDepTime,ArrTime,CRSArrTime,UniqueCarrier,FlightNum,TailNum,ActualElapsedTime,CRSElapsedTime,AirTime,ArrDelay,DepDelay,Origin,Dest,Distance,TaxiIn,TaxiOut,Cancelled,Diverted\n",
            "1990,1,1,1,1621.0,1540,1747.0,1701,US,33,,86.0,81,,46.0,41.0,EWR,PIT,319.0,,,0,0\n",
            "1990,1,2,2,1547.0,1540,1700.0,1701,US,33,,73.0,81,,-1.0,7.0,EWR,PIT,319.0,,,0,0\n",
            "1990,1,3,3,1546.0,1540,1710.0,1701,US,33,,84.0,81,,9.0,6.0,EWR,PIT,319.0,,,0,0\n",
            "1990,1,4,4,1542.0,1540,1710.0,1701,US,33,,88.0,81,,9.0,2.0,EWR,PIT,319.0,,,0,0\n",
            "1990,1,5,5,1549.0,1540,1706.0,1701,US,33,,77.0,81,,5.0,9.0,EWR,PIT,319.0,,,0,0\n",
            "1990,1,6,6,1539.0,1540,1653.0,1701,US,33,,74.0,81,,-8.0,-1.0,EWR,PIT,319.0,,,0,0\n",
            "1990,1,7,7,1553.0,1540,1713.0,1701,US,33,,80.0,81,,12.0,13.0,EWR,PIT,319.0,,,0,0\n",
            "1990,1,8,1,1543.0,1540,1656.0,1701,US,33,,73.0,81,,-5.0,3.0,EWR,PIT,319.0,,,0,0\n",
            "1990,1,9,2,1540.0,1540,1704.0,1701,US,33,,84.0,81,,3.0,0.0,EWR,PIT,319.0,,,0,0\n"
          ]
        }
      ],
      "source": [
        "!head /content/nycflights/nycflights/1990.csv"
      ]
    },
    {
      "cell_type": "code",
      "execution_count": 30,
      "id": "social-harbor",
      "metadata": {
        "id": "social-harbor",
        "outputId": "5a4513c4-dab8-4a9d-a97b-b540c1859c6d",
        "colab": {
          "base_uri": "https://localhost:8080/"
        }
      },
      "outputs": [
        {
          "output_type": "stream",
          "name": "stderr",
          "text": [
            "<ipython-input-30-e4248f7bc4e7>:2: FutureWarning: Support for nested sequences for 'parse_dates' in pd.read_csv is deprecated. Combine the desired columns with pd.to_datetime after parsing instead.\n",
            "  nycf_1990 = pd.read_csv('/content/nycflights/nycflights/1990.csv', parse_dates={'Date':[0,1,2]})\n"
          ]
        }
      ],
      "source": [
        "# reading only single csv file\n",
        "nycf_1990 = pd.read_csv('/content/nycflights/nycflights/1990.csv', parse_dates={'Date':[0,1,2]})"
      ]
    },
    {
      "cell_type": "markdown",
      "id": "conventional-supplement",
      "metadata": {
        "id": "conventional-supplement"
      },
      "source": [
        "Dask dataframes object has no data, unlike the pandas data frame. Dask has just read the start of the first file and the column names and dtypes. That's why dask is considered to be lazy in operation.\n",
        "\n",
        "For seeing the data in the dask dataframe we need to execute .head() function."
      ]
    },
    {
      "cell_type": "code",
      "execution_count": 31,
      "id": "realistic-palestine",
      "metadata": {
        "id": "realistic-palestine",
        "outputId": "64dba5a2-2114-4be4-f50b-c56d778a0f3f",
        "colab": {
          "base_uri": "https://localhost:8080/",
          "height": 377
        }
      },
      "outputs": [
        {
          "output_type": "stream",
          "name": "stderr",
          "text": [
            "/usr/local/lib/python3.11/dist-packages/dask/dataframe/io/csv.py:77: FutureWarning: Support for nested sequences for 'parse_dates' in pd.read_csv is deprecated. Combine the desired columns with pd.to_datetime after parsing instead.\n",
            "  df = reader(bio, **kwargs)\n"
          ]
        },
        {
          "output_type": "execute_result",
          "data": {
            "text/plain": [
              "        Date  DayOfWeek  DepTime  CRSDepTime  ArrTime  CRSArrTime  \\\n",
              "0 1990-01-01          1   1621.0        1540   1747.0        1701   \n",
              "1 1990-01-02          2   1547.0        1540   1700.0        1701   \n",
              "2 1990-01-03          3   1546.0        1540   1710.0        1701   \n",
              "3 1990-01-04          4   1542.0        1540   1710.0        1701   \n",
              "4 1990-01-05          5   1549.0        1540   1706.0        1701   \n",
              "\n",
              "  UniqueCarrier  FlightNum TailNum  ActualElapsedTime  ...  AirTime  ArrDelay  \\\n",
              "0            US         33    <NA>               86.0  ...      NaN      46.0   \n",
              "1            US         33    <NA>               73.0  ...      NaN      -1.0   \n",
              "2            US         33    <NA>               84.0  ...      NaN       9.0   \n",
              "3            US         33    <NA>               88.0  ...      NaN       9.0   \n",
              "4            US         33    <NA>               77.0  ...      NaN       5.0   \n",
              "\n",
              "   DepDelay  Origin Dest Distance  TaxiIn  TaxiOut  Cancelled  Diverted  \n",
              "0      41.0     EWR  PIT    319.0     NaN      NaN      False         0  \n",
              "1       7.0     EWR  PIT    319.0     NaN      NaN      False         0  \n",
              "2       6.0     EWR  PIT    319.0     NaN      NaN      False         0  \n",
              "3       2.0     EWR  PIT    319.0     NaN      NaN      False         0  \n",
              "4       9.0     EWR  PIT    319.0     NaN      NaN      False         0  \n",
              "\n",
              "[5 rows x 21 columns]"
            ],
            "text/html": [
              "\n",
              "  <div id=\"df-9ecc82ec-cd18-41a9-80b4-5a6dcbbf7a3a\" class=\"colab-df-container\">\n",
              "    <div>\n",
              "<style scoped>\n",
              "    .dataframe tbody tr th:only-of-type {\n",
              "        vertical-align: middle;\n",
              "    }\n",
              "\n",
              "    .dataframe tbody tr th {\n",
              "        vertical-align: top;\n",
              "    }\n",
              "\n",
              "    .dataframe thead th {\n",
              "        text-align: right;\n",
              "    }\n",
              "</style>\n",
              "<table border=\"1\" class=\"dataframe\">\n",
              "  <thead>\n",
              "    <tr style=\"text-align: right;\">\n",
              "      <th></th>\n",
              "      <th>Date</th>\n",
              "      <th>DayOfWeek</th>\n",
              "      <th>DepTime</th>\n",
              "      <th>CRSDepTime</th>\n",
              "      <th>ArrTime</th>\n",
              "      <th>CRSArrTime</th>\n",
              "      <th>UniqueCarrier</th>\n",
              "      <th>FlightNum</th>\n",
              "      <th>TailNum</th>\n",
              "      <th>ActualElapsedTime</th>\n",
              "      <th>...</th>\n",
              "      <th>AirTime</th>\n",
              "      <th>ArrDelay</th>\n",
              "      <th>DepDelay</th>\n",
              "      <th>Origin</th>\n",
              "      <th>Dest</th>\n",
              "      <th>Distance</th>\n",
              "      <th>TaxiIn</th>\n",
              "      <th>TaxiOut</th>\n",
              "      <th>Cancelled</th>\n",
              "      <th>Diverted</th>\n",
              "    </tr>\n",
              "  </thead>\n",
              "  <tbody>\n",
              "    <tr>\n",
              "      <th>0</th>\n",
              "      <td>1990-01-01</td>\n",
              "      <td>1</td>\n",
              "      <td>1621.0</td>\n",
              "      <td>1540</td>\n",
              "      <td>1747.0</td>\n",
              "      <td>1701</td>\n",
              "      <td>US</td>\n",
              "      <td>33</td>\n",
              "      <td>&lt;NA&gt;</td>\n",
              "      <td>86.0</td>\n",
              "      <td>...</td>\n",
              "      <td>NaN</td>\n",
              "      <td>46.0</td>\n",
              "      <td>41.0</td>\n",
              "      <td>EWR</td>\n",
              "      <td>PIT</td>\n",
              "      <td>319.0</td>\n",
              "      <td>NaN</td>\n",
              "      <td>NaN</td>\n",
              "      <td>False</td>\n",
              "      <td>0</td>\n",
              "    </tr>\n",
              "    <tr>\n",
              "      <th>1</th>\n",
              "      <td>1990-01-02</td>\n",
              "      <td>2</td>\n",
              "      <td>1547.0</td>\n",
              "      <td>1540</td>\n",
              "      <td>1700.0</td>\n",
              "      <td>1701</td>\n",
              "      <td>US</td>\n",
              "      <td>33</td>\n",
              "      <td>&lt;NA&gt;</td>\n",
              "      <td>73.0</td>\n",
              "      <td>...</td>\n",
              "      <td>NaN</td>\n",
              "      <td>-1.0</td>\n",
              "      <td>7.0</td>\n",
              "      <td>EWR</td>\n",
              "      <td>PIT</td>\n",
              "      <td>319.0</td>\n",
              "      <td>NaN</td>\n",
              "      <td>NaN</td>\n",
              "      <td>False</td>\n",
              "      <td>0</td>\n",
              "    </tr>\n",
              "    <tr>\n",
              "      <th>2</th>\n",
              "      <td>1990-01-03</td>\n",
              "      <td>3</td>\n",
              "      <td>1546.0</td>\n",
              "      <td>1540</td>\n",
              "      <td>1710.0</td>\n",
              "      <td>1701</td>\n",
              "      <td>US</td>\n",
              "      <td>33</td>\n",
              "      <td>&lt;NA&gt;</td>\n",
              "      <td>84.0</td>\n",
              "      <td>...</td>\n",
              "      <td>NaN</td>\n",
              "      <td>9.0</td>\n",
              "      <td>6.0</td>\n",
              "      <td>EWR</td>\n",
              "      <td>PIT</td>\n",
              "      <td>319.0</td>\n",
              "      <td>NaN</td>\n",
              "      <td>NaN</td>\n",
              "      <td>False</td>\n",
              "      <td>0</td>\n",
              "    </tr>\n",
              "    <tr>\n",
              "      <th>3</th>\n",
              "      <td>1990-01-04</td>\n",
              "      <td>4</td>\n",
              "      <td>1542.0</td>\n",
              "      <td>1540</td>\n",
              "      <td>1710.0</td>\n",
              "      <td>1701</td>\n",
              "      <td>US</td>\n",
              "      <td>33</td>\n",
              "      <td>&lt;NA&gt;</td>\n",
              "      <td>88.0</td>\n",
              "      <td>...</td>\n",
              "      <td>NaN</td>\n",
              "      <td>9.0</td>\n",
              "      <td>2.0</td>\n",
              "      <td>EWR</td>\n",
              "      <td>PIT</td>\n",
              "      <td>319.0</td>\n",
              "      <td>NaN</td>\n",
              "      <td>NaN</td>\n",
              "      <td>False</td>\n",
              "      <td>0</td>\n",
              "    </tr>\n",
              "    <tr>\n",
              "      <th>4</th>\n",
              "      <td>1990-01-05</td>\n",
              "      <td>5</td>\n",
              "      <td>1549.0</td>\n",
              "      <td>1540</td>\n",
              "      <td>1706.0</td>\n",
              "      <td>1701</td>\n",
              "      <td>US</td>\n",
              "      <td>33</td>\n",
              "      <td>&lt;NA&gt;</td>\n",
              "      <td>77.0</td>\n",
              "      <td>...</td>\n",
              "      <td>NaN</td>\n",
              "      <td>5.0</td>\n",
              "      <td>9.0</td>\n",
              "      <td>EWR</td>\n",
              "      <td>PIT</td>\n",
              "      <td>319.0</td>\n",
              "      <td>NaN</td>\n",
              "      <td>NaN</td>\n",
              "      <td>False</td>\n",
              "      <td>0</td>\n",
              "    </tr>\n",
              "  </tbody>\n",
              "</table>\n",
              "<p>5 rows × 21 columns</p>\n",
              "</div>\n",
              "    <div class=\"colab-df-buttons\">\n",
              "\n",
              "  <div class=\"colab-df-container\">\n",
              "    <button class=\"colab-df-convert\" onclick=\"convertToInteractive('df-9ecc82ec-cd18-41a9-80b4-5a6dcbbf7a3a')\"\n",
              "            title=\"Convert this dataframe to an interactive table.\"\n",
              "            style=\"display:none;\">\n",
              "\n",
              "  <svg xmlns=\"http://www.w3.org/2000/svg\" height=\"24px\" viewBox=\"0 -960 960 960\">\n",
              "    <path d=\"M120-120v-720h720v720H120Zm60-500h600v-160H180v160Zm220 220h160v-160H400v160Zm0 220h160v-160H400v160ZM180-400h160v-160H180v160Zm440 0h160v-160H620v160ZM180-180h160v-160H180v160Zm440 0h160v-160H620v160Z\"/>\n",
              "  </svg>\n",
              "    </button>\n",
              "\n",
              "  <style>\n",
              "    .colab-df-container {\n",
              "      display:flex;\n",
              "      gap: 12px;\n",
              "    }\n",
              "\n",
              "    .colab-df-convert {\n",
              "      background-color: #E8F0FE;\n",
              "      border: none;\n",
              "      border-radius: 50%;\n",
              "      cursor: pointer;\n",
              "      display: none;\n",
              "      fill: #1967D2;\n",
              "      height: 32px;\n",
              "      padding: 0 0 0 0;\n",
              "      width: 32px;\n",
              "    }\n",
              "\n",
              "    .colab-df-convert:hover {\n",
              "      background-color: #E2EBFA;\n",
              "      box-shadow: 0px 1px 2px rgba(60, 64, 67, 0.3), 0px 1px 3px 1px rgba(60, 64, 67, 0.15);\n",
              "      fill: #174EA6;\n",
              "    }\n",
              "\n",
              "    .colab-df-buttons div {\n",
              "      margin-bottom: 4px;\n",
              "    }\n",
              "\n",
              "    [theme=dark] .colab-df-convert {\n",
              "      background-color: #3B4455;\n",
              "      fill: #D2E3FC;\n",
              "    }\n",
              "\n",
              "    [theme=dark] .colab-df-convert:hover {\n",
              "      background-color: #434B5C;\n",
              "      box-shadow: 0px 1px 3px 1px rgba(0, 0, 0, 0.15);\n",
              "      filter: drop-shadow(0px 1px 2px rgba(0, 0, 0, 0.3));\n",
              "      fill: #FFFFFF;\n",
              "    }\n",
              "  </style>\n",
              "\n",
              "    <script>\n",
              "      const buttonEl =\n",
              "        document.querySelector('#df-9ecc82ec-cd18-41a9-80b4-5a6dcbbf7a3a button.colab-df-convert');\n",
              "      buttonEl.style.display =\n",
              "        google.colab.kernel.accessAllowed ? 'block' : 'none';\n",
              "\n",
              "      async function convertToInteractive(key) {\n",
              "        const element = document.querySelector('#df-9ecc82ec-cd18-41a9-80b4-5a6dcbbf7a3a');\n",
              "        const dataTable =\n",
              "          await google.colab.kernel.invokeFunction('convertToInteractive',\n",
              "                                                    [key], {});\n",
              "        if (!dataTable) return;\n",
              "\n",
              "        const docLinkHtml = 'Like what you see? Visit the ' +\n",
              "          '<a target=\"_blank\" href=https://colab.research.google.com/notebooks/data_table.ipynb>data table notebook</a>'\n",
              "          + ' to learn more about interactive tables.';\n",
              "        element.innerHTML = '';\n",
              "        dataTable['output_type'] = 'display_data';\n",
              "        await google.colab.output.renderOutput(dataTable, element);\n",
              "        const docLink = document.createElement('div');\n",
              "        docLink.innerHTML = docLinkHtml;\n",
              "        element.appendChild(docLink);\n",
              "      }\n",
              "    </script>\n",
              "  </div>\n",
              "\n",
              "\n",
              "    <div id=\"df-0ee217d9-57be-4b70-b562-9c96a507f6d7\">\n",
              "      <button class=\"colab-df-quickchart\" onclick=\"quickchart('df-0ee217d9-57be-4b70-b562-9c96a507f6d7')\"\n",
              "                title=\"Suggest charts\"\n",
              "                style=\"display:none;\">\n",
              "\n",
              "<svg xmlns=\"http://www.w3.org/2000/svg\" height=\"24px\"viewBox=\"0 0 24 24\"\n",
              "     width=\"24px\">\n",
              "    <g>\n",
              "        <path d=\"M19 3H5c-1.1 0-2 .9-2 2v14c0 1.1.9 2 2 2h14c1.1 0 2-.9 2-2V5c0-1.1-.9-2-2-2zM9 17H7v-7h2v7zm4 0h-2V7h2v10zm4 0h-2v-4h2v4z\"/>\n",
              "    </g>\n",
              "</svg>\n",
              "      </button>\n",
              "\n",
              "<style>\n",
              "  .colab-df-quickchart {\n",
              "      --bg-color: #E8F0FE;\n",
              "      --fill-color: #1967D2;\n",
              "      --hover-bg-color: #E2EBFA;\n",
              "      --hover-fill-color: #174EA6;\n",
              "      --disabled-fill-color: #AAA;\n",
              "      --disabled-bg-color: #DDD;\n",
              "  }\n",
              "\n",
              "  [theme=dark] .colab-df-quickchart {\n",
              "      --bg-color: #3B4455;\n",
              "      --fill-color: #D2E3FC;\n",
              "      --hover-bg-color: #434B5C;\n",
              "      --hover-fill-color: #FFFFFF;\n",
              "      --disabled-bg-color: #3B4455;\n",
              "      --disabled-fill-color: #666;\n",
              "  }\n",
              "\n",
              "  .colab-df-quickchart {\n",
              "    background-color: var(--bg-color);\n",
              "    border: none;\n",
              "    border-radius: 50%;\n",
              "    cursor: pointer;\n",
              "    display: none;\n",
              "    fill: var(--fill-color);\n",
              "    height: 32px;\n",
              "    padding: 0;\n",
              "    width: 32px;\n",
              "  }\n",
              "\n",
              "  .colab-df-quickchart:hover {\n",
              "    background-color: var(--hover-bg-color);\n",
              "    box-shadow: 0 1px 2px rgba(60, 64, 67, 0.3), 0 1px 3px 1px rgba(60, 64, 67, 0.15);\n",
              "    fill: var(--button-hover-fill-color);\n",
              "  }\n",
              "\n",
              "  .colab-df-quickchart-complete:disabled,\n",
              "  .colab-df-quickchart-complete:disabled:hover {\n",
              "    background-color: var(--disabled-bg-color);\n",
              "    fill: var(--disabled-fill-color);\n",
              "    box-shadow: none;\n",
              "  }\n",
              "\n",
              "  .colab-df-spinner {\n",
              "    border: 2px solid var(--fill-color);\n",
              "    border-color: transparent;\n",
              "    border-bottom-color: var(--fill-color);\n",
              "    animation:\n",
              "      spin 1s steps(1) infinite;\n",
              "  }\n",
              "\n",
              "  @keyframes spin {\n",
              "    0% {\n",
              "      border-color: transparent;\n",
              "      border-bottom-color: var(--fill-color);\n",
              "      border-left-color: var(--fill-color);\n",
              "    }\n",
              "    20% {\n",
              "      border-color: transparent;\n",
              "      border-left-color: var(--fill-color);\n",
              "      border-top-color: var(--fill-color);\n",
              "    }\n",
              "    30% {\n",
              "      border-color: transparent;\n",
              "      border-left-color: var(--fill-color);\n",
              "      border-top-color: var(--fill-color);\n",
              "      border-right-color: var(--fill-color);\n",
              "    }\n",
              "    40% {\n",
              "      border-color: transparent;\n",
              "      border-right-color: var(--fill-color);\n",
              "      border-top-color: var(--fill-color);\n",
              "    }\n",
              "    60% {\n",
              "      border-color: transparent;\n",
              "      border-right-color: var(--fill-color);\n",
              "    }\n",
              "    80% {\n",
              "      border-color: transparent;\n",
              "      border-right-color: var(--fill-color);\n",
              "      border-bottom-color: var(--fill-color);\n",
              "    }\n",
              "    90% {\n",
              "      border-color: transparent;\n",
              "      border-bottom-color: var(--fill-color);\n",
              "    }\n",
              "  }\n",
              "</style>\n",
              "\n",
              "      <script>\n",
              "        async function quickchart(key) {\n",
              "          const quickchartButtonEl =\n",
              "            document.querySelector('#' + key + ' button');\n",
              "          quickchartButtonEl.disabled = true;  // To prevent multiple clicks.\n",
              "          quickchartButtonEl.classList.add('colab-df-spinner');\n",
              "          try {\n",
              "            const charts = await google.colab.kernel.invokeFunction(\n",
              "                'suggestCharts', [key], {});\n",
              "          } catch (error) {\n",
              "            console.error('Error during call to suggestCharts:', error);\n",
              "          }\n",
              "          quickchartButtonEl.classList.remove('colab-df-spinner');\n",
              "          quickchartButtonEl.classList.add('colab-df-quickchart-complete');\n",
              "        }\n",
              "        (() => {\n",
              "          let quickchartButtonEl =\n",
              "            document.querySelector('#df-0ee217d9-57be-4b70-b562-9c96a507f6d7 button');\n",
              "          quickchartButtonEl.style.display =\n",
              "            google.colab.kernel.accessAllowed ? 'block' : 'none';\n",
              "        })();\n",
              "      </script>\n",
              "    </div>\n",
              "\n",
              "    </div>\n",
              "  </div>\n"
            ],
            "application/vnd.google.colaboratory.intrinsic+json": {
              "type": "dataframe"
            }
          },
          "metadata": {},
          "execution_count": 31
        }
      ],
      "source": [
        "# first five rows of the dataset\n",
        "df_dd.head()"
      ]
    },
    {
      "cell_type": "code",
      "execution_count": 32,
      "id": "658CIRFxcLUc",
      "metadata": {
        "id": "658CIRFxcLUc",
        "outputId": "d9f28b0c-c521-43ce-88f3-6eed8af242bb",
        "colab": {
          "base_uri": "https://localhost:8080/"
        }
      },
      "outputs": [
        {
          "output_type": "stream",
          "name": "stderr",
          "text": [
            "/usr/local/lib/python3.11/dist-packages/dask/dataframe/io/csv.py:77: FutureWarning: Support for nested sequences for 'parse_dates' in pd.read_csv is deprecated. Combine the desired columns with pd.to_datetime after parsing instead.\n",
            "  df = reader(bio, **kwargs)\n",
            "/usr/local/lib/python3.11/dist-packages/dask/dataframe/io/csv.py:77: FutureWarning: Support for nested sequences for 'parse_dates' in pd.read_csv is deprecated. Combine the desired columns with pd.to_datetime after parsing instead.\n",
            "  df = reader(bio, **kwargs)\n",
            "/usr/local/lib/python3.11/dist-packages/dask/dataframe/io/csv.py:77: FutureWarning: Support for nested sequences for 'parse_dates' in pd.read_csv is deprecated. Combine the desired columns with pd.to_datetime after parsing instead.\n",
            "  df = reader(bio, **kwargs)\n",
            "/usr/local/lib/python3.11/dist-packages/dask/dataframe/io/csv.py:77: FutureWarning: Support for nested sequences for 'parse_dates' in pd.read_csv is deprecated. Combine the desired columns with pd.to_datetime after parsing instead.\n",
            "  df = reader(bio, **kwargs)\n",
            "/usr/local/lib/python3.11/dist-packages/dask/dataframe/io/csv.py:77: FutureWarning: Support for nested sequences for 'parse_dates' in pd.read_csv is deprecated. Combine the desired columns with pd.to_datetime after parsing instead.\n",
            "  df = reader(bio, **kwargs)\n",
            "/usr/local/lib/python3.11/dist-packages/dask/dataframe/io/csv.py:77: FutureWarning: Support for nested sequences for 'parse_dates' in pd.read_csv is deprecated. Combine the desired columns with pd.to_datetime after parsing instead.\n",
            "  df = reader(bio, **kwargs)\n",
            "/usr/local/lib/python3.11/dist-packages/dask/dataframe/io/csv.py:77: FutureWarning: Support for nested sequences for 'parse_dates' in pd.read_csv is deprecated. Combine the desired columns with pd.to_datetime after parsing instead.\n",
            "  df = reader(bio, **kwargs)\n",
            "/usr/local/lib/python3.11/dist-packages/dask/dataframe/io/csv.py:77: FutureWarning: Support for nested sequences for 'parse_dates' in pd.read_csv is deprecated. Combine the desired columns with pd.to_datetime after parsing instead.\n",
            "  df = reader(bio, **kwargs)\n",
            "/usr/local/lib/python3.11/dist-packages/dask/dataframe/io/csv.py:77: FutureWarning: Support for nested sequences for 'parse_dates' in pd.read_csv is deprecated. Combine the desired columns with pd.to_datetime after parsing instead.\n",
            "  df = reader(bio, **kwargs)\n",
            "/usr/local/lib/python3.11/dist-packages/dask/dataframe/io/csv.py:77: FutureWarning: Support for nested sequences for 'parse_dates' in pd.read_csv is deprecated. Combine the desired columns with pd.to_datetime after parsing instead.\n",
            "  df = reader(bio, **kwargs)\n"
          ]
        },
        {
          "output_type": "execute_result",
          "data": {
            "text/plain": [
              "(2611892, 21)"
            ]
          },
          "metadata": {},
          "execution_count": 32
        }
      ],
      "source": [
        "df_dd.compute().shape"
      ]
    },
    {
      "cell_type": "markdown",
      "id": "parental-framework",
      "metadata": {
        "id": "parental-framework"
      },
      "source": [
        "#### Computations With Dask Dataframes\n",
        "\n",
        "We want to compute the maximum value of *DepDelay* (the delays occurring in the departure of flights). Now if we are working with simple pandas on this dataset than we need to compute the max. value in each individual data file and concatenate these 10 values together which gives us the required max. value of the whole dataset and this may be put as out of memory.\n",
        "\n",
        "But in dask dataframe we can handle partition more efficiently.\n",
        "\n",
        "dask.dataframe lets us write pandas-like code, that operates on larger than memory datasets.\n"
      ]
    },
    {
      "cell_type": "code",
      "execution_count": 33,
      "id": "ZnDferu9nMJE",
      "metadata": {
        "id": "ZnDferu9nMJE",
        "outputId": "db0e23ef-051c-482a-929b-739e9c0a41db",
        "colab": {
          "base_uri": "https://localhost:8080/"
        }
      },
      "outputs": [
        {
          "output_type": "stream",
          "name": "stdout",
          "text": [
            "     Year  Month  DayofMonth  DayOfWeek  DepTime  CRSDepTime  ArrTime  \\\n",
            "0  1990.0    1.0         1.0        1.0   1621.0      1540.0   1747.0   \n",
            "1  1990.0    1.0         2.0        2.0   1547.0      1540.0   1700.0   \n",
            "2  1990.0    1.0         3.0        3.0   1546.0      1540.0   1710.0   \n",
            "3  1990.0    1.0         4.0        4.0   1542.0      1540.0   1710.0   \n",
            "4  1990.0    1.0         5.0        5.0   1549.0      1540.0   1706.0   \n",
            "\n",
            "   CRSArrTime UniqueCarrier  FlightNum  ...  AirTime  ArrDelay  DepDelay  \\\n",
            "0      1701.0            US       33.0  ...      NaN      46.0      41.0   \n",
            "1      1701.0            US       33.0  ...      NaN      -1.0       7.0   \n",
            "2      1701.0            US       33.0  ...      NaN       9.0       6.0   \n",
            "3      1701.0            US       33.0  ...      NaN       9.0       2.0   \n",
            "4      1701.0            US       33.0  ...      NaN       5.0       9.0   \n",
            "\n",
            "   Origin  Dest  Distance TaxiIn TaxiOut  Cancelled  Diverted  \n",
            "0     EWR   PIT     319.0    NaN     NaN        0.0       0.0  \n",
            "1     EWR   PIT     319.0    NaN     NaN        0.0       0.0  \n",
            "2     EWR   PIT     319.0    NaN     NaN        0.0       0.0  \n",
            "3     EWR   PIT     319.0    NaN     NaN        0.0       0.0  \n",
            "4     EWR   PIT     319.0    NaN     NaN        0.0       0.0  \n",
            "\n",
            "[5 rows x 23 columns]\n"
          ]
        }
      ],
      "source": [
        "# Read the CSV file using Dask, assuming missing data and avoiding blocksize to handle large datasets\n",
        "df_dd = dd.read_csv('/content/nycflights/nycflights/1990.csv', assume_missing=True, blocksize=None)\n",
        "\n",
        "# Inspect the data to verify it is loaded correctly\n",
        "print(df_dd.head())"
      ]
    },
    {
      "cell_type": "code",
      "execution_count": 34,
      "id": "VpJvlhAsnqoj",
      "metadata": {
        "id": "VpJvlhAsnqoj",
        "outputId": "08a669cf-ef63-43d1-da9f-1c6620ceecdf",
        "colab": {
          "base_uri": "https://localhost:8080/"
        }
      },
      "outputs": [
        {
          "output_type": "stream",
          "name": "stdout",
          "text": [
            "CPU times: user 363 ms, sys: 75 ms, total: 438 ms\n",
            "Wall time: 436 ms\n",
            "Maximum Departure Delay: 990.0\n"
          ]
        }
      ],
      "source": [
        "# Compute the maximum departure delay\n",
        "%time max_dep_delay = df_dd['DepDelay'].max().compute() # compute() is used in order to get the required value\n",
        "print(f\"Maximum Departure Delay: {max_dep_delay}\")"
      ]
    },
    {
      "cell_type": "markdown",
      "id": "smoking-little",
      "metadata": {
        "id": "smoking-little"
      },
      "source": [
        "Above code has gone through approximately 2 million entries.\n",
        "As with Delayed objects, we can go through the underlying graphs using `visualize()` method."
      ]
    },
    {
      "cell_type": "code",
      "execution_count": 35,
      "id": "equipped-concord",
      "metadata": {
        "id": "equipped-concord",
        "outputId": "48d7e94a-c8e2-452c-eb6c-56bd05988b95",
        "colab": {
          "base_uri": "https://localhost:8080/",
          "height": 69
        }
      },
      "outputs": [
        {
          "output_type": "execute_result",
          "data": {
            "image/svg+xml": "<?xml version=\"1.0\" encoding=\"UTF-8\" standalone=\"no\"?>\n<!DOCTYPE svg PUBLIC \"-//W3C//DTD SVG 1.1//EN\"\n \"http://www.w3.org/Graphics/SVG/1.1/DTD/svg11.dtd\">\n<!-- Generated by graphviz version 2.43.0 (0)\n -->\n<!-- Title: %3 Pages: 1 -->\n<svg width=\"1080pt\" height=\"36pt\"\n viewBox=\"0.00 0.00 1080.00 35.95\" xmlns=\"http://www.w3.org/2000/svg\" xmlns:xlink=\"http://www.w3.org/1999/xlink\">\n<g id=\"graph0\" class=\"graph\" transform=\"scale(0.82 0.82) rotate(0) translate(4 40)\">\n<title>%3</title>\n<polygon fill=\"white\" stroke=\"transparent\" points=\"-4,4 -4,-40 1318,-40 1318,4 -4,4\"/>\n<!-- 8832335050237126219 -->\n<g id=\"node1\" class=\"node\">\n<title>8832335050237126219</title>\n<polygon fill=\"none\" stroke=\"black\" points=\"1314,-36 1157,-36 1157,0 1314,0 1314,-36\"/>\n<text text-anchor=\"middle\" x=\"1235.5\" y=\"-13\" font-family=\"Helvetica,sans-Serif\" font-size=\"20.00\">Max(Projection)</text>\n</g>\n<!-- &#45;3216211736396097787 -->\n<g id=\"node2\" class=\"node\">\n<title>&#45;3216211736396097787</title>\n<polygon fill=\"none\" stroke=\"black\" points=\"1121,-36 697,-36 697,0 1121,0 1121,-36\"/>\n<text text-anchor=\"middle\" x=\"909\" y=\"-13\" font-family=\"Helvetica,sans-Serif\" font-size=\"20.00\">Projection(ArrowStringConversion, DepDelay)</text>\n</g>\n<!-- &#45;3216211736396097787&#45;&gt;8832335050237126219 -->\n<g id=\"edge1\" class=\"edge\">\n<title>&#45;3216211736396097787&#45;&gt;8832335050237126219</title>\n<path fill=\"none\" stroke=\"black\" d=\"M1121.01,-18C1129.77,-18 1138.33,-18 1146.56,-18\"/>\n<polygon fill=\"black\" stroke=\"black\" points=\"1146.81,-21.5 1156.81,-18 1146.81,-14.5 1146.81,-21.5\"/>\n</g>\n<!-- 2811035093832255761 -->\n<g id=\"node3\" class=\"node\">\n<title>2811035093832255761</title>\n<polygon fill=\"none\" stroke=\"black\" points=\"661,-36 239,-36 239,0 661,0 661,-36\"/>\n<text text-anchor=\"middle\" x=\"450\" y=\"-13\" font-family=\"Helvetica,sans-Serif\" font-size=\"20.00\">ArrowStringConversion(FromMapProjectable)</text>\n</g>\n<!-- 2811035093832255761&#45;&gt;&#45;3216211736396097787 -->\n<g id=\"edge2\" class=\"edge\">\n<title>2811035093832255761&#45;&gt;&#45;3216211736396097787</title>\n<path fill=\"none\" stroke=\"black\" d=\"M661.11,-18C669.62,-18 678.16,-18 686.69,-18\"/>\n<polygon fill=\"black\" stroke=\"black\" points=\"686.7,-21.5 696.7,-18 686.7,-14.5 686.7,-21.5\"/>\n</g>\n<!-- 894009559381214293 -->\n<g id=\"node4\" class=\"node\">\n<title>894009559381214293</title>\n<polygon fill=\"none\" stroke=\"black\" points=\"203,-36 0,-36 0,0 203,0 203,-36\"/>\n<text text-anchor=\"middle\" x=\"101.5\" y=\"-13\" font-family=\"Helvetica,sans-Serif\" font-size=\"20.00\">FromMapProjectable</text>\n</g>\n<!-- 894009559381214293&#45;&gt;2811035093832255761 -->\n<g id=\"edge3\" class=\"edge\">\n<title>894009559381214293&#45;&gt;2811035093832255761</title>\n<path fill=\"none\" stroke=\"black\" d=\"M203.19,-18C211.45,-18 219.97,-18 228.67,-18\"/>\n<polygon fill=\"black\" stroke=\"black\" points=\"228.95,-21.5 238.95,-18 228.95,-14.5 228.95,-21.5\"/>\n</g>\n</g>\n</svg>\n",
            "text/plain": [
              "<graphviz.graphs.Digraph at 0x78163a09ed50>"
            ]
          },
          "metadata": {},
          "execution_count": 35
        }
      ],
      "source": [
        "# visualize the above code using structure diagram\n",
        "df_dd.DepDelay.max().visualize(rankdir='LR', size='15,15!')"
      ]
    },
    {
      "cell_type": "markdown",
      "id": "dried-catalog",
      "metadata": {
        "id": "dried-catalog"
      },
      "source": [
        "### Dask Bag"
      ]
    },
    {
      "cell_type": "markdown",
      "id": "described-coupon",
      "metadata": {
        "id": "described-coupon"
      },
      "source": [
        "Dask Bag implements operations like map, filter, fold, and groupby on collections of generic Python objects. It does this in parallel with a small memory footprint using Python iterators. It is similar to a parallel version of PyToolz or a Pythonic version of the PySpark RDD.\n",
        "\n",
        "Dask bags coordinate many Python lists or Iterators, each of which forms a partition of a larger collection."
      ]
    },
    {
      "cell_type": "markdown",
      "id": "infrared-accreditation",
      "metadata": {
        "id": "infrared-accreditation"
      },
      "source": [
        "Execution on bags provide two benefits:\n",
        "\n",
        "1. Parallel: data is split up, allowing multiple cores or machines to execute in parallel\n",
        "2. Iterating: data processes lazily, allowing smooth execution of larger-than-memory data, even on a single machine within a single partition\n",
        "\n",
        "Bag is the mathematical name for an unordered collection allowing repeats. It uses Parallel lists for semi-structured data.\n",
        "\n",
        "DataFrames are limited to only two dimensions (rows and columns), but Arrays can have many more, whereas Bag is helpful dealing with JSON blobs or text data (unstructured data).\n",
        "\n",
        "To study dask bags, refer the link [here](https://docs.dask.org/en/latest/bag.html)."
      ]
    },
    {
      "cell_type": "code",
      "execution_count": 36,
      "id": "uXV24wC5Y2bi",
      "metadata": {
        "id": "uXV24wC5Y2bi",
        "outputId": "1cc9f30d-c41e-438f-b605-0a7844bc6fce",
        "colab": {
          "base_uri": "https://localhost:8080/"
        }
      },
      "outputs": [
        {
          "output_type": "execute_result",
          "data": {
            "text/plain": [
              "dask.bag<from_sequence, npartitions=1000>"
            ]
          },
          "metadata": {},
          "execution_count": 36
        }
      ],
      "source": [
        "# creating a bag\n",
        "bag1 = db.from_sequence(range(1000000), partition_size=1000, npartitions=1000)\n",
        "bag1"
      ]
    },
    {
      "cell_type": "code",
      "execution_count": 37,
      "id": "JRdL0r2qY--y",
      "metadata": {
        "id": "JRdL0r2qY--y",
        "outputId": "35cddd84-9ac4-4044-b857-a312520aeaec",
        "colab": {
          "base_uri": "https://localhost:8080/"
        }
      },
      "outputs": [
        {
          "output_type": "execute_result",
          "data": {
            "text/plain": [
              "10000"
            ]
          },
          "metadata": {},
          "execution_count": 37
        }
      ],
      "source": [
        "final_bag1 = bag1.filter(lambda x: x%100 == 0)\n",
        "\n",
        "len(final_bag1.compute())"
      ]
    },
    {
      "cell_type": "markdown",
      "id": "X4STVdbkabK4",
      "metadata": {
        "id": "X4STVdbkabK4"
      },
      "source": [
        "Advantage of using bags with the help of `groupby`\n",
        "\n",
        "we are looping through a list of values (tuple). We want to take a sum of the second value in tuples where the first value is the same. We have both normal python and dask.bag API version."
      ]
    },
    {
      "cell_type": "code",
      "execution_count": 38,
      "id": "fQpzElEsaZkf",
      "metadata": {
        "id": "fQpzElEsaZkf",
        "outputId": "866ad705-fd12-4fed-eac5-9d3797d4080f",
        "colab": {
          "base_uri": "https://localhost:8080/"
        }
      },
      "outputs": [
        {
          "output_type": "execute_result",
          "data": {
            "text/plain": [
              "[('a', 300), ('b', 200), ('c', 300), ('d', 400), ('e', 800)]"
            ]
          },
          "metadata": {},
          "execution_count": 38
        }
      ],
      "source": [
        "# Using python\n",
        "x = [(\"a\",100), (\"b\",200), (\"c\",300), (\"d\",400), (\"e\",500), (\"a\",200), (\"e\",300)]\n",
        "\n",
        "# Empty dictionary\n",
        "result = {}\n",
        "\n",
        "# Iterate the list for each item as tuple\n",
        "for key, val in x:\n",
        "    # sum-up the value if key already exist\n",
        "    if key in result:\n",
        "        result[key] += val\n",
        "    # create a key-value pair\n",
        "    else:\n",
        "        result[key] = val\n",
        "\n",
        "list(result.items())"
      ]
    },
    {
      "cell_type": "markdown",
      "id": "zEF_UzBAbQ-K",
      "metadata": {
        "id": "zEF_UzBAbQ-K"
      },
      "source": [
        "Now let's do the same with bags in a simple way using `groupby`."
      ]
    },
    {
      "cell_type": "code",
      "execution_count": 39,
      "id": "Vdh-gNEsa2O6",
      "metadata": {
        "id": "Vdh-gNEsa2O6",
        "outputId": "b984d7a7-70fe-4989-ccf1-6e366b9b50b1",
        "colab": {
          "base_uri": "https://localhost:8080/"
        }
      },
      "outputs": [
        {
          "output_type": "execute_result",
          "data": {
            "text/plain": [
              "[('e', 800), ('a', 300), ('b', 200), ('d', 400), ('c', 300)]"
            ]
          },
          "metadata": {},
          "execution_count": 39
        }
      ],
      "source": [
        "# using bags API\n",
        "bag1 = db.from_sequence([(\"a\",100), (\"b\",200), (\"c\",300), (\"d\",400), (\"e\",500), (\"a\",200), (\"e\",300)])\n",
        "\n",
        "# using groupby\n",
        "bag1.groupby(lambda x: x[0]).map(lambda x: (x[0], sum([i[1] for i in x[1]]))).compute()"
      ]
    },
    {
      "cell_type": "markdown",
      "id": "white-hunter",
      "metadata": {
        "id": "white-hunter"
      },
      "source": [
        "#### Semi-Structured Data\n",
        "\n",
        "We create a random set of record data and store it to disk as many JSON files. This will serve as our data for this notebook."
      ]
    },
    {
      "cell_type": "code",
      "execution_count": 40,
      "id": "81uRKZU7B_4r",
      "metadata": {
        "id": "81uRKZU7B_4r"
      },
      "outputs": [],
      "source": [
        "# Create data/ directory\n",
        "os.makedirs('data', exist_ok=True)"
      ]
    },
    {
      "cell_type": "code",
      "execution_count": 41,
      "id": "kBglmKNjCGUy",
      "metadata": {
        "id": "kBglmKNjCGUy"
      },
      "outputs": [],
      "source": [
        "# Make records of people\n",
        "y = dask.datasets.make_people()"
      ]
    },
    {
      "cell_type": "code",
      "execution_count": 42,
      "id": "forbidden-integer",
      "metadata": {
        "id": "forbidden-integer",
        "outputId": "8197df41-80a1-46e2-a3f3-d2feb4d74072",
        "colab": {
          "base_uri": "https://localhost:8080/"
        }
      },
      "outputs": [
        {
          "output_type": "execute_result",
          "data": {
            "text/plain": [
              "['/content/data/0.json',\n",
              " '/content/data/1.json',\n",
              " '/content/data/2.json',\n",
              " '/content/data/3.json',\n",
              " '/content/data/4.json',\n",
              " '/content/data/5.json',\n",
              " '/content/data/6.json',\n",
              " '/content/data/7.json',\n",
              " '/content/data/8.json',\n",
              " '/content/data/9.json']"
            ]
          },
          "metadata": {},
          "execution_count": 42
        }
      ],
      "source": [
        "# Encode as JSON, write to disk\n",
        "y.map(json.dumps).to_textfiles('data/*.json')"
      ]
    },
    {
      "cell_type": "markdown",
      "id": "parental-behalf",
      "metadata": {
        "id": "parental-behalf"
      },
      "source": [
        "created and read the JSON files"
      ]
    },
    {
      "cell_type": "code",
      "execution_count": 43,
      "id": "accessible-nurse",
      "metadata": {
        "id": "accessible-nurse",
        "outputId": "d5aa0065-885c-4f53-8b85-13817b08023c",
        "colab": {
          "base_uri": "https://localhost:8080/"
        }
      },
      "outputs": [
        {
          "output_type": "execute_result",
          "data": {
            "text/plain": [
              "({'age': 53,\n",
              "  'name': ('Dusty', 'Graham'),\n",
              "  'occupation': 'Merchant Seaman',\n",
              "  'telephone': '071-387-1056',\n",
              "  'address': {'address': '863 De Boom Parkway', 'city': 'Friendswood'},\n",
              "  'credit-card': {'number': '5278 9974 0527 6594',\n",
              "   'expiration-date': '03/23'}},\n",
              " {'age': 17,\n",
              "  'name': ('Tayna', 'Hull'),\n",
              "  'occupation': 'Transport Consultant',\n",
              "  'telephone': '+1-(927)-792-7923',\n",
              "  'address': {'address': '1239 Ruger Mall', 'city': 'Anoka'},\n",
              "  'credit-card': {'number': '4744 8449 7787 8473',\n",
              "   'expiration-date': '07/20'}},\n",
              " {'age': 44,\n",
              "  'name': ('Alonso', 'Best'),\n",
              "  'occupation': 'Mining Engineer',\n",
              "  'telephone': '807.285.8586',\n",
              "  'address': {'address': '733 Dorland Shore', 'city': 'Klamath Falls'},\n",
              "  'credit-card': {'number': '3445 793014 73615', 'expiration-date': '01/18'}})"
            ]
          },
          "metadata": {},
          "execution_count": 43
        }
      ],
      "source": [
        "# read the third row of the dataset\n",
        "y.take(3)"
      ]
    },
    {
      "cell_type": "markdown",
      "id": "swedish-raleigh",
      "metadata": {
        "id": "swedish-raleigh"
      },
      "source": [
        "**Map, Filter on Bag**\n",
        "\n",
        "We can process this data by filtering out only certain records of interest, mapping functions over it to process our data, and aggregating those results to a total value."
      ]
    },
    {
      "cell_type": "markdown",
      "id": "english-facing",
      "metadata": {
        "id": "english-facing"
      },
      "source": [
        "Select only people over 30"
      ]
    },
    {
      "cell_type": "code",
      "execution_count": 44,
      "id": "blocked-centre",
      "metadata": {
        "id": "blocked-centre",
        "outputId": "1e18e8f2-6a5e-4710-c93d-d961b2f285d7",
        "colab": {
          "base_uri": "https://localhost:8080/"
        }
      },
      "outputs": [
        {
          "output_type": "execute_result",
          "data": {
            "text/plain": [
              "({'age': 53,\n",
              "  'name': ('Dusty', 'Graham'),\n",
              "  'occupation': 'Merchant Seaman',\n",
              "  'telephone': '071-387-1056',\n",
              "  'address': {'address': '863 De Boom Parkway', 'city': 'Friendswood'},\n",
              "  'credit-card': {'number': '5278 9974 0527 6594',\n",
              "   'expiration-date': '03/23'}},\n",
              " {'age': 44,\n",
              "  'name': ('Alonso', 'Best'),\n",
              "  'occupation': 'Mining Engineer',\n",
              "  'telephone': '807.285.8586',\n",
              "  'address': {'address': '733 Dorland Shore', 'city': 'Klamath Falls'},\n",
              "  'credit-card': {'number': '3445 793014 73615', 'expiration-date': '01/18'}})"
            ]
          },
          "metadata": {},
          "execution_count": 44
        }
      ],
      "source": [
        "# filter the data\n",
        "y.filter(lambda record: record['age'] > 30).take(2)"
      ]
    },
    {
      "cell_type": "markdown",
      "id": "secure-antibody",
      "metadata": {
        "id": "secure-antibody"
      },
      "source": [
        "Select the occupation field"
      ]
    },
    {
      "cell_type": "code",
      "execution_count": 45,
      "id": "preliminary-updating",
      "metadata": {
        "id": "preliminary-updating",
        "outputId": "e4e3b516-11cd-4657-eed7-fc2d289d01e0",
        "colab": {
          "base_uri": "https://localhost:8080/"
        }
      },
      "outputs": [
        {
          "output_type": "execute_result",
          "data": {
            "text/plain": [
              "('Merchant Seaman', 'Transport Consultant')"
            ]
          },
          "metadata": {},
          "execution_count": 45
        }
      ],
      "source": [
        "# Selecting particular feature\n",
        "y.map(lambda record: record['occupation']).take(2)"
      ]
    },
    {
      "cell_type": "markdown",
      "id": "DaX9J5q6-jUu",
      "metadata": {
        "id": "DaX9J5q6-jUu"
      },
      "source": [
        " Count the total number of records"
      ]
    },
    {
      "cell_type": "code",
      "execution_count": 46,
      "id": "experienced-stocks",
      "metadata": {
        "id": "experienced-stocks",
        "outputId": "d46d5415-1349-4ef9-e68f-8438182e17be",
        "colab": {
          "base_uri": "https://localhost:8080/"
        }
      },
      "outputs": [
        {
          "output_type": "execute_result",
          "data": {
            "text/plain": [
              "10000"
            ]
          },
          "metadata": {},
          "execution_count": 46
        }
      ],
      "source": [
        "# computing the total number of records in y\n",
        "y.count().compute()"
      ]
    },
    {
      "cell_type": "markdown",
      "id": "ardWCXA6B2v1",
      "metadata": {
        "id": "ardWCXA6B2v1"
      },
      "source": [
        "### Machine Learning With Dask"
      ]
    },
    {
      "cell_type": "markdown",
      "id": "mAfNu9D3QNhj",
      "metadata": {
        "id": "mAfNu9D3QNhj"
      },
      "source": [
        "Dask-ML wants to enable scalable machine learning in Python. It aims to do so by\n",
        "\n",
        "1. Working with existing libraries within the Python ecosystem\n",
        "2. Using the features of Dask to scale computation to larger datasets and larger problems"
      ]
    },
    {
      "cell_type": "markdown",
      "id": "eCSCipNJZWUp",
      "metadata": {
        "id": "eCSCipNJZWUp"
      },
      "source": [
        "#### Generalized Linear Models\n",
        "\n",
        "Generalized linear models are a broad class of commonly used models. These implementations scale out well to large datasets either on a single machine or distributed cluster. They can be powered by a variety of optimization algorithms and use a variety of regularizers.\n",
        "\n",
        "These follow the scikit-learn estimator API, and so can be dropped into existing routines like grid search and pipelines, but are implemented externally with new, scalable algorithms and so can consume distributed dask arrays and dataframes rather than just single-machine NumPy and Pandas arrays and dataframes."
      ]
    },
    {
      "cell_type": "code",
      "execution_count": 47,
      "id": "hAHK3At99aca",
      "metadata": {
        "id": "hAHK3At99aca"
      },
      "outputs": [],
      "source": [
        "from dask_ml.datasets import make_regression\n",
        "from dask_ml.model_selection import train_test_split\n",
        "\n",
        "X, y = make_regression(n_samples=200000, n_features=100, random_state=0, chunks=10000)\n",
        "\n",
        "X_train, X_test, y_train, y_test = train_test_split(X, y)"
      ]
    },
    {
      "cell_type": "code",
      "source": [
        "import numpy as np\n",
        "\n",
        "# fit the model\n",
        "\n",
        "lr = LinearRegression()\n",
        "lr.fit(X_train, y_train)\n",
        "\n",
        "# predict on test data\n",
        "pred = lr.predict(X_test)\n",
        "\n",
        "# Convert to NumPy arrays and handle NaNs\n",
        "y_test_np = y_test.compute()\n",
        "pred_np = pred.compute()\n",
        "\n",
        "# Remove NaNs from both arrays\n",
        "mask = np.isfinite(y_test_np) & np.isfinite(pred_np)\n",
        "y_test_np = y_test_np[mask]\n",
        "pred_np = pred_np[mask]\n",
        "\n",
        "# Calculate R-squared score\n",
        "from sklearn.metrics import r2_score\n",
        "score = r2_score(y_test_np, pred_np)\n",
        "\n",
        "print(score)"
      ],
      "metadata": {
        "id": "eVJ05vKQr9Io",
        "outputId": "24c93631-c415-49a4-b7a8-066cadfe4ebe",
        "colab": {
          "base_uri": "https://localhost:8080/"
        }
      },
      "id": "eVJ05vKQr9Io",
      "execution_count": 48,
      "outputs": [
        {
          "output_type": "stream",
          "name": "stdout",
          "text": [
            "0.9999999876472576\n"
          ]
        }
      ]
    },
    {
      "cell_type": "code",
      "execution_count": 49,
      "id": "Xfm-6x5u-j2X",
      "metadata": {
        "id": "Xfm-6x5u-j2X"
      },
      "outputs": [],
      "source": [
        "# # fit the model\n",
        "\n",
        "# lr = LinearRegression()\n",
        "# lr.fit(X_train, y_train)\n",
        "# lr.score(X_test,y_test)"
      ]
    },
    {
      "cell_type": "code",
      "execution_count": 50,
      "id": "y6U25XbACagU",
      "metadata": {
        "id": "y6U25XbACagU"
      },
      "outputs": [],
      "source": [
        "#predict on test data\n",
        "pred=lr.predict(X_test)"
      ]
    },
    {
      "cell_type": "code",
      "execution_count": 51,
      "id": "CnDOZAAMDWjE",
      "metadata": {
        "id": "CnDOZAAMDWjE",
        "outputId": "f8cc46b9-b45b-4047-e22f-2942d1964288",
        "colab": {
          "base_uri": "https://localhost:8080/"
        }
      },
      "outputs": [
        {
          "output_type": "execute_result",
          "data": {
            "text/plain": [
              "array([ 119.89546933, -156.11135037,   90.85739766, ..., -108.13228557,\n",
              "         54.50117844,  -53.99543942], shape=(20000,))"
            ]
          },
          "metadata": {},
          "execution_count": 51
        }
      ],
      "source": [
        "# predicted values\n",
        "pred.compute()"
      ]
    },
    {
      "cell_type": "markdown",
      "id": "IO9hQhBXZvd2",
      "metadata": {
        "id": "IO9hQhBXZvd2"
      },
      "source": [
        "To know more about dask-ml, click [here](https://ml.dask.org/)."
      ]
    },
    {
      "cell_type": "markdown",
      "id": "CFNLB7O4utb3",
      "metadata": {
        "id": "CFNLB7O4utb3"
      },
      "source": [
        "### Please answer the questions below to complete the experiment:"
      ]
    },
    {
      "cell_type": "code",
      "execution_count": 52,
      "id": "_38KV9uluveS",
      "metadata": {
        "id": "_38KV9uluveS"
      },
      "outputs": [],
      "source": [
        "# @title Select the FALSE statement: { run: \"auto\", form-width: \"500px\", display-mode: \"form\" }\n",
        "Answer = \"Dask can operate in parallel only on datasets that fit into the main memory\" #@param [\"\",\"Dask can operate in parallel only on datasets that fit into the main memory\",\"Dask provides high level Array Bag and DataFrame collections that mimic NumPy lists and Pandas\",\"Dask provides dynamic task schedulers that execute task graphs in parallel\",\"Dask performs lazy execution by saving the set of inputs and executing only on demand\"]"
      ]
    },
    {
      "cell_type": "code",
      "execution_count": 53,
      "id": "IVj6KRihwhPy",
      "metadata": {
        "id": "IVj6KRihwhPy"
      },
      "outputs": [],
      "source": [
        "#@title How was the experiment? { run: \"auto\", form-width: \"500px\", display-mode: \"form\" }\n",
        "Complexity = \"Good, But Not Challenging for me\" #@param [\"\",\"Too Simple, I am wasting time\", \"Good, But Not Challenging for me\", \"Good and Challenging for me\", \"Was Tough, but I did it\", \"Too Difficult for me\"]\n"
      ]
    },
    {
      "cell_type": "code",
      "execution_count": 54,
      "id": "G7Wx_ufawlf8",
      "metadata": {
        "id": "G7Wx_ufawlf8"
      },
      "outputs": [],
      "source": [
        "#@title If it was too easy, what more would you have liked to be added? If it was very difficult, what would you have liked to have been removed? { run: \"auto\", display-mode: \"form\" }\n",
        "Additional = \"NA\" #@param {type:\"string\"}\n"
      ]
    },
    {
      "cell_type": "code",
      "execution_count": 55,
      "id": "2Fbfkz82w5BI",
      "metadata": {
        "id": "2Fbfkz82w5BI"
      },
      "outputs": [],
      "source": [
        "#@title Can you identify the concepts from the lecture which this experiment covered? { run: \"auto\", vertical-output: true, display-mode: \"form\" }\n",
        "Concepts = \"Yes\" #@param [\"\",\"Yes\", \"No\"]\n"
      ]
    },
    {
      "cell_type": "code",
      "execution_count": 56,
      "id": "RauzHTwWw8PW",
      "metadata": {
        "id": "RauzHTwWw8PW"
      },
      "outputs": [],
      "source": [
        "#@title  Text and image description/explanation and code comments within the experiment: { run: \"auto\", vertical-output: true, display-mode: \"form\" }\n",
        "Comments = \"Somewhat Useful\" #@param [\"\",\"Very Useful\", \"Somewhat Useful\", \"Not Useful\", \"Didn't use\"]\n"
      ]
    },
    {
      "cell_type": "code",
      "execution_count": 57,
      "id": "wHVmS408w_Si",
      "metadata": {
        "id": "wHVmS408w_Si"
      },
      "outputs": [],
      "source": [
        "#@title Mentor Support: { run: \"auto\", vertical-output: true, display-mode: \"form\" }\n",
        "Mentor_support = \"Very Useful\" #@param [\"\",\"Very Useful\", \"Somewhat Useful\", \"Not Useful\", \"Didn't use\"]\n"
      ]
    },
    {
      "cell_type": "code",
      "execution_count": 58,
      "id": "T-LbsTp6xCy3",
      "metadata": {
        "cellView": "form",
        "id": "T-LbsTp6xCy3",
        "outputId": "afa83875-d324-4db1-9838-5c606ba8847c",
        "colab": {
          "base_uri": "https://localhost:8080/"
        }
      },
      "outputs": [
        {
          "output_type": "stream",
          "name": "stdout",
          "text": [
            "Your submission is successful.\n",
            "Ref Id: 5295\n",
            "Date of submission:  25 May 2025\n",
            "Time of submission:  23:34:14\n",
            "View your submissions: https://learn-iisc.talentsprint.com/notebook_submissions\n"
          ]
        }
      ],
      "source": [
        "#@title Run this cell to submit your notebook for grading { vertical-output: true }\n",
        "try:\n",
        "  if submission_id:\n",
        "      return_id = submit_notebook()\n",
        "      if return_id : submission_id = return_id\n",
        "  else:\n",
        "      print(\"Please complete the setup first.\")\n",
        "except NameError:\n",
        "  print (\"Please complete the setup first.\")"
      ]
    }
  ],
  "metadata": {
    "accelerator": "TPU",
    "colab": {
      "gpuType": "V28",
      "provenance": [],
      "include_colab_link": true
    },
    "kernelspec": {
      "display_name": "Python 3",
      "name": "python3"
    },
    "language_info": {
      "codemirror_mode": {
        "name": "ipython",
        "version": 3
      },
      "file_extension": ".py",
      "mimetype": "text/x-python",
      "name": "python",
      "nbconvert_exporter": "python",
      "pygments_lexer": "ipython3",
      "version": "3.8.5"
    }
  },
  "nbformat": 4,
  "nbformat_minor": 5
}