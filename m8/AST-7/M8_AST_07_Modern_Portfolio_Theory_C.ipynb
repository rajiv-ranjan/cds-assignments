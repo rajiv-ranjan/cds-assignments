{
  "nbformat": 4,
  "nbformat_minor": 0,
  "metadata": {
    "colab": {
      "provenance": [],
      "include_colab_link": true
    },
    "kernelspec": {
      "display_name": "Python 3",
      "language": "python",
      "name": "python3"
    },
    "language_info": {
      "codemirror_mode": {
        "name": "ipython",
        "version": 3
      },
      "file_extension": ".py",
      "mimetype": "text/x-python",
      "name": "python",
      "nbconvert_exporter": "python",
      "pygments_lexer": "ipython3",
      "version": "3.8.5"
    }
  },
  "cells": [
    {
      "cell_type": "markdown",
      "metadata": {
        "id": "view-in-github",
        "colab_type": "text"
      },
      "source": [
        "<a href=\"https://colab.research.google.com/github/rajiv-ranjan/cds-assignments/blob/main/m8/AST-7/M8_AST_07_Modern_Portfolio_Theory_C.ipynb\" target=\"_parent\"><img src=\"https://colab.research.google.com/assets/colab-badge.svg\" alt=\"Open In Colab\"/></a>"
      ]
    },
    {
      "cell_type": "markdown",
      "metadata": {
        "id": "MZQMVE4gmAlY"
      },
      "source": [
        "# Advanced Certification Program in Computational Data Science\n",
        "## A program by IISc and TalentSprint\n",
        "### Assignment 7: Modern Portfolio Theory"
      ]
    },
    {
      "cell_type": "markdown",
      "metadata": {
        "id": "UpgCEb9kmJ2Y"
      },
      "source": [
        "## Learning Objectives"
      ]
    },
    {
      "cell_type": "markdown",
      "metadata": {
        "id": "rZkwoKfWmNJj"
      },
      "source": [
        "At the end of the experiment, you will be able to\n",
        "\n",
        "* understand what is portfolio\n",
        "* compute expected return of a portfolio\n",
        "* compute covariance of returns\n",
        "* understand efficient frontier plots\n",
        "* compute portfolio weights for minimum variance and tangency portfolios"
      ]
    },
    {
      "cell_type": "markdown",
      "metadata": {
        "id": "jtdSVLWombeQ"
      },
      "source": [
        "## Information"
      ]
    },
    {
      "cell_type": "markdown",
      "metadata": {
        "id": "_EupZTTSHLRW"
      },
      "source": [
        "**Portfolio**\n",
        "\n",
        "A portfolio is a collection or group of assets that are put together usually for some investment objective and also to satisfy a level of risk. The type of assets that can be fit into a portfolio includes stocks, bonds, currencies, and cash-like equivalence. It has been widely used in all areas of finance, but modern portfolio theory has also been extended to realms outside of finance, for example, people have used it to study the allocation of environmental resources in the best way possible.\n",
        "\n",
        "There are two underlying assumptions or objectives of **modern portfolio theory**.\n",
        "\n",
        "* One is to maximize the expected returns based on a given level of risk. So, some assets are risky, and we can win big or lose big, but we are trying to maximize our expected returns with a set of underlying assets, and then secondly,\n",
        "\n",
        "* the theory emphasizes that there is an inherent risk in the part of higher returns. So, if we want big returns, there's a lot more risk, and we can lose a lot more money.\n",
        "\n",
        "In conclusion, modern portfolio theory is an attempt to investigate or analyze the interrelationships between these different investments, trying to maximize the expected returns, and minimize the risk.\n",
        "\n",
        "To know more about modern portfolio theory, click [here](https://cdn.exec.talentsprint.com/static/cds/content/PortfolioTheoryFabozziandGrant.pdf)."
      ]
    },
    {
      "cell_type": "markdown",
      "metadata": {
        "id": "tXSMP1Cb6lDt"
      },
      "source": [
        "### Expected return"
      ]
    },
    {
      "cell_type": "markdown",
      "metadata": {
        "id": "1RXfV4k-7Zor"
      },
      "source": [
        "The expected return of one security is the amount of profit or loss an investor can make or anticipate on an investment, given the historical returns. Note that this part of the theory does not take into account risk. So to calculate the expected return of a security we take the log difference.\n",
        "\n",
        "Now that we have calculated the expected return of an individual security, let's look at how we calculate the expected returns for a portfolio of investments. So, the expected return for a portfolio investment is the weighted average of the expected returns of each of the components. The weight of a security is the ratio of the investment in the security to the total investment of the portfolio.\n",
        "\n",
        "The formula for the expected return on a portfolio is given by:\n",
        "\n",
        "$$E(r) = (w_a * r_a) + (w_b * r_b)$$\n",
        "\n",
        "where, $w$ is the weight of a security and\n",
        "\n",
        "$r$ is the return of the security."
      ]
    },
    {
      "cell_type": "markdown",
      "metadata": {
        "id": "BNLA8HiKxQhc"
      },
      "source": [
        "### Setup Steps:"
      ]
    },
    {
      "cell_type": "code",
      "metadata": {
        "id": "2YzfoPvJDiTX"
      },
      "source": [
        "#@title Please enter your registration id to start: { run: \"auto\", display-mode: \"form\" }\n",
        "Id = \"2418709\" #@param {type:\"string\"}"
      ],
      "execution_count": 1,
      "outputs": []
    },
    {
      "cell_type": "code",
      "metadata": {
        "id": "AjoZJWGErxGf"
      },
      "source": [
        "#@title Please enter your password (your registered phone number) to continue: { run: \"auto\", display-mode: \"form\" }\n",
        "password = \"9902028293\" #@param {type:\"string\"}"
      ],
      "execution_count": 2,
      "outputs": []
    },
    {
      "cell_type": "code",
      "metadata": {
        "id": "WBPPuGmBlDIN",
        "cellView": "form",
        "outputId": "d8ffbb5a-350f-4946-a21f-9a772ac79dcc",
        "colab": {
          "base_uri": "https://localhost:8080/",
          "height": 34
        }
      },
      "source": [
        "#@title Run this cell to complete the setup for this Notebook\n",
        "from IPython import get_ipython\n",
        "\n",
        "ipython = get_ipython()\n",
        "\n",
        "notebook= \"M8_AST_07_Modern_Portfolio_Theory_C\" #name of the notebook\n",
        "\n",
        "def setup():\n",
        "#  ipython.magic(\"sx pip3 install torch\")\n",
        "\n",
        "    from IPython.display import HTML, display\n",
        "    display(HTML('<script src=\"https://dashboard.talentsprint.com/aiml/record_ip.html?traineeId={0}&recordId={1}\"></script>'.format(getId(),submission_id)))\n",
        "    print(\"Setup completed successfully\")\n",
        "    return\n",
        "\n",
        "def submit_notebook():\n",
        "    ipython.magic(\"notebook -e \"+ notebook + \".ipynb\")\n",
        "\n",
        "    import requests, json, base64, datetime\n",
        "\n",
        "    url = \"https://dashboard.talentsprint.com/xp/app/save_notebook_attempts\"\n",
        "    if not submission_id:\n",
        "      data = {\"id\" : getId(), \"notebook\" : notebook, \"mobile\" : getPassword()}\n",
        "      r = requests.post(url, data = data)\n",
        "      r = json.loads(r.text)\n",
        "\n",
        "      if r[\"status\"] == \"Success\":\n",
        "          return r[\"record_id\"]\n",
        "      elif \"err\" in r:\n",
        "        print(r[\"err\"])\n",
        "        return None\n",
        "      else:\n",
        "        print (\"Something is wrong, the notebook will not be submitted for grading\")\n",
        "        return None\n",
        "\n",
        "    elif getAnswer() and getComplexity() and getAdditional() and getConcepts() and getComments() and getMentorSupport():\n",
        "      f = open(notebook + \".ipynb\", \"rb\")\n",
        "      file_hash = base64.b64encode(f.read())\n",
        "\n",
        "      data = {\"complexity\" : Complexity, \"additional\" :Additional,\n",
        "              \"concepts\" : Concepts, \"record_id\" : submission_id,\n",
        "              \"answer\" : Answer, \"id\" : Id, \"file_hash\" : file_hash,\n",
        "              \"notebook\" : notebook,\n",
        "              \"feedback_experiments_input\" : Comments,\n",
        "              \"feedback_mentor_support\": Mentor_support}\n",
        "      r = requests.post(url, data = data)\n",
        "      r = json.loads(r.text)\n",
        "      if \"err\" in r:\n",
        "        print(r[\"err\"])\n",
        "        return None\n",
        "      else:\n",
        "        print(\"Your submission is successful.\")\n",
        "        print(\"Ref Id:\", submission_id)\n",
        "        print(\"Date of submission: \", r[\"date\"])\n",
        "        print(\"Time of submission: \", r[\"time\"])\n",
        "        print(\"View your submissions: https://learn-iisc.talentsprint.com/notebook_submissions\")\n",
        "        #print(\"For any queries/discrepancies, please connect with mentors through the chat icon in LMS dashboard.\")\n",
        "        return submission_id\n",
        "    else: submission_id\n",
        "\n",
        "\n",
        "def getAdditional():\n",
        "  try:\n",
        "    if not Additional:\n",
        "      raise NameError\n",
        "    else:\n",
        "      return Additional\n",
        "  except NameError:\n",
        "    print (\"Please answer Additional Question\")\n",
        "    return None\n",
        "\n",
        "def getComplexity():\n",
        "  try:\n",
        "    if not Complexity:\n",
        "      raise NameError\n",
        "    else:\n",
        "      return Complexity\n",
        "  except NameError:\n",
        "    print (\"Please answer Complexity Question\")\n",
        "    return None\n",
        "\n",
        "def getConcepts():\n",
        "  try:\n",
        "    if not Concepts:\n",
        "      raise NameError\n",
        "    else:\n",
        "      return Concepts\n",
        "  except NameError:\n",
        "    print (\"Please answer Concepts Question\")\n",
        "    return None\n",
        "\n",
        "\n",
        "# def getWalkthrough():\n",
        "#   try:\n",
        "#     if not Walkthrough:\n",
        "#       raise NameError\n",
        "#     else:\n",
        "#       return Walkthrough\n",
        "#   except NameError:\n",
        "#     print (\"Please answer Walkthrough Question\")\n",
        "#     return None\n",
        "\n",
        "def getComments():\n",
        "  try:\n",
        "    if not Comments:\n",
        "      raise NameError\n",
        "    else:\n",
        "      return Comments\n",
        "  except NameError:\n",
        "    print (\"Please answer Comments Question\")\n",
        "    return None\n",
        "\n",
        "\n",
        "def getMentorSupport():\n",
        "  try:\n",
        "    if not Mentor_support:\n",
        "      raise NameError\n",
        "    else:\n",
        "      return Mentor_support\n",
        "  except NameError:\n",
        "    print (\"Please answer Mentor support Question\")\n",
        "    return None\n",
        "\n",
        "def getAnswer():\n",
        "  try:\n",
        "    if not Answer:\n",
        "      raise NameError\n",
        "    else:\n",
        "      return Answer\n",
        "  except NameError:\n",
        "    print (\"Please answer Question\")\n",
        "    return None\n",
        "\n",
        "\n",
        "def getId():\n",
        "  try:\n",
        "    return Id if Id else None\n",
        "  except NameError:\n",
        "    return None\n",
        "\n",
        "def getPassword():\n",
        "  try:\n",
        "    return password if password else None\n",
        "  except NameError:\n",
        "    return None\n",
        "\n",
        "submission_id = None\n",
        "### Setup\n",
        "if getPassword() and getId():\n",
        "  submission_id = submit_notebook()\n",
        "  if submission_id:\n",
        "    setup()\n",
        "else:\n",
        "  print (\"Please complete Id and Password cells before running setup\")"
      ],
      "execution_count": 3,
      "outputs": [
        {
          "output_type": "display_data",
          "data": {
            "text/plain": [
              "<IPython.core.display.HTML object>"
            ],
            "text/html": [
              "<script src=\"https://dashboard.talentsprint.com/aiml/record_ip.html?traineeId=2418709&recordId=7144\"></script>"
            ]
          },
          "metadata": {}
        },
        {
          "output_type": "stream",
          "name": "stdout",
          "text": [
            "Setup completed successfully\n"
          ]
        }
      ]
    },
    {
      "cell_type": "markdown",
      "metadata": {
        "id": "BKHTJJlazEQL"
      },
      "source": [
        "### Import required packages"
      ]
    },
    {
      "cell_type": "code",
      "metadata": {
        "id": "LDBD46zdzIrk"
      },
      "source": [
        "import numpy as np\n",
        "import matplotlib.pyplot as plt"
      ],
      "execution_count": 4,
      "outputs": []
    },
    {
      "cell_type": "markdown",
      "metadata": {
        "id": "98JqoL4d8tMl"
      },
      "source": [
        "**Example 1:** Let us consider an investment in a two asset portfolio.\n",
        "\n",
        "* Asset A - 12% return with 20% standard deviation\n",
        "* Asset B - 16% return with 35% standard deviation\n",
        "\n",
        "Given 10000, let us invest 6000 in Asset A and 4000 in Asset B.\n",
        "\n",
        "Calculate the expected return."
      ]
    },
    {
      "cell_type": "markdown",
      "metadata": {
        "id": "tpwoRuRh9ick"
      },
      "source": [
        "The expected return is calculated as follows:"
      ]
    },
    {
      "cell_type": "code",
      "metadata": {
        "id": "UL-dFRWw9l-_",
        "outputId": "be50bfad-f099-4bd7-a655-281e224fcc69",
        "colab": {
          "base_uri": "https://localhost:8080/"
        }
      },
      "source": [
        "# Weight of asset A\n",
        "w_a = 6000/10000\n",
        "# Weight of asset B\n",
        "w_b = 4000/10000\n",
        "# Retrun of assest A\n",
        "r_a = 12\n",
        "# Return of asset B\n",
        "r_b = 16\n",
        "# Expected return\n",
        "E_r = w_a * r_a  +  w_b * r_b\n",
        "print(\"Expected return: {} %\".format(E_r))"
      ],
      "execution_count": 5,
      "outputs": [
        {
          "output_type": "stream",
          "name": "stdout",
          "text": [
            "Expected return: 13.6 %\n"
          ]
        }
      ]
    },
    {
      "cell_type": "markdown",
      "metadata": {
        "id": "PKwJrNefQh_x"
      },
      "source": [
        "The expected return for the above investment is 13.6 percent."
      ]
    },
    {
      "cell_type": "markdown",
      "metadata": {
        "id": "7ofzy0Py-zIX"
      },
      "source": [
        "### Volatility of a Portfolio"
      ]
    },
    {
      "cell_type": "markdown",
      "metadata": {
        "id": "Z-g31I2tBhE3"
      },
      "source": [
        "The second major component of modern portfolio theory is the risk of a security. Risk represents the chance that the actual return is different from what we expected it to be. Another way to think about risk is that it's synonymous with volatility. **The greater the portfolio volatility, the greater the risk**. Volatility refers to the amount of risk or uncertainty related to the size of the changes and the value of the security. **One of the most common measures of volatility of a security's return is the variance or standard deviation**.\n",
        "\n",
        "**What is the volatility of a portfolio?**\n",
        "\n",
        "Volatility of a portfolio can be calculated by first determining the following parameters:\n",
        "\n",
        "* The variance of the expected returns of a security, and\n",
        "\n",
        " Standard deviation $$\\sigma_P = \\sqrt{\\frac{\\Sigma (r - E(r))^2}{n}}$$\n",
        "\n",
        " Variance of a portfolio $$V_p = \\sigma_P^2$$\n",
        "\n",
        "* The covariance of a portfolio of securities\n",
        "\n",
        " The correlation indicates the strength of the relationship between the returns of two assets.\n",
        "\n",
        " Correlation: $$\\rho_{a,b} = \\frac{\\Sigma (r_{a,i} - \\bar{r_a})(r_{b,i} - \\bar{r_b})}{\\sqrt(\\Sigma (r_{a,i} - \\bar{r_a})^2 \\Sigma (r_{b,i} - \\bar{r_b})^2}$$\n",
        "\n",
        " Covariance is a measure of the joint variability of two random variables.\n",
        "\n",
        " Covariance: $$Cov(a, b) = \\rho_{a,b} * \\sigma_a * \\sigma_b$$\n",
        "\n",
        "Observations indicate that the variance of the portfolio decreases or the risk of the portfolio decreases as the number of assets increases, and that's known as diversification."
      ]
    },
    {
      "cell_type": "markdown",
      "metadata": {
        "id": "UPYVeRu0HUO0"
      },
      "source": [
        "**Example 2:** Let us consider an investment in a two asset portfolio.\n",
        "\n",
        "* Asset A - 12% return with 20% standard deviation\n",
        "* Asset B - 16% return with 35% standard deviation\n",
        "\n",
        "The correlation between the returns on the two assets is 0.6.\n",
        "\n",
        "Given 10000, let us invest 6000 in Asset A and 4000 in Asset B.\n",
        "\n",
        "Calculate the volatility of a portfolio."
      ]
    },
    {
      "cell_type": "markdown",
      "metadata": {
        "id": "k6UNs-paIbXN"
      },
      "source": [
        "The volatility of the portfolio is given by:\n",
        "\n",
        "$$V_p = (w_a^2 * \\sigma_a^2) + (w_b^2 * \\sigma_b^2) + (2 * \\rho_{a,b} * \\sigma_a * \\sigma_b * w_a * w_b)$$"
      ]
    },
    {
      "cell_type": "code",
      "metadata": {
        "id": "TWwF6lqyI6pq",
        "outputId": "bdc2a7eb-eb13-4633-e6dd-ae0a73170eab",
        "colab": {
          "base_uri": "https://localhost:8080/"
        }
      },
      "source": [
        "w_a = 6000/10000\n",
        "w_b = 4000/10000\n",
        "# Standard deviation of asset A\n",
        "sd_a = 0.20\n",
        "# Standard deviation of aseet B\n",
        "sd_b = 0.35\n",
        "# Correlation bw assets A and B\n",
        "rho_ab = 0.6\n",
        "# Portfolio volatility\n",
        "V = (w_a**2 * sd_a**2) + (w_b**2 * sd_b**2) + (2 * rho_ab * sd_a * sd_b * w_a * w_b)\n",
        "print(\"Volatility of portfolio: \", V)"
      ],
      "execution_count": 6,
      "outputs": [
        {
          "output_type": "stream",
          "name": "stdout",
          "text": [
            "Volatility of portfolio:  0.05416\n"
          ]
        }
      ]
    },
    {
      "cell_type": "markdown",
      "metadata": {
        "id": "hUcb-AKYkPeA"
      },
      "source": [
        "### Efficient Frontier"
      ]
    },
    {
      "cell_type": "markdown",
      "metadata": {
        "id": "R0KYf7q8qd4B"
      },
      "source": [
        "So far we have looked at how to calculate the expected return through the mean and understand how risk is interpreted through the variance of an asset. Sometimes this theory is called the **mean-variance investment theory**.\n",
        "\n",
        "Now we will see how do we incorporate this notion of the mean and the variance or this notion of expected return and risk and how do we put them together into our model.\n",
        "\n",
        "**Risk-Return Trade-Off**\n",
        "\n",
        "* The underlying principle is that the riskier the investment the greater the required potential return. So if we are going to invest in something risky, loan someone money or put some money in a stock, then we want a big return, because we want to be compensated for that risk. However, if the risk is not that great, then we are not going to be expecting a higher return.\n",
        "\n",
        "* If investors are willing to bear that risk, they expect to earn a risk premium, versus something that has a risk-free rate.\n",
        "\n",
        "* This trade-off is referring to the possibility of higher returns on investment, but it does not guarantee higher returns.\n",
        "\n",
        "The **efficient frontier** is the set of optimal portfolios that offer the highest expected return for a defined level of risk or the lowest risk for a given level of expected return. Portfolios that lie below the efficient frontier are sub-optimal because they do not provide enough return for the level of risk.\n",
        "\n",
        "In its graph, on the x-axis, we see the variance, which is interpreted to be risk and on the y-axis, we have expected returns through the means."
      ]
    },
    {
      "cell_type": "markdown",
      "metadata": {
        "id": "rjjEXRdT3Tk4"
      },
      "source": [
        "**Example 3:** Let us consider an investment in a two asset portfolio.\n",
        "\n",
        "* Asset A - 12% return with 20% standard deviation\n",
        "* Asset B - 16% return with 35% standard deviation\n",
        "\n",
        "The correlation between the returns on the two assets is 0.6.\n",
        "\n",
        "Visualize the efficient frontier for this portfolio."
      ]
    },
    {
      "cell_type": "code",
      "metadata": {
        "id": "zHXleqsXyLqV"
      },
      "source": [
        "# Possible values for weight of Asset A\n",
        "w_ai = np.linspace(0, 1, 100)\n",
        "# %return from Asset A and B\n",
        "r_a = 12\n",
        "r_b = 16\n",
        "# Standard deviation for Asset A and B\n",
        "sd_a = 0.20\n",
        "sd_b = 0.35\n",
        "# Correlation bw Asset A and B\n",
        "rho_ab = 0.6\n",
        "\n",
        "exp_return_ab = list()\n",
        "risk_ab = list()\n",
        "\n",
        "for w_a in w_ai:\n",
        "    # Expected return\n",
        "    E = w_a * r_a + (1 - w_a) * r_b\n",
        "    exp_return_ab.append(E)\n",
        "\n",
        "    # Volatility/risk of portfolio\n",
        "    V = (w_a**2 * sd_a**2) + ((1 - w_a)**2 * sd_b**2) + (2 * rho_ab * sd_a * sd_b * w_a * (1 - w_a))\n",
        "    risk_ab.append(V)\n",
        "\n",
        "exp_return_ab = np.array(exp_return_ab)\n",
        "risk_ab = np.array(risk_ab)"
      ],
      "execution_count": 7,
      "outputs": []
    },
    {
      "cell_type": "code",
      "metadata": {
        "id": "dn2hgKqH0JCg",
        "outputId": "32f8435d-a539-4aec-c808-e6a1f58cbbba",
        "colab": {
          "base_uri": "https://localhost:8080/",
          "height": 487
        }
      },
      "source": [
        "# Visualize Efficient Frontier\n",
        "plt.figure(figsize=(8,5))\n",
        "plt.plot(risk_ab, exp_return_ab, '.')\n",
        "plt.title(\"Efficient Frontier\")\n",
        "plt.xlabel(\"Risk\")\n",
        "plt.ylabel(\"Expected Returns\")\n",
        "plt.show()"
      ],
      "execution_count": 8,
      "outputs": [
        {
          "output_type": "display_data",
          "data": {
            "text/plain": [
              "<Figure size 800x500 with 1 Axes>"
            ],
            "image/png": "[encoded data removed]"
          },
          "metadata": {}
        }
      ]
    },
    {
      "cell_type": "markdown",
      "metadata": {
        "id": "66fTeb1r9817"
      },
      "source": [
        "Each of the dots in the efficient frontier represents different mixes of a portfolio."
      ]
    },
    {
      "cell_type": "markdown",
      "metadata": {
        "id": "dIovPppCXfcn"
      },
      "source": [
        "**Sharpe Ratio**\n",
        "\n",
        "One thing that we can look at in order to think about the risk-return trade-off is something known as the Sharpe ratio, which is defined as the expected return minus the risk-free rate over the standard deviation. The difference is there as we are not interested in just how much we get back but how much we get back above the risk-free rate.\n",
        "\n",
        "Sharpe ratio is the measure of risk-adjusted return of a financial portfolio:\n",
        "\n",
        "$$Sharpe\\ ratio = \\frac{E(r_p) - r_f}{\\sigma_p}$$\n",
        "\n",
        "where,\n",
        "\n",
        "$E(r_p)$ is expected return of a portfolio\n",
        "\n",
        "$r_f$ is risk-free return\n",
        "\n",
        "$\\sigma_p$ is standard deviation of the portfolio returns\n",
        "\n",
        "The ratio is the average return earned in excess of the risk-free rate per unit of volatility or total risk.\n",
        "\n",
        "The greater a portfolio's Sharpe ratio, the better its risk-adjusted performance."
      ]
    },
    {
      "cell_type": "markdown",
      "metadata": {
        "id": "DXIOVn4QKMX2"
      },
      "source": [
        "***Risky Assets versus Risk-Free Assets***\n",
        "\n",
        "A **risky asset is one for which the return that will be realized in the future is uncertain**. For example, suppose an investor purchases the stock of Merck today and plans to hold the stock for one year. At the time the investor purchases the stock, he or she does not know what return will be realized. The return will depend on the price of Merck stock one year from now and the dividends that the company pays during the year. Thus, the pharmaceutical stock, and indeed the stock of all companies, is a risky asset.\n",
        "\n",
        "There are **assets**, however, **for which the return that will be realized in the future is known with certainty today. Such assets are referred to as risk-free or riskless assets**. The risk-free asset is commonly defined as short-term obligations of the U.S. government. For example, if an investor buys a U.S. government security that matures in one year and plans to hold that security for one year, then there is no uncertainty about the return that will be realized. The investor knows that in one year, the maturity date of the security, the government will pay a specific amount to retire the debt."
      ]
    },
    {
      "cell_type": "markdown",
      "metadata": {
        "id": "ZcFoLFXGKQOR"
      },
      "source": [
        "Now let's do a practice calculation on the Sharpe ratio."
      ]
    },
    {
      "cell_type": "markdown",
      "metadata": {
        "id": "QILQrZkbsNA9"
      },
      "source": [
        "**Example 4:** Let us consider an investment in a two asset portfolio.\n",
        "\n",
        "* Asset A - 12% return with 20% standard deviation\n",
        "* Asset B - 16% return with 35% standard deviation\n",
        "\n",
        "The correlation between the returns on the two assets is 0.6.\n",
        "\n",
        "Given 10000, let us invest 6000 in Asset A and 4000 in Asset B.\n",
        "\n",
        "We've calculated the expected return to be 13.6 with a portfolio variance of 0.05416. Let's assume for now the risk-free rate to be 0, and calculate the Sharpe ratio."
      ]
    },
    {
      "cell_type": "code",
      "metadata": {
        "id": "dFZvhw3mwHWs",
        "outputId": "cffad1bd-f2f2-4023-de13-1fc69b980b1e",
        "colab": {
          "base_uri": "https://localhost:8080/"
        }
      },
      "source": [
        "# Expected return\n",
        "E_r = 13.6/100\n",
        "# Volatility/risk\n",
        "var_p = 0.05416\n",
        "# Risk-free rate\n",
        "r_f = 0\n",
        "# Sharpe ratio\n",
        "sharpe = (E_r - r_f)/var_p**0.5\n",
        "print(\"Sharpe ratio: {:.3f}\".format(sharpe))"
      ],
      "execution_count": 9,
      "outputs": [
        {
          "output_type": "stream",
          "name": "stdout",
          "text": [
            "Sharpe ratio: 0.584\n"
          ]
        }
      ]
    },
    {
      "cell_type": "markdown",
      "metadata": {
        "id": "b3o8HfrU6Nif"
      },
      "source": [
        "### Portfolio Weights"
      ]
    },
    {
      "cell_type": "markdown",
      "metadata": {
        "id": "-3p1pU-uESTf"
      },
      "source": [
        "The weights of a portfolio are a percentage of the composition of a particular holding in a portfolio in whatever unit of currency we are using. The degree of risk reduction depends upon the weights in the portfolio. So if we have two assets, one is very risky and one is not so risky, if we put a lot of money in the risky asset, then the risk of a portfolio intuitively would go up. And likewise, if we put all of the money in the safe asset, the risk goes down. So we need to figure out what are the optimal weights in the portfolio.\n",
        "\n",
        "**How to find the optimal weight?**\n",
        "\n",
        "The efficient frontier represents the best combination of assets in order to get the best expected returns while considering risk. And there are two ways that we can think about this problem,\n",
        "\n",
        "* we can hold the expected return fixed and try to find the lowest possible amount of risk and find that portfolio, or\n",
        "\n",
        "* find a portfolio that gives us the highest return given some level of risk."
      ]
    },
    {
      "cell_type": "markdown",
      "metadata": {
        "id": "EtPxVBYeEU4y"
      },
      "source": [
        "**Shape of the Efficient Frontier driven by the correlation**\n",
        "\n",
        "The volatility of the portfolio is given by:\n",
        "\n",
        "$$V_p = (w_a^2 * \\sigma_a^2) + (w_b^2 * \\sigma_b^2) + (2 * \\rho_{a,b} * \\sigma_a * \\sigma_b * w_a * w_b)$$\n",
        "\n",
        "In the formula, it is the $\\rho_{a,b}$ term that helps to drive the shape of the efficient frontier.\n",
        "\n",
        "Let's see an example of how the correlation between the assets affects the shape of the frontier."
      ]
    },
    {
      "cell_type": "markdown",
      "metadata": {
        "id": "yBBOIxk8FjfG"
      },
      "source": [
        "**Example 5:** Let us consider an investment in a two asset portfolio.\n",
        "\n",
        "* Asset A - 12% return with 20% standard deviation\n",
        "* Asset B - 16% return with 35% standard deviation\n",
        "\n",
        "Visualize the efficient frontier for this portfolio with the correlation between the returns on the two assets as\n",
        "\n",
        "* $\\rho$ = -1,\n",
        "* $\\rho$ = -0.5,\n",
        "* $\\rho$ = 0, and\n",
        "* $\\rho$ = 1."
      ]
    },
    {
      "cell_type": "code",
      "metadata": {
        "id": "E4E8S7ImG9sl"
      },
      "source": [
        "# Create a function to plot efficient frontier\n",
        "\n",
        "def plot_efficient_frontier(ax=None, r_a = 12, r_b = 16, sd_a = 0.20, sd_b = 0.35, rho_ab = 0.6):\n",
        "    # Possible values for weight of Asset A\n",
        "    w_ai = np.linspace(0, 1, 100)\n",
        "    exp_return = list()\n",
        "    risk = list()\n",
        "\n",
        "    for w_a in w_ai:\n",
        "        # Expected return\n",
        "        E = w_a * r_a + (1 - w_a) * r_b\n",
        "        exp_return.append(E)\n",
        "\n",
        "        # Volatility/risk of portfolio\n",
        "        V = (w_a**2 * sd_a**2) + ((1 - w_a)**2 * sd_b**2) + (2 * rho_ab * sd_a * sd_b * w_a * (1 - w_a))\n",
        "        risk.append(V)\n",
        "\n",
        "    risk = np.array(risk)\n",
        "    exp_return = np.array(exp_return)\n",
        "    # Visualize Efficient Frontier\n",
        "    ax.plot(risk, exp_return, '.')\n",
        "    ax.set_title(\"Efficient Frontier, ρ = {}\".format(rho_ab))\n",
        "    ax.set_xlabel(\"Risk\")\n",
        "    ax.set_ylabel(\"Expected Returns\")"
      ],
      "execution_count": 10,
      "outputs": []
    },
    {
      "cell_type": "code",
      "metadata": {
        "id": "6jOnFDQAIAZi",
        "outputId": "4d36e167-dc39-432f-f804-843bd2dc4bfb",
        "colab": {
          "base_uri": "https://localhost:8080/",
          "height": 872
        }
      },
      "source": [
        "# Visualize efficient frontier for different correlation\n",
        "fig, ax = plt.subplots(2,2, figsize=(16,10))\n",
        "plot_efficient_frontier(ax=ax[0,0], rho_ab=-1)\n",
        "plot_efficient_frontier(ax=ax[0,1], rho_ab=-0.5)\n",
        "plot_efficient_frontier(ax=ax[1,0], rho_ab= 0)\n",
        "plot_efficient_frontier(ax=ax[1,1], rho_ab= 1)"
      ],
      "execution_count": 11,
      "outputs": [
        {
          "output_type": "display_data",
          "data": {
            "text/plain": [
              "<Figure size 1600x1000 with 4 Axes>"
            ],
            "image/png": "[encoded data removed]"
          },
          "metadata": {}
        }
      ]
    },
    {
      "cell_type": "markdown",
      "metadata": {
        "id": "zwJd64nyN8Ex"
      },
      "source": [
        "From the above plots, we can see four graphs of the efficient frontier trying to illustrate the relationship between the correlation and the shape of the curve.\n",
        "\n",
        "* At the bottom right-hand quadrant, the two assets are perfectly correlated, showing a straight line.\n",
        "* At the top left-hand quadrant, the assets are perfectly negatively correlated. We have this wedge-shaped here, and that represents some sort of arbitrage opportunity.\n",
        "* More generally we'll see something that looks like the ones with $\\rho = -0.5$ and $\\rho = 0$.\n",
        "\n",
        "As we play with different values of $\\rho$, we'll see that the efficient frontier will be the straight line, then it will start to bow out and keep bowing out until it finally reaches a point and turns into a wedge shape."
      ]
    },
    {
      "cell_type": "markdown",
      "metadata": {
        "id": "zEnlShuBUnAY"
      },
      "source": [
        "**Minimum Variance Portfolio**\n",
        "\n",
        "* This indicates a portfolio, comprised of risky assets, with the least amount of variance (risk).\n",
        "\n",
        "* The minimum variance portfolio can be pointed out on the efficient frontier.\n",
        "\n",
        "* The optimal minimum variance portfolio will decrease overall volatility with each investment added to it, even if the individual investments are volatile in nature."
      ]
    },
    {
      "cell_type": "markdown",
      "metadata": {
        "id": "IK-s0mdnpQ1N"
      },
      "source": [
        "**Capital Allocation Line**\n",
        "\n",
        "One thing investors often do is to combine the risky assets with something that's risk-free like a government bond and that helps to reduce the overall risk. So a complete portfolio is defined as a combination of risky asset portfolio, with return $R_p$, and the risk-free asset, with return $R_f$. So the optimal risky portfolio is found at a point where the capital allocation line is tangent to the efficient frontier.\n",
        "\n",
        "Let's look at the **equation for the capital allocation line**. The expected return of the complete portfolio is given as:\n",
        "\n",
        "$$E(r_c) = r_f + S_p \\sigma_c$$\n",
        "\n",
        "where $r_c$ is the expected return of the complete portfolio of the risk-free asset and risky portfolio,\n",
        "\n",
        "$S_p$ is the Sharpe ratio of the risky portfolio.\n",
        "\n",
        "$\\sigma_c$ is the standard deviation of the complete portfolio, which is given by $\\sigma_c = w_p * \\sigma_p + w_f * \\sigma_f$\n",
        "\n",
        "$w_p$ is the allocation in the risky portfolio and $w_f$ in the risk-free asset.\n",
        "\n",
        "Since the risk-free rate has a zero standard deviation, it's risk-free, there is no risk, $\\sigma_f = 0$, we have $\\sigma_c = w_P * \\sigma_P$."
      ]
    },
    {
      "cell_type": "markdown",
      "metadata": {
        "id": "5lVIqDAdpZJR"
      },
      "source": [
        "**Tangency Portfolio**\n",
        "\n",
        "The point where the capital allocation line touches the efficient frontier is known as the tangency portfolio. That is the point on the efficient frontier which has the greatest Sharpe ratio. The Sharpe ratio is the ratio of the expected returns over the risk. So we want more returns, less risk, and the bigger that number the better. It's geometrically represented by the slope of that line.\n",
        "\n",
        "The capital allocation line makes up a combination of risk-free assets and a risky portfolio. The point of tangency represents the point where the investor may completely invest in a risky portfolio.\n",
        "\n",
        "Let's look at a geometric representation."
      ]
    },
    {
      "cell_type": "markdown",
      "metadata": {
        "id": "bD0dRFivgtUK"
      },
      "source": [
        "**Example 6:** Let us consider an investment in a two asset portfolio.\n",
        "\n",
        "* Asset A - 12% return with 20% standard deviation\n",
        "* Asset B - 16% return with 35% standard deviation\n",
        "\n",
        "The correlation between the returns on the two assets is 0.6.\n",
        "\n",
        "Consider 12% as risk-free return, visualize the capital allocation line, minimum variance portfolio, and tangency portfolio."
      ]
    },
    {
      "cell_type": "code",
      "metadata": {
        "id": "oYsYzIn_p-U5",
        "outputId": "44460113-f119-4514-dad5-a083a531a81a",
        "colab": {
          "base_uri": "https://localhost:8080/"
        }
      },
      "source": [
        "# Risk-free return\n",
        "rf = 12\n",
        "\n",
        "# Sharpe ratios for different weight combinations\n",
        "sharpe_ratios = (exp_return_ab - rf) / risk_ab\n",
        "\n",
        "# Highest sharpe ratio\n",
        "optimal_idx = np.argmax(sharpe_ratios)\n",
        "sharpe_ratios[optimal_idx]"
      ],
      "execution_count": 12,
      "outputs": [
        {
          "output_type": "execute_result",
          "data": {
            "text/plain": [
              "np.float64(34.46118244901636)"
            ]
          },
          "metadata": {},
          "execution_count": 12
        }
      ]
    },
    {
      "cell_type": "code",
      "metadata": {
        "id": "WLWiRNbwp-U6"
      },
      "source": [
        "# Capital allocation line equation\n",
        "x = risk_ab\n",
        "y = rf + sharpe_ratios[optimal_idx] * x"
      ],
      "execution_count": 13,
      "outputs": []
    },
    {
      "cell_type": "code",
      "metadata": {
        "id": "tscccIxlp-U7",
        "outputId": "75caab33-3248-4a06-b75d-023bbc83bfe8",
        "colab": {
          "base_uri": "https://localhost:8080/",
          "height": 487
        }
      },
      "source": [
        "# Efficient frontier\n",
        "fig, ax = plt.subplots(1, figsize=(8,5))\n",
        "plot_efficient_frontier(ax=ax)\n",
        "\n",
        "# Capital allocation line\n",
        "ax.plot(x, y)\n",
        "ax.arrow(0.05, 15.4, 0.005, -1.5, width=0.00001)\n",
        "ax.text(0.045, 15.5, \"Capital Allocation Line\", fontdict={'size': 12})\n",
        "\n",
        "# Minimum variance portfolio\n",
        "ax.scatter(risk_ab[np.argmin(risk_ab)], exp_return_ab[np.argmin(risk_ab)], marker='*', color = 'r', s=200)\n",
        "ax.arrow(0.061, 12.45, -0.02, -0.45, width=0.00001)\n",
        "ax.text(0.06, 12.5, \"Minimum Variance Portfolio\", fontdict={'size': 12})\n",
        "\n",
        "# Tangency portfolio\n",
        "ax.scatter(risk_ab[optimal_idx], exp_return_ab[optimal_idx], marker='*', color='g', s=200)\n",
        "ax.arrow(0.092, 14.2, -0.008, 0.6, width=0.00001)\n",
        "ax.text(0.09, 14, \"Tangency Portfolio\", fontdict={'size': 12})\n",
        "plt.show()"
      ],
      "execution_count": 14,
      "outputs": [
        {
          "output_type": "display_data",
          "data": {
            "text/plain": [
              "<Figure size 800x500 with 1 Axes>"
            ],
            "image/png": "[encoded data removed]"
          },
          "metadata": {}
        }
      ]
    },
    {
      "cell_type": "markdown",
      "metadata": {
        "id": "fjrZPprIp-U8"
      },
      "source": [
        "From the above plot, we can see the efficient frontier along with capital allocation line, minimum variance portfolio (**red star**), and tangency portfolio (**green star**)."
      ]
    },
    {
      "cell_type": "markdown",
      "metadata": {
        "id": "ZJ2Q3-J4p-U8"
      },
      "source": [
        "We will learn more about these topics in the next assignment i.e, Module5 Assignment8."
      ]
    },
    {
      "cell_type": "markdown",
      "metadata": {
        "id": "VHfHdGCP_n6Y"
      },
      "source": [
        "### Please answer the questions below to complete the experiment:\n",
        "\n",
        "\n"
      ]
    },
    {
      "cell_type": "code",
      "metadata": {
        "id": "VgSwVENIPcM6"
      },
      "source": [
        "#@title If a portfolio contained five equally weighted assets with expected returns of 4, 6, 10, 12 and 14%, the portfolio's expected return would be: { run: \"auto\", form-width: \"500px\", display-mode: \"form\" }\n",
        "Answer = \"9.2%\" #@param [\"\", \"8.5%\", \"10.8%\", \"9.2%\"]"
      ],
      "execution_count": 15,
      "outputs": []
    },
    {
      "cell_type": "code",
      "metadata": {
        "id": "NMzKSbLIgFzQ"
      },
      "source": [
        "#@title How was the experiment? { run: \"auto\", form-width: \"500px\", display-mode: \"form\" }\n",
        "Complexity = \"Good, But Not Challenging for me\" #@param [\"\",\"Too Simple, I am wasting time\", \"Good, But Not Challenging for me\", \"Good and Challenging for me\", \"Was Tough, but I did it\", \"Too Difficult for me\"]"
      ],
      "execution_count": 16,
      "outputs": []
    },
    {
      "cell_type": "code",
      "metadata": {
        "id": "DjcH1VWSFI2l"
      },
      "source": [
        "#@title If it was too easy, what more would you have liked to be added? If it was very difficult, what would you have liked to have been removed? { run: \"auto\", display-mode: \"form\" }\n",
        "Additional = \"NA\" #@param {type:\"string\"}"
      ],
      "execution_count": 17,
      "outputs": []
    },
    {
      "cell_type": "code",
      "metadata": {
        "id": "4VBk_4VTAxCM"
      },
      "source": [
        "#@title Can you identify the concepts from the lecture which this experiment covered? { run: \"auto\", vertical-output: true, display-mode: \"form\" }\n",
        "Concepts = \"Yes\" #@param [\"\",\"Yes\", \"No\"]"
      ],
      "execution_count": 18,
      "outputs": []
    },
    {
      "cell_type": "code",
      "metadata": {
        "id": "XH91cL1JWH7m"
      },
      "source": [
        "#@title  Text and image description/explanation and code comments within the experiment: { run: \"auto\", vertical-output: true, display-mode: \"form\" }\n",
        "Comments = \"Somewhat Useful\" #@param [\"\",\"Very Useful\", \"Somewhat Useful\", \"Not Useful\", \"Didn't use\"]"
      ],
      "execution_count": 19,
      "outputs": []
    },
    {
      "cell_type": "code",
      "metadata": {
        "id": "z8xLqj7VWIKW"
      },
      "source": [
        "#@title Mentor Support: { run: \"auto\", vertical-output: true, display-mode: \"form\" }\n",
        "Mentor_support = \"Somewhat Useful\" #@param [\"\",\"Very Useful\", \"Somewhat Useful\", \"Not Useful\", \"Didn't use\"]"
      ],
      "execution_count": 20,
      "outputs": []
    },
    {
      "cell_type": "code",
      "metadata": {
        "id": "FzAZHt1zw-Y-",
        "cellView": "form",
        "outputId": "3f14b413-8595-4a8e-c92c-42484737c57e",
        "colab": {
          "base_uri": "https://localhost:8080/"
        }
      },
      "source": [
        "#@title Run this cell to submit your notebook for grading { vertical-output: true }\n",
        "try:\n",
        "  if submission_id:\n",
        "      return_id = submit_notebook()\n",
        "      if return_id : submission_id = return_id\n",
        "  else:\n",
        "      print(\"Please complete the setup first.\")\n",
        "except NameError:\n",
        "  print (\"Please complete the setup first.\")"
      ],
      "execution_count": 21,
      "outputs": [
        {
          "output_type": "stream",
          "name": "stdout",
          "text": [
            "Your submission is successful.\n",
            "Ref Id: 7144\n",
            "Date of submission:  28 Jul 2025\n",
            "Time of submission:  11:22:46\n",
            "View your submissions: https://learn-iisc.talentsprint.com/notebook_submissions\n"
          ]
        }
      ]
    }
  ]
}